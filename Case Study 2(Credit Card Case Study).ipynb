{
 "cells": [
  {
   "cell_type": "markdown",
   "metadata": {},
   "source": [
    "## Case Study 2 - Credit Card Case Study"
   ]
  },
  {
   "cell_type": "markdown",
   "metadata": {},
   "source": [
    "### Import necessary libraries"
   ]
  },
  {
   "cell_type": "code",
   "execution_count": 1,
   "metadata": {},
   "outputs": [],
   "source": [
    "import numpy as np\n",
    "import pandas as pd\n",
    "import matplotlib.pyplot as plt\n",
    "import seaborn as sns\n",
    "from datetime import datetime,timedelta"
   ]
  },
  {
   "cell_type": "markdown",
   "metadata": {},
   "source": [
    "### Import the dataset"
   ]
  },
  {
   "cell_type": "code",
   "execution_count": 2,
   "metadata": {},
   "outputs": [],
   "source": [
    "Customer_acq = pd.read_csv('E:\\Customer Acqusition.csv')\n",
    "Spend = pd.read_csv('E:\\spend.csv')\n",
    "Repayment = pd.read_csv('E:\\Repayment.csv')"
   ]
  },
  {
   "cell_type": "markdown",
   "metadata": {},
   "source": [
    "### Data Preparation"
   ]
  },
  {
   "cell_type": "code",
   "execution_count": 3,
   "metadata": {},
   "outputs": [
    {
     "data": {
      "text/html": [
       "<div>\n",
       "<style scoped>\n",
       "    .dataframe tbody tr th:only-of-type {\n",
       "        vertical-align: middle;\n",
       "    }\n",
       "\n",
       "    .dataframe tbody tr th {\n",
       "        vertical-align: top;\n",
       "    }\n",
       "\n",
       "    .dataframe thead th {\n",
       "        text-align: right;\n",
       "    }\n",
       "</style>\n",
       "<table border=\"1\" class=\"dataframe\">\n",
       "  <thead>\n",
       "    <tr style=\"text-align: right;\">\n",
       "      <th></th>\n",
       "      <th>SL No:</th>\n",
       "      <th>Customer</th>\n",
       "      <th>Month</th>\n",
       "      <th>Amount</th>\n",
       "      <th>Unnamed: 4</th>\n",
       "    </tr>\n",
       "  </thead>\n",
       "  <tbody>\n",
       "    <tr>\n",
       "      <th>0</th>\n",
       "      <td>NaN</td>\n",
       "      <td>A1</td>\n",
       "      <td>12-Jan-04</td>\n",
       "      <td>495414.75</td>\n",
       "      <td>NaN</td>\n",
       "    </tr>\n",
       "    <tr>\n",
       "      <th>1</th>\n",
       "      <td>2.0</td>\n",
       "      <td>A1</td>\n",
       "      <td>3-Jan-04</td>\n",
       "      <td>245899.02</td>\n",
       "      <td>NaN</td>\n",
       "    </tr>\n",
       "    <tr>\n",
       "      <th>2</th>\n",
       "      <td>3.0</td>\n",
       "      <td>A1</td>\n",
       "      <td>15-Jan-04</td>\n",
       "      <td>259490.06</td>\n",
       "      <td>NaN</td>\n",
       "    </tr>\n",
       "    <tr>\n",
       "      <th>3</th>\n",
       "      <td>4.0</td>\n",
       "      <td>A1</td>\n",
       "      <td>25-Jan-04</td>\n",
       "      <td>437555.12</td>\n",
       "      <td>NaN</td>\n",
       "    </tr>\n",
       "    <tr>\n",
       "      <th>4</th>\n",
       "      <td>5.0</td>\n",
       "      <td>A1</td>\n",
       "      <td>17-Jan-05</td>\n",
       "      <td>165972.88</td>\n",
       "      <td>NaN</td>\n",
       "    </tr>\n",
       "  </tbody>\n",
       "</table>\n",
       "</div>"
      ],
      "text/plain": [
       "   SL No: Customer      Month     Amount  Unnamed: 4\n",
       "0     NaN       A1  12-Jan-04  495414.75         NaN\n",
       "1     2.0       A1   3-Jan-04  245899.02         NaN\n",
       "2     3.0       A1  15-Jan-04  259490.06         NaN\n",
       "3     4.0       A1  25-Jan-04  437555.12         NaN\n",
       "4     5.0       A1  17-Jan-05  165972.88         NaN"
      ]
     },
     "execution_count": 3,
     "metadata": {},
     "output_type": "execute_result"
    }
   ],
   "source": [
    "Repayment.head()"
   ]
  },
  {
   "cell_type": "code",
   "execution_count": 4,
   "metadata": {},
   "outputs": [],
   "source": [
    "# Drop the unnamed column, SL NO: from Repayment\n",
    "Repayment.drop(['Unnamed: 4','SL No:'],axis=1,inplace=True)"
   ]
  },
  {
   "cell_type": "code",
   "execution_count": 5,
   "metadata": {},
   "outputs": [],
   "source": [
    "# Change the data type of 'Month' column from object to datetime\n",
    "Repayment['Month'] = Repayment['Month'].apply(lambda x:pd.to_datetime(x))"
   ]
  },
  {
   "cell_type": "code",
   "execution_count": 6,
   "metadata": {},
   "outputs": [
    {
     "data": {
      "text/html": [
       "<div>\n",
       "<style scoped>\n",
       "    .dataframe tbody tr th:only-of-type {\n",
       "        vertical-align: middle;\n",
       "    }\n",
       "\n",
       "    .dataframe tbody tr th {\n",
       "        vertical-align: top;\n",
       "    }\n",
       "\n",
       "    .dataframe thead th {\n",
       "        text-align: right;\n",
       "    }\n",
       "</style>\n",
       "<table border=\"1\" class=\"dataframe\">\n",
       "  <thead>\n",
       "    <tr style=\"text-align: right;\">\n",
       "      <th></th>\n",
       "      <th>Customer</th>\n",
       "      <th>Month</th>\n",
       "      <th>Amount</th>\n",
       "    </tr>\n",
       "  </thead>\n",
       "  <tbody>\n",
       "    <tr>\n",
       "      <th>1498</th>\n",
       "      <td>A70</td>\n",
       "      <td>2005-08-12</td>\n",
       "      <td>454016.51</td>\n",
       "    </tr>\n",
       "    <tr>\n",
       "      <th>1499</th>\n",
       "      <td>A71</td>\n",
       "      <td>2004-09-13</td>\n",
       "      <td>56286.33</td>\n",
       "    </tr>\n",
       "  </tbody>\n",
       "</table>\n",
       "</div>"
      ],
      "text/plain": [
       "     Customer      Month     Amount\n",
       "1498      A70 2005-08-12  454016.51\n",
       "1499      A71 2004-09-13   56286.33"
      ]
     },
     "execution_count": 6,
     "metadata": {},
     "output_type": "execute_result"
    }
   ],
   "source": [
    "# Drop the null rows\n",
    "Repayment.dropna().tail(2)"
   ]
  },
  {
   "cell_type": "code",
   "execution_count": 7,
   "metadata": {},
   "outputs": [
    {
     "data": {
      "text/html": [
       "<div>\n",
       "<style scoped>\n",
       "    .dataframe tbody tr th:only-of-type {\n",
       "        vertical-align: middle;\n",
       "    }\n",
       "\n",
       "    .dataframe tbody tr th {\n",
       "        vertical-align: top;\n",
       "    }\n",
       "\n",
       "    .dataframe thead th {\n",
       "        text-align: right;\n",
       "    }\n",
       "</style>\n",
       "<table border=\"1\" class=\"dataframe\">\n",
       "  <thead>\n",
       "    <tr style=\"text-align: right;\">\n",
       "      <th></th>\n",
       "      <th>Customer</th>\n",
       "      <th>Month</th>\n",
       "      <th>Amount</th>\n",
       "    </tr>\n",
       "  </thead>\n",
       "  <tbody>\n",
       "    <tr>\n",
       "      <th>0</th>\n",
       "      <td>A1</td>\n",
       "      <td>2004-01-12</td>\n",
       "      <td>495414.75</td>\n",
       "    </tr>\n",
       "    <tr>\n",
       "      <th>1</th>\n",
       "      <td>A1</td>\n",
       "      <td>2004-01-03</td>\n",
       "      <td>245899.02</td>\n",
       "    </tr>\n",
       "  </tbody>\n",
       "</table>\n",
       "</div>"
      ],
      "text/plain": [
       "  Customer      Month     Amount\n",
       "0       A1 2004-01-12  495414.75\n",
       "1       A1 2004-01-03  245899.02"
      ]
     },
     "execution_count": 7,
     "metadata": {},
     "output_type": "execute_result"
    }
   ],
   "source": [
    "Repayment.head(2)"
   ]
  },
  {
   "cell_type": "code",
   "execution_count": 8,
   "metadata": {},
   "outputs": [
    {
     "name": "stdout",
     "output_type": "stream",
     "text": [
      "<class 'pandas.core.frame.DataFrame'>\n",
      "RangeIndex: 1523 entries, 0 to 1522\n",
      "Data columns (total 3 columns):\n",
      " #   Column    Non-Null Count  Dtype         \n",
      "---  ------    --------------  -----         \n",
      " 0   Customer  1500 non-null   object        \n",
      " 1   Month     1500 non-null   datetime64[ns]\n",
      " 2   Amount    1500 non-null   float64       \n",
      "dtypes: datetime64[ns](1), float64(1), object(1)\n",
      "memory usage: 35.8+ KB\n"
     ]
    }
   ],
   "source": [
    "Repayment.info()"
   ]
  },
  {
   "cell_type": "code",
   "execution_count": 9,
   "metadata": {},
   "outputs": [
    {
     "data": {
      "text/html": [
       "<div>\n",
       "<style scoped>\n",
       "    .dataframe tbody tr th:only-of-type {\n",
       "        vertical-align: middle;\n",
       "    }\n",
       "\n",
       "    .dataframe tbody tr th {\n",
       "        vertical-align: top;\n",
       "    }\n",
       "\n",
       "    .dataframe thead th {\n",
       "        text-align: right;\n",
       "    }\n",
       "</style>\n",
       "<table border=\"1\" class=\"dataframe\">\n",
       "  <thead>\n",
       "    <tr style=\"text-align: right;\">\n",
       "      <th></th>\n",
       "      <th>Sl No:</th>\n",
       "      <th>Customer</th>\n",
       "      <th>Month</th>\n",
       "      <th>Type</th>\n",
       "      <th>Amount</th>\n",
       "    </tr>\n",
       "  </thead>\n",
       "  <tbody>\n",
       "    <tr>\n",
       "      <th>0</th>\n",
       "      <td>1</td>\n",
       "      <td>A1</td>\n",
       "      <td>12-Jan-04</td>\n",
       "      <td>JEWELLERY</td>\n",
       "      <td>485470.80</td>\n",
       "    </tr>\n",
       "    <tr>\n",
       "      <th>1</th>\n",
       "      <td>2</td>\n",
       "      <td>A1</td>\n",
       "      <td>3-Jan-04</td>\n",
       "      <td>PETRO</td>\n",
       "      <td>410556.13</td>\n",
       "    </tr>\n",
       "    <tr>\n",
       "      <th>2</th>\n",
       "      <td>3</td>\n",
       "      <td>A1</td>\n",
       "      <td>15-Jan-04</td>\n",
       "      <td>CLOTHES</td>\n",
       "      <td>23740.46</td>\n",
       "    </tr>\n",
       "    <tr>\n",
       "      <th>3</th>\n",
       "      <td>4</td>\n",
       "      <td>A1</td>\n",
       "      <td>25-Jan-04</td>\n",
       "      <td>FOOD</td>\n",
       "      <td>484342.47</td>\n",
       "    </tr>\n",
       "    <tr>\n",
       "      <th>4</th>\n",
       "      <td>5</td>\n",
       "      <td>A1</td>\n",
       "      <td>17-Jan-05</td>\n",
       "      <td>CAMERA</td>\n",
       "      <td>369694.07</td>\n",
       "    </tr>\n",
       "  </tbody>\n",
       "</table>\n",
       "</div>"
      ],
      "text/plain": [
       "   Sl No: Customer      Month       Type     Amount\n",
       "0       1       A1  12-Jan-04  JEWELLERY  485470.80\n",
       "1       2       A1   3-Jan-04      PETRO  410556.13\n",
       "2       3       A1  15-Jan-04    CLOTHES   23740.46\n",
       "3       4       A1  25-Jan-04       FOOD  484342.47\n",
       "4       5       A1  17-Jan-05     CAMERA  369694.07"
      ]
     },
     "execution_count": 9,
     "metadata": {},
     "output_type": "execute_result"
    }
   ],
   "source": [
    "Spend.head()"
   ]
  },
  {
   "cell_type": "code",
   "execution_count": 10,
   "metadata": {},
   "outputs": [],
   "source": [
    "# Drop the column SI No\n",
    "Spend.drop('Sl No:',axis=1,inplace=True)"
   ]
  },
  {
   "cell_type": "code",
   "execution_count": 11,
   "metadata": {},
   "outputs": [],
   "source": [
    "# Change the data type of 'Month' Column from object to datetime\n",
    "Spend['Month'] = Spend['Month'].apply(lambda x:pd.to_datetime(x))"
   ]
  },
  {
   "cell_type": "code",
   "execution_count": 12,
   "metadata": {},
   "outputs": [
    {
     "data": {
      "text/html": [
       "<div>\n",
       "<style scoped>\n",
       "    .dataframe tbody tr th:only-of-type {\n",
       "        vertical-align: middle;\n",
       "    }\n",
       "\n",
       "    .dataframe tbody tr th {\n",
       "        vertical-align: top;\n",
       "    }\n",
       "\n",
       "    .dataframe thead th {\n",
       "        text-align: right;\n",
       "    }\n",
       "</style>\n",
       "<table border=\"1\" class=\"dataframe\">\n",
       "  <thead>\n",
       "    <tr style=\"text-align: right;\">\n",
       "      <th></th>\n",
       "      <th>Customer</th>\n",
       "      <th>Month</th>\n",
       "      <th>Type</th>\n",
       "      <th>Amount</th>\n",
       "    </tr>\n",
       "  </thead>\n",
       "  <tbody>\n",
       "    <tr>\n",
       "      <th>0</th>\n",
       "      <td>A1</td>\n",
       "      <td>2004-01-12</td>\n",
       "      <td>JEWELLERY</td>\n",
       "      <td>485470.80</td>\n",
       "    </tr>\n",
       "    <tr>\n",
       "      <th>1</th>\n",
       "      <td>A1</td>\n",
       "      <td>2004-01-03</td>\n",
       "      <td>PETRO</td>\n",
       "      <td>410556.13</td>\n",
       "    </tr>\n",
       "  </tbody>\n",
       "</table>\n",
       "</div>"
      ],
      "text/plain": [
       "  Customer      Month       Type     Amount\n",
       "0       A1 2004-01-12  JEWELLERY  485470.80\n",
       "1       A1 2004-01-03      PETRO  410556.13"
      ]
     },
     "execution_count": 12,
     "metadata": {},
     "output_type": "execute_result"
    }
   ],
   "source": [
    "Spend.head(2)"
   ]
  },
  {
   "cell_type": "code",
   "execution_count": 13,
   "metadata": {},
   "outputs": [
    {
     "name": "stdout",
     "output_type": "stream",
     "text": [
      "<class 'pandas.core.frame.DataFrame'>\n",
      "RangeIndex: 1500 entries, 0 to 1499\n",
      "Data columns (total 4 columns):\n",
      " #   Column    Non-Null Count  Dtype         \n",
      "---  ------    --------------  -----         \n",
      " 0   Customer  1500 non-null   object        \n",
      " 1   Month     1500 non-null   datetime64[ns]\n",
      " 2   Type      1500 non-null   object        \n",
      " 3   Amount    1500 non-null   float64       \n",
      "dtypes: datetime64[ns](1), float64(1), object(2)\n",
      "memory usage: 47.0+ KB\n"
     ]
    }
   ],
   "source": [
    "Spend.info()"
   ]
  },
  {
   "cell_type": "code",
   "execution_count": 14,
   "metadata": {},
   "outputs": [
    {
     "data": {
      "text/html": [
       "<div>\n",
       "<style scoped>\n",
       "    .dataframe tbody tr th:only-of-type {\n",
       "        vertical-align: middle;\n",
       "    }\n",
       "\n",
       "    .dataframe tbody tr th {\n",
       "        vertical-align: top;\n",
       "    }\n",
       "\n",
       "    .dataframe thead th {\n",
       "        text-align: right;\n",
       "    }\n",
       "</style>\n",
       "<table border=\"1\" class=\"dataframe\">\n",
       "  <thead>\n",
       "    <tr style=\"text-align: right;\">\n",
       "      <th></th>\n",
       "      <th>No</th>\n",
       "      <th>Customer</th>\n",
       "      <th>Age</th>\n",
       "      <th>City</th>\n",
       "      <th>Product</th>\n",
       "      <th>Limit</th>\n",
       "      <th>Company</th>\n",
       "      <th>Segment</th>\n",
       "    </tr>\n",
       "  </thead>\n",
       "  <tbody>\n",
       "    <tr>\n",
       "      <th>0</th>\n",
       "      <td>1</td>\n",
       "      <td>A1</td>\n",
       "      <td>76</td>\n",
       "      <td>BANGALORE</td>\n",
       "      <td>Gold</td>\n",
       "      <td>500000.0</td>\n",
       "      <td>C1</td>\n",
       "      <td>Self Employed</td>\n",
       "    </tr>\n",
       "    <tr>\n",
       "      <th>1</th>\n",
       "      <td>2</td>\n",
       "      <td>A2</td>\n",
       "      <td>71</td>\n",
       "      <td>CALCUTTA</td>\n",
       "      <td>Silver</td>\n",
       "      <td>100000.0</td>\n",
       "      <td>C2</td>\n",
       "      <td>Salaried_MNC</td>\n",
       "    </tr>\n",
       "    <tr>\n",
       "      <th>2</th>\n",
       "      <td>3</td>\n",
       "      <td>A3</td>\n",
       "      <td>34</td>\n",
       "      <td>COCHIN</td>\n",
       "      <td>Platimum</td>\n",
       "      <td>10000.0</td>\n",
       "      <td>C3</td>\n",
       "      <td>Salaried_Pvt</td>\n",
       "    </tr>\n",
       "    <tr>\n",
       "      <th>3</th>\n",
       "      <td>4</td>\n",
       "      <td>A4</td>\n",
       "      <td>47</td>\n",
       "      <td>BOMBAY</td>\n",
       "      <td>Platimum</td>\n",
       "      <td>10001.0</td>\n",
       "      <td>C4</td>\n",
       "      <td>Govt</td>\n",
       "    </tr>\n",
       "    <tr>\n",
       "      <th>4</th>\n",
       "      <td>5</td>\n",
       "      <td>A5</td>\n",
       "      <td>56</td>\n",
       "      <td>BANGALORE</td>\n",
       "      <td>Platimum</td>\n",
       "      <td>10002.0</td>\n",
       "      <td>C5</td>\n",
       "      <td>Normal Salary</td>\n",
       "    </tr>\n",
       "  </tbody>\n",
       "</table>\n",
       "</div>"
      ],
      "text/plain": [
       "   No Customer  Age       City   Product     Limit Company        Segment\n",
       "0   1       A1   76  BANGALORE      Gold  500000.0      C1  Self Employed\n",
       "1   2       A2   71   CALCUTTA    Silver  100000.0      C2   Salaried_MNC\n",
       "2   3       A3   34     COCHIN  Platimum   10000.0      C3   Salaried_Pvt\n",
       "3   4       A4   47     BOMBAY  Platimum   10001.0      C4           Govt\n",
       "4   5       A5   56  BANGALORE  Platimum   10002.0      C5  Normal Salary"
      ]
     },
     "execution_count": 14,
     "metadata": {},
     "output_type": "execute_result"
    }
   ],
   "source": [
    "Customer_acq.head()"
   ]
  },
  {
   "cell_type": "code",
   "execution_count": 15,
   "metadata": {},
   "outputs": [],
   "source": [
    "# Drop the No Column\n",
    "Customer_acq.drop('No',axis=1,inplace=True)"
   ]
  },
  {
   "cell_type": "code",
   "execution_count": 16,
   "metadata": {},
   "outputs": [
    {
     "data": {
      "text/html": [
       "<div>\n",
       "<style scoped>\n",
       "    .dataframe tbody tr th:only-of-type {\n",
       "        vertical-align: middle;\n",
       "    }\n",
       "\n",
       "    .dataframe tbody tr th {\n",
       "        vertical-align: top;\n",
       "    }\n",
       "\n",
       "    .dataframe thead th {\n",
       "        text-align: right;\n",
       "    }\n",
       "</style>\n",
       "<table border=\"1\" class=\"dataframe\">\n",
       "  <thead>\n",
       "    <tr style=\"text-align: right;\">\n",
       "      <th></th>\n",
       "      <th>Customer</th>\n",
       "      <th>Age</th>\n",
       "      <th>City</th>\n",
       "      <th>Product</th>\n",
       "      <th>Limit</th>\n",
       "      <th>Company</th>\n",
       "      <th>Segment</th>\n",
       "    </tr>\n",
       "  </thead>\n",
       "  <tbody>\n",
       "    <tr>\n",
       "      <th>0</th>\n",
       "      <td>A1</td>\n",
       "      <td>76</td>\n",
       "      <td>BANGALORE</td>\n",
       "      <td>Gold</td>\n",
       "      <td>500000.0</td>\n",
       "      <td>C1</td>\n",
       "      <td>Self Employed</td>\n",
       "    </tr>\n",
       "    <tr>\n",
       "      <th>1</th>\n",
       "      <td>A2</td>\n",
       "      <td>71</td>\n",
       "      <td>CALCUTTA</td>\n",
       "      <td>Silver</td>\n",
       "      <td>100000.0</td>\n",
       "      <td>C2</td>\n",
       "      <td>Salaried_MNC</td>\n",
       "    </tr>\n",
       "  </tbody>\n",
       "</table>\n",
       "</div>"
      ],
      "text/plain": [
       "  Customer  Age       City Product     Limit Company        Segment\n",
       "0       A1   76  BANGALORE    Gold  500000.0      C1  Self Employed\n",
       "1       A2   71   CALCUTTA  Silver  100000.0      C2   Salaried_MNC"
      ]
     },
     "execution_count": 16,
     "metadata": {},
     "output_type": "execute_result"
    }
   ],
   "source": [
    "Customer_acq.head(2)"
   ]
  },
  {
   "cell_type": "code",
   "execution_count": 17,
   "metadata": {
    "scrolled": true
   },
   "outputs": [
    {
     "name": "stdout",
     "output_type": "stream",
     "text": [
      "<class 'pandas.core.frame.DataFrame'>\n",
      "RangeIndex: 100 entries, 0 to 99\n",
      "Data columns (total 7 columns):\n",
      " #   Column    Non-Null Count  Dtype  \n",
      "---  ------    --------------  -----  \n",
      " 0   Customer  100 non-null    object \n",
      " 1   Age       100 non-null    int64  \n",
      " 2   City      100 non-null    object \n",
      " 3   Product   100 non-null    object \n",
      " 4   Limit     100 non-null    float64\n",
      " 5   Company   100 non-null    object \n",
      " 6   Segment   100 non-null    object \n",
      "dtypes: float64(1), int64(1), object(5)\n",
      "memory usage: 5.6+ KB\n"
     ]
    }
   ],
   "source": [
    "Customer_acq.info()"
   ]
  },
  {
   "cell_type": "markdown",
   "metadata": {},
   "source": [
    "### Q1. In the above dataset,"
   ]
  },
  {
   "cell_type": "markdown",
   "metadata": {},
   "source": [
    "### a) In case age is less than 18, replace it with mean of age values."
   ]
  },
  {
   "cell_type": "code",
   "execution_count": 18,
   "metadata": {},
   "outputs": [
    {
     "data": {
      "text/plain": [
       "46"
      ]
     },
     "execution_count": 18,
     "metadata": {},
     "output_type": "execute_result"
    }
   ],
   "source": [
    "round(Customer_acq.Age.mean())"
   ]
  },
  {
   "cell_type": "code",
   "execution_count": 19,
   "metadata": {},
   "outputs": [],
   "source": [
    "Customer_acq.loc[(Customer_acq.Age<18),'Age'] = round(Customer_acq.Age.mean())"
   ]
  },
  {
   "cell_type": "code",
   "execution_count": 20,
   "metadata": {},
   "outputs": [
    {
     "data": {
      "text/html": [
       "<div>\n",
       "<style scoped>\n",
       "    .dataframe tbody tr th:only-of-type {\n",
       "        vertical-align: middle;\n",
       "    }\n",
       "\n",
       "    .dataframe tbody tr th {\n",
       "        vertical-align: top;\n",
       "    }\n",
       "\n",
       "    .dataframe thead th {\n",
       "        text-align: right;\n",
       "    }\n",
       "</style>\n",
       "<table border=\"1\" class=\"dataframe\">\n",
       "  <thead>\n",
       "    <tr style=\"text-align: right;\">\n",
       "      <th></th>\n",
       "      <th>Customer</th>\n",
       "      <th>Age</th>\n",
       "      <th>City</th>\n",
       "      <th>Product</th>\n",
       "      <th>Limit</th>\n",
       "      <th>Company</th>\n",
       "      <th>Segment</th>\n",
       "    </tr>\n",
       "  </thead>\n",
       "  <tbody>\n",
       "    <tr>\n",
       "      <th>13</th>\n",
       "      <td>A14</td>\n",
       "      <td>46</td>\n",
       "      <td>BANGALORE</td>\n",
       "      <td>Gold</td>\n",
       "      <td>500000.0</td>\n",
       "      <td>C14</td>\n",
       "      <td>Salaried_Pvt</td>\n",
       "    </tr>\n",
       "    <tr>\n",
       "      <th>40</th>\n",
       "      <td>A41</td>\n",
       "      <td>46</td>\n",
       "      <td>COCHIN</td>\n",
       "      <td>Platimum</td>\n",
       "      <td>500000.0</td>\n",
       "      <td>C23</td>\n",
       "      <td>Govt</td>\n",
       "    </tr>\n",
       "    <tr>\n",
       "      <th>53</th>\n",
       "      <td>A54</td>\n",
       "      <td>46</td>\n",
       "      <td>COCHIN</td>\n",
       "      <td>Platimum</td>\n",
       "      <td>500000.0</td>\n",
       "      <td>C16</td>\n",
       "      <td>Normal Salary</td>\n",
       "    </tr>\n",
       "    <tr>\n",
       "      <th>62</th>\n",
       "      <td>A63</td>\n",
       "      <td>46</td>\n",
       "      <td>BANGALORE</td>\n",
       "      <td>Gold</td>\n",
       "      <td>500000.0</td>\n",
       "      <td>C25</td>\n",
       "      <td>Self Employed</td>\n",
       "    </tr>\n",
       "    <tr>\n",
       "      <th>67</th>\n",
       "      <td>A68</td>\n",
       "      <td>46</td>\n",
       "      <td>TRIVANDRUM</td>\n",
       "      <td>Silver</td>\n",
       "      <td>100000.0</td>\n",
       "      <td>C30</td>\n",
       "      <td>Self Employed</td>\n",
       "    </tr>\n",
       "    <tr>\n",
       "      <th>69</th>\n",
       "      <td>A70</td>\n",
       "      <td>46</td>\n",
       "      <td>BOMBAY</td>\n",
       "      <td>Platimum</td>\n",
       "      <td>10001.0</td>\n",
       "      <td>C32</td>\n",
       "      <td>Self Employed</td>\n",
       "    </tr>\n",
       "    <tr>\n",
       "      <th>89</th>\n",
       "      <td>A90</td>\n",
       "      <td>46</td>\n",
       "      <td>COCHIN</td>\n",
       "      <td>Gold</td>\n",
       "      <td>500000.0</td>\n",
       "      <td>C13</td>\n",
       "      <td>Govt</td>\n",
       "    </tr>\n",
       "  </tbody>\n",
       "</table>\n",
       "</div>"
      ],
      "text/plain": [
       "   Customer  Age        City   Product     Limit Company        Segment\n",
       "13      A14   46   BANGALORE      Gold  500000.0     C14   Salaried_Pvt\n",
       "40      A41   46      COCHIN  Platimum  500000.0     C23           Govt\n",
       "53      A54   46      COCHIN  Platimum  500000.0     C16  Normal Salary\n",
       "62      A63   46   BANGALORE      Gold  500000.0     C25  Self Employed\n",
       "67      A68   46  TRIVANDRUM    Silver  100000.0     C30  Self Employed\n",
       "69      A70   46      BOMBAY  Platimum   10001.0     C32  Self Employed\n",
       "89      A90   46      COCHIN      Gold  500000.0     C13           Govt"
      ]
     },
     "execution_count": 20,
     "metadata": {},
     "output_type": "execute_result"
    }
   ],
   "source": [
    "Customer_acq.loc[Customer_acq.Age==46,:]"
   ]
  },
  {
   "cell_type": "markdown",
   "metadata": {},
   "source": [
    "### b) In case spend amount is more than the limit, replace it with 50% of that customer's limit. (Customer's limit provided in the acquisition table is the per transaction limit on his card)"
   ]
  },
  {
   "cell_type": "code",
   "execution_count": 21,
   "metadata": {},
   "outputs": [
    {
     "data": {
      "text/html": [
       "<div>\n",
       "<style scoped>\n",
       "    .dataframe tbody tr th:only-of-type {\n",
       "        vertical-align: middle;\n",
       "    }\n",
       "\n",
       "    .dataframe tbody tr th {\n",
       "        vertical-align: top;\n",
       "    }\n",
       "\n",
       "    .dataframe thead th {\n",
       "        text-align: right;\n",
       "    }\n",
       "</style>\n",
       "<table border=\"1\" class=\"dataframe\">\n",
       "  <thead>\n",
       "    <tr style=\"text-align: right;\">\n",
       "      <th></th>\n",
       "      <th>Customer</th>\n",
       "      <th>Age</th>\n",
       "      <th>City</th>\n",
       "      <th>Product</th>\n",
       "      <th>Limit</th>\n",
       "      <th>Company</th>\n",
       "      <th>Segment</th>\n",
       "      <th>Month</th>\n",
       "      <th>Type</th>\n",
       "      <th>Amount</th>\n",
       "    </tr>\n",
       "  </thead>\n",
       "  <tbody>\n",
       "    <tr>\n",
       "      <th>1495</th>\n",
       "      <td>A96</td>\n",
       "      <td>54</td>\n",
       "      <td>CHENNAI</td>\n",
       "      <td>Silver</td>\n",
       "      <td>100000.0</td>\n",
       "      <td>C19</td>\n",
       "      <td>Salaried_Pvt</td>\n",
       "      <td>2004-01-25</td>\n",
       "      <td>BIKE</td>\n",
       "      <td>54729.66</td>\n",
       "    </tr>\n",
       "    <tr>\n",
       "      <th>1496</th>\n",
       "      <td>A97</td>\n",
       "      <td>58</td>\n",
       "      <td>TRIVANDRUM</td>\n",
       "      <td>Platimum</td>\n",
       "      <td>10000.0</td>\n",
       "      <td>C20</td>\n",
       "      <td>Govt</td>\n",
       "      <td>2004-01-12</td>\n",
       "      <td>AUTO</td>\n",
       "      <td>139018.26</td>\n",
       "    </tr>\n",
       "    <tr>\n",
       "      <th>1497</th>\n",
       "      <td>A98</td>\n",
       "      <td>51</td>\n",
       "      <td>CALCUTTA</td>\n",
       "      <td>Platimum</td>\n",
       "      <td>10001.0</td>\n",
       "      <td>C21</td>\n",
       "      <td>Normal Salary</td>\n",
       "      <td>2004-01-03</td>\n",
       "      <td>SHOPPING</td>\n",
       "      <td>284521.06</td>\n",
       "    </tr>\n",
       "    <tr>\n",
       "      <th>1498</th>\n",
       "      <td>A99</td>\n",
       "      <td>35</td>\n",
       "      <td>CALCUTTA</td>\n",
       "      <td>Platimum</td>\n",
       "      <td>10002.0</td>\n",
       "      <td>C22</td>\n",
       "      <td>Self Employed</td>\n",
       "      <td>2004-01-15</td>\n",
       "      <td>AIR TICKET</td>\n",
       "      <td>90184.22</td>\n",
       "    </tr>\n",
       "    <tr>\n",
       "      <th>1499</th>\n",
       "      <td>A100</td>\n",
       "      <td>36</td>\n",
       "      <td>COCHIN</td>\n",
       "      <td>Silver</td>\n",
       "      <td>100000.0</td>\n",
       "      <td>C5</td>\n",
       "      <td>Salaried_MNC</td>\n",
       "      <td>2004-01-25</td>\n",
       "      <td>BUS TICKET</td>\n",
       "      <td>224786.88</td>\n",
       "    </tr>\n",
       "  </tbody>\n",
       "</table>\n",
       "</div>"
      ],
      "text/plain": [
       "     Customer  Age        City   Product     Limit Company        Segment  \\\n",
       "1495      A96   54     CHENNAI    Silver  100000.0     C19   Salaried_Pvt   \n",
       "1496      A97   58  TRIVANDRUM  Platimum   10000.0     C20           Govt   \n",
       "1497      A98   51    CALCUTTA  Platimum   10001.0     C21  Normal Salary   \n",
       "1498      A99   35    CALCUTTA  Platimum   10002.0     C22  Self Employed   \n",
       "1499     A100   36      COCHIN    Silver  100000.0      C5   Salaried_MNC   \n",
       "\n",
       "          Month        Type     Amount  \n",
       "1495 2004-01-25        BIKE   54729.66  \n",
       "1496 2004-01-12        AUTO  139018.26  \n",
       "1497 2004-01-03    SHOPPING  284521.06  \n",
       "1498 2004-01-15  AIR TICKET   90184.22  \n",
       "1499 2004-01-25  BUS TICKET  224786.88  "
      ]
     },
     "execution_count": 21,
     "metadata": {},
     "output_type": "execute_result"
    }
   ],
   "source": [
    "Customer_Spend_Transaction = pd.merge(left = Customer_acq, right = Spend, on='Customer')\n",
    "Customer_Spend_Transaction.tail()"
   ]
  },
  {
   "cell_type": "code",
   "execution_count": 22,
   "metadata": {},
   "outputs": [
    {
     "data": {
      "text/html": [
       "<div>\n",
       "<style scoped>\n",
       "    .dataframe tbody tr th:only-of-type {\n",
       "        vertical-align: middle;\n",
       "    }\n",
       "\n",
       "    .dataframe tbody tr th {\n",
       "        vertical-align: top;\n",
       "    }\n",
       "\n",
       "    .dataframe thead th {\n",
       "        text-align: right;\n",
       "    }\n",
       "</style>\n",
       "<table border=\"1\" class=\"dataframe\">\n",
       "  <thead>\n",
       "    <tr style=\"text-align: right;\">\n",
       "      <th></th>\n",
       "      <th>Customer</th>\n",
       "      <th>Age</th>\n",
       "      <th>City</th>\n",
       "      <th>Product</th>\n",
       "      <th>Limit</th>\n",
       "      <th>Company</th>\n",
       "      <th>Segment</th>\n",
       "      <th>Month</th>\n",
       "      <th>Type</th>\n",
       "      <th>Amount</th>\n",
       "    </tr>\n",
       "  </thead>\n",
       "  <tbody>\n",
       "    <tr>\n",
       "      <th>1495</th>\n",
       "      <td>A96</td>\n",
       "      <td>54</td>\n",
       "      <td>CHENNAI</td>\n",
       "      <td>Silver</td>\n",
       "      <td>100000.0</td>\n",
       "      <td>C19</td>\n",
       "      <td>Salaried_Pvt</td>\n",
       "      <td>2004-01-25</td>\n",
       "      <td>BIKE</td>\n",
       "      <td>54729.66</td>\n",
       "    </tr>\n",
       "    <tr>\n",
       "      <th>1496</th>\n",
       "      <td>A97</td>\n",
       "      <td>58</td>\n",
       "      <td>TRIVANDRUM</td>\n",
       "      <td>Platimum</td>\n",
       "      <td>10000.0</td>\n",
       "      <td>C20</td>\n",
       "      <td>Govt</td>\n",
       "      <td>2004-01-12</td>\n",
       "      <td>AUTO</td>\n",
       "      <td>5000.00</td>\n",
       "    </tr>\n",
       "    <tr>\n",
       "      <th>1497</th>\n",
       "      <td>A98</td>\n",
       "      <td>51</td>\n",
       "      <td>CALCUTTA</td>\n",
       "      <td>Platimum</td>\n",
       "      <td>10001.0</td>\n",
       "      <td>C21</td>\n",
       "      <td>Normal Salary</td>\n",
       "      <td>2004-01-03</td>\n",
       "      <td>SHOPPING</td>\n",
       "      <td>5000.50</td>\n",
       "    </tr>\n",
       "    <tr>\n",
       "      <th>1498</th>\n",
       "      <td>A99</td>\n",
       "      <td>35</td>\n",
       "      <td>CALCUTTA</td>\n",
       "      <td>Platimum</td>\n",
       "      <td>10002.0</td>\n",
       "      <td>C22</td>\n",
       "      <td>Self Employed</td>\n",
       "      <td>2004-01-15</td>\n",
       "      <td>AIR TICKET</td>\n",
       "      <td>5001.00</td>\n",
       "    </tr>\n",
       "    <tr>\n",
       "      <th>1499</th>\n",
       "      <td>A100</td>\n",
       "      <td>36</td>\n",
       "      <td>COCHIN</td>\n",
       "      <td>Silver</td>\n",
       "      <td>100000.0</td>\n",
       "      <td>C5</td>\n",
       "      <td>Salaried_MNC</td>\n",
       "      <td>2004-01-25</td>\n",
       "      <td>BUS TICKET</td>\n",
       "      <td>50000.00</td>\n",
       "    </tr>\n",
       "  </tbody>\n",
       "</table>\n",
       "</div>"
      ],
      "text/plain": [
       "     Customer  Age        City   Product     Limit Company        Segment  \\\n",
       "1495      A96   54     CHENNAI    Silver  100000.0     C19   Salaried_Pvt   \n",
       "1496      A97   58  TRIVANDRUM  Platimum   10000.0     C20           Govt   \n",
       "1497      A98   51    CALCUTTA  Platimum   10001.0     C21  Normal Salary   \n",
       "1498      A99   35    CALCUTTA  Platimum   10002.0     C22  Self Employed   \n",
       "1499     A100   36      COCHIN    Silver  100000.0      C5   Salaried_MNC   \n",
       "\n",
       "          Month        Type    Amount  \n",
       "1495 2004-01-25        BIKE  54729.66  \n",
       "1496 2004-01-12        AUTO   5000.00  \n",
       "1497 2004-01-03    SHOPPING   5000.50  \n",
       "1498 2004-01-15  AIR TICKET   5001.00  \n",
       "1499 2004-01-25  BUS TICKET  50000.00  "
      ]
     },
     "execution_count": 22,
     "metadata": {},
     "output_type": "execute_result"
    }
   ],
   "source": [
    "Customer_Spend_Transaction['Amount'] = np.where(Customer_Spend_Transaction.Amount > Customer_Spend_Transaction.Limit,\n",
    "                                              Customer_Spend_Transaction.Limit/2, Customer_Spend_Transaction.Amount)\n",
    "Customer_Spend_Transaction.tail()"
   ]
  },
  {
   "cell_type": "markdown",
   "metadata": {},
   "source": [
    "### c) In case the repayment amount is more than the limit, replace the repament with the limit."
   ]
  },
  {
   "cell_type": "code",
   "execution_count": 23,
   "metadata": {},
   "outputs": [
    {
     "data": {
      "text/html": [
       "<div>\n",
       "<style scoped>\n",
       "    .dataframe tbody tr th:only-of-type {\n",
       "        vertical-align: middle;\n",
       "    }\n",
       "\n",
       "    .dataframe tbody tr th {\n",
       "        vertical-align: top;\n",
       "    }\n",
       "\n",
       "    .dataframe thead th {\n",
       "        text-align: right;\n",
       "    }\n",
       "</style>\n",
       "<table border=\"1\" class=\"dataframe\">\n",
       "  <thead>\n",
       "    <tr style=\"text-align: right;\">\n",
       "      <th></th>\n",
       "      <th>Customer</th>\n",
       "      <th>Age</th>\n",
       "      <th>City</th>\n",
       "      <th>Product</th>\n",
       "      <th>Limit</th>\n",
       "      <th>Company</th>\n",
       "      <th>Segment</th>\n",
       "      <th>Month</th>\n",
       "      <th>Amount</th>\n",
       "    </tr>\n",
       "  </thead>\n",
       "  <tbody>\n",
       "    <tr>\n",
       "      <th>1495</th>\n",
       "      <td>A96</td>\n",
       "      <td>54</td>\n",
       "      <td>CHENNAI</td>\n",
       "      <td>Silver</td>\n",
       "      <td>100000.0</td>\n",
       "      <td>C19</td>\n",
       "      <td>Salaried_Pvt</td>\n",
       "      <td>2004-01-25</td>\n",
       "      <td>310992.30</td>\n",
       "    </tr>\n",
       "    <tr>\n",
       "      <th>1496</th>\n",
       "      <td>A97</td>\n",
       "      <td>58</td>\n",
       "      <td>TRIVANDRUM</td>\n",
       "      <td>Platimum</td>\n",
       "      <td>10000.0</td>\n",
       "      <td>C20</td>\n",
       "      <td>Govt</td>\n",
       "      <td>2004-01-12</td>\n",
       "      <td>121874.90</td>\n",
       "    </tr>\n",
       "    <tr>\n",
       "      <th>1497</th>\n",
       "      <td>A98</td>\n",
       "      <td>51</td>\n",
       "      <td>CALCUTTA</td>\n",
       "      <td>Platimum</td>\n",
       "      <td>10001.0</td>\n",
       "      <td>C21</td>\n",
       "      <td>Normal Salary</td>\n",
       "      <td>2004-01-03</td>\n",
       "      <td>337815.57</td>\n",
       "    </tr>\n",
       "    <tr>\n",
       "      <th>1498</th>\n",
       "      <td>A99</td>\n",
       "      <td>35</td>\n",
       "      <td>CALCUTTA</td>\n",
       "      <td>Platimum</td>\n",
       "      <td>10002.0</td>\n",
       "      <td>C22</td>\n",
       "      <td>Self Employed</td>\n",
       "      <td>2004-01-15</td>\n",
       "      <td>25682.73</td>\n",
       "    </tr>\n",
       "    <tr>\n",
       "      <th>1499</th>\n",
       "      <td>A100</td>\n",
       "      <td>36</td>\n",
       "      <td>COCHIN</td>\n",
       "      <td>Silver</td>\n",
       "      <td>100000.0</td>\n",
       "      <td>C5</td>\n",
       "      <td>Salaried_MNC</td>\n",
       "      <td>2004-01-25</td>\n",
       "      <td>69551.19</td>\n",
       "    </tr>\n",
       "  </tbody>\n",
       "</table>\n",
       "</div>"
      ],
      "text/plain": [
       "     Customer  Age        City   Product     Limit Company        Segment  \\\n",
       "1495      A96   54     CHENNAI    Silver  100000.0     C19   Salaried_Pvt   \n",
       "1496      A97   58  TRIVANDRUM  Platimum   10000.0     C20           Govt   \n",
       "1497      A98   51    CALCUTTA  Platimum   10001.0     C21  Normal Salary   \n",
       "1498      A99   35    CALCUTTA  Platimum   10002.0     C22  Self Employed   \n",
       "1499     A100   36      COCHIN    Silver  100000.0      C5   Salaried_MNC   \n",
       "\n",
       "          Month     Amount  \n",
       "1495 2004-01-25  310992.30  \n",
       "1496 2004-01-12  121874.90  \n",
       "1497 2004-01-03  337815.57  \n",
       "1498 2004-01-15   25682.73  \n",
       "1499 2004-01-25   69551.19  "
      ]
     },
     "execution_count": 23,
     "metadata": {},
     "output_type": "execute_result"
    }
   ],
   "source": [
    "Customer_Repayment_Transaction = pd.merge(left = Customer_acq, right = Repayment, on = 'Customer')\n",
    "Customer_Repayment_Transaction.tail()"
   ]
  },
  {
   "cell_type": "code",
   "execution_count": 24,
   "metadata": {},
   "outputs": [
    {
     "data": {
      "text/html": [
       "<div>\n",
       "<style scoped>\n",
       "    .dataframe tbody tr th:only-of-type {\n",
       "        vertical-align: middle;\n",
       "    }\n",
       "\n",
       "    .dataframe tbody tr th {\n",
       "        vertical-align: top;\n",
       "    }\n",
       "\n",
       "    .dataframe thead th {\n",
       "        text-align: right;\n",
       "    }\n",
       "</style>\n",
       "<table border=\"1\" class=\"dataframe\">\n",
       "  <thead>\n",
       "    <tr style=\"text-align: right;\">\n",
       "      <th></th>\n",
       "      <th>Customer</th>\n",
       "      <th>Age</th>\n",
       "      <th>City</th>\n",
       "      <th>Product</th>\n",
       "      <th>Limit</th>\n",
       "      <th>Company</th>\n",
       "      <th>Segment</th>\n",
       "      <th>Month</th>\n",
       "      <th>Amount</th>\n",
       "    </tr>\n",
       "  </thead>\n",
       "  <tbody>\n",
       "    <tr>\n",
       "      <th>1495</th>\n",
       "      <td>A96</td>\n",
       "      <td>54</td>\n",
       "      <td>CHENNAI</td>\n",
       "      <td>Silver</td>\n",
       "      <td>100000.0</td>\n",
       "      <td>C19</td>\n",
       "      <td>Salaried_Pvt</td>\n",
       "      <td>2004-01-25</td>\n",
       "      <td>100000.00</td>\n",
       "    </tr>\n",
       "    <tr>\n",
       "      <th>1496</th>\n",
       "      <td>A97</td>\n",
       "      <td>58</td>\n",
       "      <td>TRIVANDRUM</td>\n",
       "      <td>Platimum</td>\n",
       "      <td>10000.0</td>\n",
       "      <td>C20</td>\n",
       "      <td>Govt</td>\n",
       "      <td>2004-01-12</td>\n",
       "      <td>10000.00</td>\n",
       "    </tr>\n",
       "    <tr>\n",
       "      <th>1497</th>\n",
       "      <td>A98</td>\n",
       "      <td>51</td>\n",
       "      <td>CALCUTTA</td>\n",
       "      <td>Platimum</td>\n",
       "      <td>10001.0</td>\n",
       "      <td>C21</td>\n",
       "      <td>Normal Salary</td>\n",
       "      <td>2004-01-03</td>\n",
       "      <td>10001.00</td>\n",
       "    </tr>\n",
       "    <tr>\n",
       "      <th>1498</th>\n",
       "      <td>A99</td>\n",
       "      <td>35</td>\n",
       "      <td>CALCUTTA</td>\n",
       "      <td>Platimum</td>\n",
       "      <td>10002.0</td>\n",
       "      <td>C22</td>\n",
       "      <td>Self Employed</td>\n",
       "      <td>2004-01-15</td>\n",
       "      <td>10002.00</td>\n",
       "    </tr>\n",
       "    <tr>\n",
       "      <th>1499</th>\n",
       "      <td>A100</td>\n",
       "      <td>36</td>\n",
       "      <td>COCHIN</td>\n",
       "      <td>Silver</td>\n",
       "      <td>100000.0</td>\n",
       "      <td>C5</td>\n",
       "      <td>Salaried_MNC</td>\n",
       "      <td>2004-01-25</td>\n",
       "      <td>69551.19</td>\n",
       "    </tr>\n",
       "  </tbody>\n",
       "</table>\n",
       "</div>"
      ],
      "text/plain": [
       "     Customer  Age        City   Product     Limit Company        Segment  \\\n",
       "1495      A96   54     CHENNAI    Silver  100000.0     C19   Salaried_Pvt   \n",
       "1496      A97   58  TRIVANDRUM  Platimum   10000.0     C20           Govt   \n",
       "1497      A98   51    CALCUTTA  Platimum   10001.0     C21  Normal Salary   \n",
       "1498      A99   35    CALCUTTA  Platimum   10002.0     C22  Self Employed   \n",
       "1499     A100   36      COCHIN    Silver  100000.0      C5   Salaried_MNC   \n",
       "\n",
       "          Month     Amount  \n",
       "1495 2004-01-25  100000.00  \n",
       "1496 2004-01-12   10000.00  \n",
       "1497 2004-01-03   10001.00  \n",
       "1498 2004-01-15   10002.00  \n",
       "1499 2004-01-25   69551.19  "
      ]
     },
     "execution_count": 24,
     "metadata": {},
     "output_type": "execute_result"
    }
   ],
   "source": [
    "Customer_Repayment_Transaction['Amount'] = np.where(Customer_Repayment_Transaction.Amount > Customer_Repayment_Transaction.Limit\n",
    "                                           ,Customer_Repayment_Transaction.Limit, Customer_Repayment_Transaction.Amount)\n",
    "Customer_Repayment_Transaction.tail()"
   ]
  },
  {
   "cell_type": "markdown",
   "metadata": {},
   "source": [
    "### Q2. From the above dataset, create the following summaries:"
   ]
  },
  {
   "cell_type": "markdown",
   "metadata": {},
   "source": [
    "### a) How many distinct Customers exist?"
   ]
  },
  {
   "cell_type": "code",
   "execution_count": 25,
   "metadata": {},
   "outputs": [
    {
     "data": {
      "text/plain": [
       "100"
      ]
     },
     "execution_count": 25,
     "metadata": {},
     "output_type": "execute_result"
    }
   ],
   "source": [
    "Customer_Spend_Transaction['Customer'].drop_duplicates().count()"
   ]
  },
  {
   "cell_type": "code",
   "execution_count": 26,
   "metadata": {},
   "outputs": [
    {
     "data": {
      "text/plain": [
       "100"
      ]
     },
     "execution_count": 26,
     "metadata": {},
     "output_type": "execute_result"
    }
   ],
   "source": [
    "Customer_Repayment_Transaction['Customer'].drop_duplicates().count()"
   ]
  },
  {
   "cell_type": "markdown",
   "metadata": {},
   "source": [
    "##### The count of distinct customers is 100."
   ]
  },
  {
   "cell_type": "markdown",
   "metadata": {},
   "source": [
    "### b) How many distinct categories exist?"
   ]
  },
  {
   "cell_type": "code",
   "execution_count": 27,
   "metadata": {},
   "outputs": [
    {
     "data": {
      "text/plain": [
       "0         Gold\n",
       "18      Silver\n",
       "29    Platimum\n",
       "Name: Product, dtype: object"
      ]
     },
     "execution_count": 27,
     "metadata": {},
     "output_type": "execute_result"
    }
   ],
   "source": [
    "Customer_Spend_Transaction['Product'].drop_duplicates()"
   ]
  },
  {
   "cell_type": "code",
   "execution_count": 28,
   "metadata": {},
   "outputs": [
    {
     "data": {
      "text/plain": [
       "3"
      ]
     },
     "execution_count": 28,
     "metadata": {},
     "output_type": "execute_result"
    }
   ],
   "source": [
    "Customer_Spend_Transaction['Product'].drop_duplicates().count()"
   ]
  },
  {
   "cell_type": "markdown",
   "metadata": {},
   "source": [
    "##### There are 3 distinct categories and they are Gold, Silver and Platinum"
   ]
  },
  {
   "cell_type": "markdown",
   "metadata": {},
   "source": [
    "### c) What is the average monthly spend by customers? "
   ]
  },
  {
   "cell_type": "code",
   "execution_count": 29,
   "metadata": {},
   "outputs": [],
   "source": [
    "Customer_Spend_Amount = Customer_Spend_Transaction.groupby(['Customer','Month'])[['Amount']].mean().reset_index()"
   ]
  },
  {
   "cell_type": "code",
   "execution_count": 30,
   "metadata": {},
   "outputs": [],
   "source": [
    "Customer_Spend_Amount['Spend_Month'] = Customer_Spend_Amount['Month'].apply(lambda x:x.month)"
   ]
  },
  {
   "cell_type": "code",
   "execution_count": 31,
   "metadata": {},
   "outputs": [],
   "source": [
    "Avg_Monthly_Spent = Customer_Spend_Amount.groupby(['Customer','Spend_Month'])[['Amount']].mean().add_prefix('Avg_').reset_index()"
   ]
  },
  {
   "cell_type": "code",
   "execution_count": 32,
   "metadata": {},
   "outputs": [
    {
     "data": {
      "text/html": [
       "<div>\n",
       "<style scoped>\n",
       "    .dataframe tbody tr th:only-of-type {\n",
       "        vertical-align: middle;\n",
       "    }\n",
       "\n",
       "    .dataframe tbody tr th {\n",
       "        vertical-align: top;\n",
       "    }\n",
       "\n",
       "    .dataframe thead th {\n",
       "        text-align: right;\n",
       "    }\n",
       "</style>\n",
       "<table border=\"1\" class=\"dataframe\">\n",
       "  <thead>\n",
       "    <tr style=\"text-align: right;\">\n",
       "      <th></th>\n",
       "      <th>Customer</th>\n",
       "      <th>Spend_Month</th>\n",
       "      <th>Avg_Amount</th>\n",
       "    </tr>\n",
       "  </thead>\n",
       "  <tbody>\n",
       "    <tr>\n",
       "      <th>0</th>\n",
       "      <td>A1</td>\n",
       "      <td>1</td>\n",
       "      <td>341332.877000</td>\n",
       "    </tr>\n",
       "    <tr>\n",
       "      <th>1</th>\n",
       "      <td>A1</td>\n",
       "      <td>2</td>\n",
       "      <td>138421.151250</td>\n",
       "    </tr>\n",
       "    <tr>\n",
       "      <th>2</th>\n",
       "      <td>A1</td>\n",
       "      <td>4</td>\n",
       "      <td>261649.250000</td>\n",
       "    </tr>\n",
       "    <tr>\n",
       "      <th>3</th>\n",
       "      <td>A1</td>\n",
       "      <td>5</td>\n",
       "      <td>361141.310000</td>\n",
       "    </tr>\n",
       "    <tr>\n",
       "      <th>4</th>\n",
       "      <td>A1</td>\n",
       "      <td>8</td>\n",
       "      <td>344372.100000</td>\n",
       "    </tr>\n",
       "    <tr>\n",
       "      <th>5</th>\n",
       "      <td>A1</td>\n",
       "      <td>10</td>\n",
       "      <td>244534.680000</td>\n",
       "    </tr>\n",
       "    <tr>\n",
       "      <th>6</th>\n",
       "      <td>A1</td>\n",
       "      <td>11</td>\n",
       "      <td>183839.610000</td>\n",
       "    </tr>\n",
       "    <tr>\n",
       "      <th>7</th>\n",
       "      <td>A10</td>\n",
       "      <td>1</td>\n",
       "      <td>173828.282500</td>\n",
       "    </tr>\n",
       "    <tr>\n",
       "      <th>8</th>\n",
       "      <td>A10</td>\n",
       "      <td>2</td>\n",
       "      <td>170265.770000</td>\n",
       "    </tr>\n",
       "    <tr>\n",
       "      <th>9</th>\n",
       "      <td>A10</td>\n",
       "      <td>3</td>\n",
       "      <td>134631.266667</td>\n",
       "    </tr>\n",
       "  </tbody>\n",
       "</table>\n",
       "</div>"
      ],
      "text/plain": [
       "  Customer  Spend_Month     Avg_Amount\n",
       "0       A1            1  341332.877000\n",
       "1       A1            2  138421.151250\n",
       "2       A1            4  261649.250000\n",
       "3       A1            5  361141.310000\n",
       "4       A1            8  344372.100000\n",
       "5       A1           10  244534.680000\n",
       "6       A1           11  183839.610000\n",
       "7      A10            1  173828.282500\n",
       "8      A10            2  170265.770000\n",
       "9      A10            3  134631.266667"
      ]
     },
     "execution_count": 32,
     "metadata": {},
     "output_type": "execute_result"
    }
   ],
   "source": [
    "Avg_Monthly_Spent.head(10)"
   ]
  },
  {
   "cell_type": "markdown",
   "metadata": {},
   "source": [
    "### d) What is the average monthly repayment by the customers?"
   ]
  },
  {
   "cell_type": "code",
   "execution_count": 33,
   "metadata": {},
   "outputs": [],
   "source": [
    "Customer_Repayment_Amount = Customer_Repayment_Transaction.groupby(['Customer','Month'])[['Amount']].mean().reset_index()"
   ]
  },
  {
   "cell_type": "code",
   "execution_count": 34,
   "metadata": {},
   "outputs": [],
   "source": [
    "Customer_Repayment_Amount['Repayment_Month'] = Customer_Repayment_Amount['Month'].apply(lambda x:x.month)"
   ]
  },
  {
   "cell_type": "code",
   "execution_count": 35,
   "metadata": {},
   "outputs": [],
   "source": [
    "Avg_Monthly_Repayment = Customer_Repayment_Amount.groupby(['Customer','Repayment_Month'])[['Amount']].mean().add_prefix('Avg_').reset_index()"
   ]
  },
  {
   "cell_type": "code",
   "execution_count": 36,
   "metadata": {},
   "outputs": [
    {
     "data": {
      "text/html": [
       "<div>\n",
       "<style scoped>\n",
       "    .dataframe tbody tr th:only-of-type {\n",
       "        vertical-align: middle;\n",
       "    }\n",
       "\n",
       "    .dataframe tbody tr th {\n",
       "        vertical-align: top;\n",
       "    }\n",
       "\n",
       "    .dataframe thead th {\n",
       "        text-align: right;\n",
       "    }\n",
       "</style>\n",
       "<table border=\"1\" class=\"dataframe\">\n",
       "  <thead>\n",
       "    <tr style=\"text-align: right;\">\n",
       "      <th></th>\n",
       "      <th>Customer</th>\n",
       "      <th>Repayment_Month</th>\n",
       "      <th>Avg_Amount</th>\n",
       "    </tr>\n",
       "  </thead>\n",
       "  <tbody>\n",
       "    <tr>\n",
       "      <th>0</th>\n",
       "      <td>A1</td>\n",
       "      <td>1</td>\n",
       "      <td>325723.331000</td>\n",
       "    </tr>\n",
       "    <tr>\n",
       "      <th>1</th>\n",
       "      <td>A1</td>\n",
       "      <td>2</td>\n",
       "      <td>137713.785000</td>\n",
       "    </tr>\n",
       "    <tr>\n",
       "      <th>2</th>\n",
       "      <td>A1</td>\n",
       "      <td>4</td>\n",
       "      <td>254474.580000</td>\n",
       "    </tr>\n",
       "    <tr>\n",
       "      <th>3</th>\n",
       "      <td>A1</td>\n",
       "      <td>7</td>\n",
       "      <td>297176.740000</td>\n",
       "    </tr>\n",
       "    <tr>\n",
       "      <th>4</th>\n",
       "      <td>A1</td>\n",
       "      <td>9</td>\n",
       "      <td>186427.500000</td>\n",
       "    </tr>\n",
       "    <tr>\n",
       "      <th>5</th>\n",
       "      <td>A1</td>\n",
       "      <td>11</td>\n",
       "      <td>285729.090000</td>\n",
       "    </tr>\n",
       "    <tr>\n",
       "      <th>6</th>\n",
       "      <td>A10</td>\n",
       "      <td>1</td>\n",
       "      <td>283324.721667</td>\n",
       "    </tr>\n",
       "    <tr>\n",
       "      <th>7</th>\n",
       "      <td>A10</td>\n",
       "      <td>2</td>\n",
       "      <td>217344.503333</td>\n",
       "    </tr>\n",
       "    <tr>\n",
       "      <th>8</th>\n",
       "      <td>A10</td>\n",
       "      <td>3</td>\n",
       "      <td>240130.543333</td>\n",
       "    </tr>\n",
       "    <tr>\n",
       "      <th>9</th>\n",
       "      <td>A10</td>\n",
       "      <td>4</td>\n",
       "      <td>120467.322500</td>\n",
       "    </tr>\n",
       "  </tbody>\n",
       "</table>\n",
       "</div>"
      ],
      "text/plain": [
       "  Customer  Repayment_Month     Avg_Amount\n",
       "0       A1                1  325723.331000\n",
       "1       A1                2  137713.785000\n",
       "2       A1                4  254474.580000\n",
       "3       A1                7  297176.740000\n",
       "4       A1                9  186427.500000\n",
       "5       A1               11  285729.090000\n",
       "6      A10                1  283324.721667\n",
       "7      A10                2  217344.503333\n",
       "8      A10                3  240130.543333\n",
       "9      A10                4  120467.322500"
      ]
     },
     "execution_count": 36,
     "metadata": {},
     "output_type": "execute_result"
    }
   ],
   "source": [
    "Avg_Monthly_Repayment.head(10)"
   ]
  },
  {
   "cell_type": "markdown",
   "metadata": {},
   "source": [
    "### e) If the monthly rate of interest is 2.9%, what is the profit for the bank for each month?\n",
    "### (Profit is defined as interst earned on Monthly Profit. Monthly Profit = Monthly Repayment - Monthly Spent. Interest is earned only on positive profits and not on negative amoiunts)"
   ]
  },
  {
   "cell_type": "code",
   "execution_count": 38,
   "metadata": {},
   "outputs": [],
   "source": [
    "Avg_Monthly_Customers = pd.merge(left = Avg_Monthly_Spent, right = Avg_Monthly_Repayment, \n",
    "                                 left_on = ['Customer','Spend_Month'],right_on=['Customer','Repayment_Month'])"
   ]
  },
  {
   "cell_type": "code",
   "execution_count": 43,
   "metadata": {},
   "outputs": [],
   "source": [
    "Avg_Monthly_Customers['Monthly_Profit'] = round(Avg_Monthly_Customers.Avg_Amount_y - Avg_Monthly_Customers.Avg_Amount_x,2)"
   ]
  },
  {
   "cell_type": "code",
   "execution_count": 44,
   "metadata": {},
   "outputs": [
    {
     "data": {
      "text/html": [
       "<div>\n",
       "<style scoped>\n",
       "    .dataframe tbody tr th:only-of-type {\n",
       "        vertical-align: middle;\n",
       "    }\n",
       "\n",
       "    .dataframe tbody tr th {\n",
       "        vertical-align: top;\n",
       "    }\n",
       "\n",
       "    .dataframe thead th {\n",
       "        text-align: right;\n",
       "    }\n",
       "</style>\n",
       "<table border=\"1\" class=\"dataframe\">\n",
       "  <thead>\n",
       "    <tr style=\"text-align: right;\">\n",
       "      <th></th>\n",
       "      <th>Customer</th>\n",
       "      <th>Spend_Month</th>\n",
       "      <th>Avg_Amount_x</th>\n",
       "      <th>Repayment_Month</th>\n",
       "      <th>Avg_Amount_y</th>\n",
       "      <th>Monthly_Profit</th>\n",
       "    </tr>\n",
       "  </thead>\n",
       "  <tbody>\n",
       "    <tr>\n",
       "      <th>0</th>\n",
       "      <td>A1</td>\n",
       "      <td>1</td>\n",
       "      <td>341332.87700</td>\n",
       "      <td>1</td>\n",
       "      <td>325723.331000</td>\n",
       "      <td>-15609.55</td>\n",
       "    </tr>\n",
       "    <tr>\n",
       "      <th>1</th>\n",
       "      <td>A1</td>\n",
       "      <td>2</td>\n",
       "      <td>138421.15125</td>\n",
       "      <td>2</td>\n",
       "      <td>137713.785000</td>\n",
       "      <td>-707.37</td>\n",
       "    </tr>\n",
       "    <tr>\n",
       "      <th>2</th>\n",
       "      <td>A1</td>\n",
       "      <td>4</td>\n",
       "      <td>261649.25000</td>\n",
       "      <td>4</td>\n",
       "      <td>254474.580000</td>\n",
       "      <td>-7174.67</td>\n",
       "    </tr>\n",
       "    <tr>\n",
       "      <th>3</th>\n",
       "      <td>A1</td>\n",
       "      <td>11</td>\n",
       "      <td>183839.61000</td>\n",
       "      <td>11</td>\n",
       "      <td>285729.090000</td>\n",
       "      <td>101889.48</td>\n",
       "    </tr>\n",
       "    <tr>\n",
       "      <th>4</th>\n",
       "      <td>A10</td>\n",
       "      <td>1</td>\n",
       "      <td>173828.28250</td>\n",
       "      <td>1</td>\n",
       "      <td>283324.721667</td>\n",
       "      <td>109496.44</td>\n",
       "    </tr>\n",
       "  </tbody>\n",
       "</table>\n",
       "</div>"
      ],
      "text/plain": [
       "  Customer  Spend_Month  Avg_Amount_x  Repayment_Month   Avg_Amount_y  \\\n",
       "0       A1            1  341332.87700                1  325723.331000   \n",
       "1       A1            2  138421.15125                2  137713.785000   \n",
       "2       A1            4  261649.25000                4  254474.580000   \n",
       "3       A1           11  183839.61000               11  285729.090000   \n",
       "4      A10            1  173828.28250                1  283324.721667   \n",
       "\n",
       "   Monthly_Profit  \n",
       "0       -15609.55  \n",
       "1         -707.37  \n",
       "2        -7174.67  \n",
       "3       101889.48  \n",
       "4       109496.44  "
      ]
     },
     "execution_count": 44,
     "metadata": {},
     "output_type": "execute_result"
    }
   ],
   "source": [
    "Avg_Monthly_Customers.head()"
   ]
  },
  {
   "cell_type": "code",
   "execution_count": 45,
   "metadata": {},
   "outputs": [],
   "source": [
    "Avg_Monthly_Customers['Profit'] = np.where(Avg_Monthly_Customers['Monthly_Profit'] > 0, \n",
    "                                           Avg_Monthly_Customers['Monthly_Profit']*2.9/100,np.nan)"
   ]
  },
  {
   "cell_type": "code",
   "execution_count": 46,
   "metadata": {},
   "outputs": [
    {
     "data": {
      "text/html": [
       "<div>\n",
       "<style scoped>\n",
       "    .dataframe tbody tr th:only-of-type {\n",
       "        vertical-align: middle;\n",
       "    }\n",
       "\n",
       "    .dataframe tbody tr th {\n",
       "        vertical-align: top;\n",
       "    }\n",
       "\n",
       "    .dataframe thead th {\n",
       "        text-align: right;\n",
       "    }\n",
       "</style>\n",
       "<table border=\"1\" class=\"dataframe\">\n",
       "  <thead>\n",
       "    <tr style=\"text-align: right;\">\n",
       "      <th></th>\n",
       "      <th>Customer</th>\n",
       "      <th>Spend_Month</th>\n",
       "      <th>Avg_Amount_x</th>\n",
       "      <th>Repayment_Month</th>\n",
       "      <th>Avg_Amount_y</th>\n",
       "      <th>Monthly_Profit</th>\n",
       "      <th>Profit</th>\n",
       "    </tr>\n",
       "  </thead>\n",
       "  <tbody>\n",
       "    <tr>\n",
       "      <th>0</th>\n",
       "      <td>A1</td>\n",
       "      <td>1</td>\n",
       "      <td>341332.877000</td>\n",
       "      <td>1</td>\n",
       "      <td>325723.331000</td>\n",
       "      <td>-15609.55</td>\n",
       "      <td>NaN</td>\n",
       "    </tr>\n",
       "    <tr>\n",
       "      <th>1</th>\n",
       "      <td>A1</td>\n",
       "      <td>2</td>\n",
       "      <td>138421.151250</td>\n",
       "      <td>2</td>\n",
       "      <td>137713.785000</td>\n",
       "      <td>-707.37</td>\n",
       "      <td>NaN</td>\n",
       "    </tr>\n",
       "    <tr>\n",
       "      <th>2</th>\n",
       "      <td>A1</td>\n",
       "      <td>4</td>\n",
       "      <td>261649.250000</td>\n",
       "      <td>4</td>\n",
       "      <td>254474.580000</td>\n",
       "      <td>-7174.67</td>\n",
       "      <td>NaN</td>\n",
       "    </tr>\n",
       "    <tr>\n",
       "      <th>3</th>\n",
       "      <td>A1</td>\n",
       "      <td>11</td>\n",
       "      <td>183839.610000</td>\n",
       "      <td>11</td>\n",
       "      <td>285729.090000</td>\n",
       "      <td>101889.48</td>\n",
       "      <td>2954.79492</td>\n",
       "    </tr>\n",
       "    <tr>\n",
       "      <th>4</th>\n",
       "      <td>A10</td>\n",
       "      <td>1</td>\n",
       "      <td>173828.282500</td>\n",
       "      <td>1</td>\n",
       "      <td>283324.721667</td>\n",
       "      <td>109496.44</td>\n",
       "      <td>3175.39676</td>\n",
       "    </tr>\n",
       "    <tr>\n",
       "      <th>5</th>\n",
       "      <td>A10</td>\n",
       "      <td>2</td>\n",
       "      <td>170265.770000</td>\n",
       "      <td>2</td>\n",
       "      <td>217344.503333</td>\n",
       "      <td>47078.73</td>\n",
       "      <td>1365.28317</td>\n",
       "    </tr>\n",
       "    <tr>\n",
       "      <th>6</th>\n",
       "      <td>A10</td>\n",
       "      <td>3</td>\n",
       "      <td>134631.266667</td>\n",
       "      <td>3</td>\n",
       "      <td>240130.543333</td>\n",
       "      <td>105499.28</td>\n",
       "      <td>3059.47912</td>\n",
       "    </tr>\n",
       "    <tr>\n",
       "      <th>7</th>\n",
       "      <td>A10</td>\n",
       "      <td>4</td>\n",
       "      <td>270721.680000</td>\n",
       "      <td>4</td>\n",
       "      <td>120467.322500</td>\n",
       "      <td>-150254.36</td>\n",
       "      <td>NaN</td>\n",
       "    </tr>\n",
       "    <tr>\n",
       "      <th>8</th>\n",
       "      <td>A10</td>\n",
       "      <td>5</td>\n",
       "      <td>189207.392500</td>\n",
       "      <td>5</td>\n",
       "      <td>98672.695000</td>\n",
       "      <td>-90534.70</td>\n",
       "      <td>NaN</td>\n",
       "    </tr>\n",
       "    <tr>\n",
       "      <th>9</th>\n",
       "      <td>A10</td>\n",
       "      <td>7</td>\n",
       "      <td>239798.030000</td>\n",
       "      <td>7</td>\n",
       "      <td>358194.650000</td>\n",
       "      <td>118396.62</td>\n",
       "      <td>3433.50198</td>\n",
       "    </tr>\n",
       "  </tbody>\n",
       "</table>\n",
       "</div>"
      ],
      "text/plain": [
       "  Customer  Spend_Month   Avg_Amount_x  Repayment_Month   Avg_Amount_y  \\\n",
       "0       A1            1  341332.877000                1  325723.331000   \n",
       "1       A1            2  138421.151250                2  137713.785000   \n",
       "2       A1            4  261649.250000                4  254474.580000   \n",
       "3       A1           11  183839.610000               11  285729.090000   \n",
       "4      A10            1  173828.282500                1  283324.721667   \n",
       "5      A10            2  170265.770000                2  217344.503333   \n",
       "6      A10            3  134631.266667                3  240130.543333   \n",
       "7      A10            4  270721.680000                4  120467.322500   \n",
       "8      A10            5  189207.392500                5   98672.695000   \n",
       "9      A10            7  239798.030000                7  358194.650000   \n",
       "\n",
       "   Monthly_Profit      Profit  \n",
       "0       -15609.55         NaN  \n",
       "1         -707.37         NaN  \n",
       "2        -7174.67         NaN  \n",
       "3       101889.48  2954.79492  \n",
       "4       109496.44  3175.39676  \n",
       "5        47078.73  1365.28317  \n",
       "6       105499.28  3059.47912  \n",
       "7      -150254.36         NaN  \n",
       "8       -90534.70         NaN  \n",
       "9       118396.62  3433.50198  "
      ]
     },
     "execution_count": 46,
     "metadata": {},
     "output_type": "execute_result"
    }
   ],
   "source": [
    "Avg_Monthly_Customers.head(10)"
   ]
  },
  {
   "cell_type": "markdown",
   "metadata": {},
   "source": [
    "### f) What are the top 5 product types?"
   ]
  },
  {
   "cell_type": "code",
   "execution_count": 49,
   "metadata": {},
   "outputs": [
    {
     "data": {
      "text/html": [
       "<div>\n",
       "<style scoped>\n",
       "    .dataframe tbody tr th:only-of-type {\n",
       "        vertical-align: middle;\n",
       "    }\n",
       "\n",
       "    .dataframe tbody tr th {\n",
       "        vertical-align: top;\n",
       "    }\n",
       "\n",
       "    .dataframe thead th {\n",
       "        text-align: right;\n",
       "    }\n",
       "</style>\n",
       "<table border=\"1\" class=\"dataframe\">\n",
       "  <thead>\n",
       "    <tr style=\"text-align: right;\">\n",
       "      <th></th>\n",
       "      <th>Type</th>\n",
       "      <th>Amount</th>\n",
       "    </tr>\n",
       "  </thead>\n",
       "  <tbody>\n",
       "    <tr>\n",
       "      <th>10</th>\n",
       "      <td>PETRO</td>\n",
       "      <td>28597384.98</td>\n",
       "    </tr>\n",
       "    <tr>\n",
       "      <th>4</th>\n",
       "      <td>CAMERA</td>\n",
       "      <td>27690738.44</td>\n",
       "    </tr>\n",
       "    <tr>\n",
       "      <th>7</th>\n",
       "      <td>FOOD</td>\n",
       "      <td>20519243.60</td>\n",
       "    </tr>\n",
       "    <tr>\n",
       "      <th>0</th>\n",
       "      <td>AIR TICKET</td>\n",
       "      <td>20155847.12</td>\n",
       "    </tr>\n",
       "    <tr>\n",
       "      <th>14</th>\n",
       "      <td>TRAIN TICKET</td>\n",
       "      <td>19995825.72</td>\n",
       "    </tr>\n",
       "  </tbody>\n",
       "</table>\n",
       "</div>"
      ],
      "text/plain": [
       "            Type       Amount\n",
       "10         PETRO  28597384.98\n",
       "4         CAMERA  27690738.44\n",
       "7           FOOD  20519243.60\n",
       "0     AIR TICKET  20155847.12\n",
       "14  TRAIN TICKET  19995825.72"
      ]
     },
     "execution_count": 49,
     "metadata": {},
     "output_type": "execute_result"
    }
   ],
   "source": [
    "Customer_Spend_Transaction.groupby('Type').Amount.sum().reset_index().sort_values('Amount',ascending=False).head(5)"
   ]
  },
  {
   "cell_type": "markdown",
   "metadata": {},
   "source": [
    "### g) Which city is having maximum spend?"
   ]
  },
  {
   "cell_type": "code",
   "execution_count": 50,
   "metadata": {},
   "outputs": [
    {
     "data": {
      "text/html": [
       "<div>\n",
       "<style scoped>\n",
       "    .dataframe tbody tr th:only-of-type {\n",
       "        vertical-align: middle;\n",
       "    }\n",
       "\n",
       "    .dataframe tbody tr th {\n",
       "        vertical-align: top;\n",
       "    }\n",
       "\n",
       "    .dataframe thead th {\n",
       "        text-align: right;\n",
       "    }\n",
       "</style>\n",
       "<table border=\"1\" class=\"dataframe\">\n",
       "  <thead>\n",
       "    <tr style=\"text-align: right;\">\n",
       "      <th></th>\n",
       "      <th>City</th>\n",
       "      <th>Amount</th>\n",
       "    </tr>\n",
       "  </thead>\n",
       "  <tbody>\n",
       "    <tr>\n",
       "      <th>4</th>\n",
       "      <td>COCHIN</td>\n",
       "      <td>45963513.5</td>\n",
       "    </tr>\n",
       "  </tbody>\n",
       "</table>\n",
       "</div>"
      ],
      "text/plain": [
       "     City      Amount\n",
       "4  COCHIN  45963513.5"
      ]
     },
     "execution_count": 50,
     "metadata": {},
     "output_type": "execute_result"
    }
   ],
   "source": [
    "Customer_Spend_Transaction.groupby('City').Amount.sum().reset_index().sort_values('Amount',ascending=False).head(1)"
   ]
  },
  {
   "cell_type": "markdown",
   "metadata": {},
   "source": [
    "### h) Which age group is spending more money?"
   ]
  },
  {
   "cell_type": "code",
   "execution_count": 51,
   "metadata": {},
   "outputs": [],
   "source": [
    "Customer_Spend_Transaction['Age_Group'] = np.where(((Customer_Spend_Transaction.Age >= 18) & \n",
    "            (Customer_Spend_Transaction.Age < 25)), 'Youth',\n",
    "            np.where(((Customer_Spend_Transaction.Age >= 25) & (Customer_Spend_Transaction.Age < 65)), 'Adult', 'Senior'))"
   ]
  },
  {
   "cell_type": "code",
   "execution_count": 52,
   "metadata": {},
   "outputs": [
    {
     "data": {
      "text/plain": [
       "Age_Group\n",
       "Adult     1.674181e+08\n",
       "Senior    3.768249e+07\n",
       "Youth     1.468050e+07\n",
       "Name: Amount, dtype: float64"
      ]
     },
     "execution_count": 52,
     "metadata": {},
     "output_type": "execute_result"
    }
   ],
   "source": [
    "Customer_Spend_Transaction.groupby('Age_Group').Amount.sum()"
   ]
  },
  {
   "cell_type": "markdown",
   "metadata": {},
   "source": [
    "##### The adults aged between 25 to 65 are spending more amount of money."
   ]
  },
  {
   "cell_type": "markdown",
   "metadata": {},
   "source": [
    "### i) Who are the top 10 customers in terms of repayment?"
   ]
  },
  {
   "cell_type": "code",
   "execution_count": 53,
   "metadata": {},
   "outputs": [
    {
     "data": {
      "text/html": [
       "<div>\n",
       "<style scoped>\n",
       "    .dataframe tbody tr th:only-of-type {\n",
       "        vertical-align: middle;\n",
       "    }\n",
       "\n",
       "    .dataframe tbody tr th {\n",
       "        vertical-align: top;\n",
       "    }\n",
       "\n",
       "    .dataframe thead th {\n",
       "        text-align: right;\n",
       "    }\n",
       "</style>\n",
       "<table border=\"1\" class=\"dataframe\">\n",
       "  <thead>\n",
       "    <tr style=\"text-align: right;\">\n",
       "      <th></th>\n",
       "      <th>Customer</th>\n",
       "      <th>Amount</th>\n",
       "    </tr>\n",
       "  </thead>\n",
       "  <tbody>\n",
       "    <tr>\n",
       "      <th>58</th>\n",
       "      <td>A61</td>\n",
       "      <td>10539142.91</td>\n",
       "    </tr>\n",
       "    <tr>\n",
       "      <th>57</th>\n",
       "      <td>A60</td>\n",
       "      <td>9876290.74</td>\n",
       "    </tr>\n",
       "    <tr>\n",
       "      <th>5</th>\n",
       "      <td>A13</td>\n",
       "      <td>9572000.66</td>\n",
       "    </tr>\n",
       "    <tr>\n",
       "      <th>38</th>\n",
       "      <td>A43</td>\n",
       "      <td>8489871.46</td>\n",
       "    </tr>\n",
       "    <tr>\n",
       "      <th>40</th>\n",
       "      <td>A45</td>\n",
       "      <td>8448334.87</td>\n",
       "    </tr>\n",
       "    <tr>\n",
       "      <th>4</th>\n",
       "      <td>A12</td>\n",
       "      <td>8334760.16</td>\n",
       "    </tr>\n",
       "    <tr>\n",
       "      <th>6</th>\n",
       "      <td>A14</td>\n",
       "      <td>7943268.63</td>\n",
       "    </tr>\n",
       "    <tr>\n",
       "      <th>39</th>\n",
       "      <td>A44</td>\n",
       "      <td>7744730.12</td>\n",
       "    </tr>\n",
       "    <tr>\n",
       "      <th>33</th>\n",
       "      <td>A39</td>\n",
       "      <td>7622483.30</td>\n",
       "    </tr>\n",
       "    <tr>\n",
       "      <th>37</th>\n",
       "      <td>A42</td>\n",
       "      <td>7615460.86</td>\n",
       "    </tr>\n",
       "  </tbody>\n",
       "</table>\n",
       "</div>"
      ],
      "text/plain": [
       "   Customer       Amount\n",
       "58      A61  10539142.91\n",
       "57      A60   9876290.74\n",
       "5       A13   9572000.66\n",
       "38      A43   8489871.46\n",
       "40      A45   8448334.87\n",
       "4       A12   8334760.16\n",
       "6       A14   7943268.63\n",
       "39      A44   7744730.12\n",
       "33      A39   7622483.30\n",
       "37      A42   7615460.86"
      ]
     },
     "execution_count": 53,
     "metadata": {},
     "output_type": "execute_result"
    }
   ],
   "source": [
    "Customer_Repayment_Transaction.groupby('Customer').Amount.sum().reset_index().sort_values('Amount',ascending=False).head(10)"
   ]
  },
  {
   "cell_type": "markdown",
   "metadata": {},
   "source": [
    "### Q3. Calculate the city wise spend on each product on yearly basis. Also include a graphical representation for the same."
   ]
  },
  {
   "cell_type": "code",
   "execution_count": 54,
   "metadata": {},
   "outputs": [],
   "source": [
    "Customer_Spend_Transaction['Yearly_Spend'] = Customer_Spend_Transaction['Month'].apply(lambda x:x.year)"
   ]
  },
  {
   "cell_type": "code",
   "execution_count": 56,
   "metadata": {},
   "outputs": [
    {
     "data": {
      "text/html": [
       "<div>\n",
       "<style scoped>\n",
       "    .dataframe tbody tr th:only-of-type {\n",
       "        vertical-align: middle;\n",
       "    }\n",
       "\n",
       "    .dataframe tbody tr th {\n",
       "        vertical-align: top;\n",
       "    }\n",
       "\n",
       "    .dataframe thead tr th {\n",
       "        text-align: left;\n",
       "    }\n",
       "\n",
       "    .dataframe thead tr:last-of-type th {\n",
       "        text-align: right;\n",
       "    }\n",
       "</style>\n",
       "<table border=\"1\" class=\"dataframe\">\n",
       "  <thead>\n",
       "    <tr>\n",
       "      <th>Product</th>\n",
       "      <th colspan=\"3\" halign=\"left\">Gold</th>\n",
       "      <th colspan=\"3\" halign=\"left\">Platimum</th>\n",
       "      <th colspan=\"3\" halign=\"left\">Silver</th>\n",
       "    </tr>\n",
       "    <tr>\n",
       "      <th>Yearly_Spend</th>\n",
       "      <th>2004</th>\n",
       "      <th>2005</th>\n",
       "      <th>2006</th>\n",
       "      <th>2004</th>\n",
       "      <th>2005</th>\n",
       "      <th>2006</th>\n",
       "      <th>2004</th>\n",
       "      <th>2005</th>\n",
       "      <th>2006</th>\n",
       "    </tr>\n",
       "    <tr>\n",
       "      <th>City</th>\n",
       "      <th></th>\n",
       "      <th></th>\n",
       "      <th></th>\n",
       "      <th></th>\n",
       "      <th></th>\n",
       "      <th></th>\n",
       "      <th></th>\n",
       "      <th></th>\n",
       "      <th></th>\n",
       "    </tr>\n",
       "  </thead>\n",
       "  <tbody>\n",
       "    <tr>\n",
       "      <th>BANGALORE</th>\n",
       "      <td>9289878.54</td>\n",
       "      <td>12892362.99</td>\n",
       "      <td>12030611.09</td>\n",
       "      <td>1112732.30</td>\n",
       "      <td>912284.97</td>\n",
       "      <td>685831.27</td>\n",
       "      <td>1291852.58</td>\n",
       "      <td>830612.34</td>\n",
       "      <td>1415480.94</td>\n",
       "    </tr>\n",
       "    <tr>\n",
       "      <th>BOMBAY</th>\n",
       "      <td>6987853.53</td>\n",
       "      <td>8983018.28</td>\n",
       "      <td>7917144.31</td>\n",
       "      <td>897264.94</td>\n",
       "      <td>711804.94</td>\n",
       "      <td>972130.01</td>\n",
       "      <td>532089.03</td>\n",
       "      <td>508988.54</td>\n",
       "      <td>1092833.80</td>\n",
       "    </tr>\n",
       "    <tr>\n",
       "      <th>CALCUTTA</th>\n",
       "      <td>7477140.98</td>\n",
       "      <td>10303355.80</td>\n",
       "      <td>11167532.77</td>\n",
       "      <td>2037690.30</td>\n",
       "      <td>4434696.31</td>\n",
       "      <td>3589606.66</td>\n",
       "      <td>500006.00</td>\n",
       "      <td>440147.06</td>\n",
       "      <td>1157956.42</td>\n",
       "    </tr>\n",
       "    <tr>\n",
       "      <th>CHENNAI</th>\n",
       "      <td>1059618.50</td>\n",
       "      <td>3740945.58</td>\n",
       "      <td>2704288.62</td>\n",
       "      <td>3535652.38</td>\n",
       "      <td>5053956.32</td>\n",
       "      <td>5024923.40</td>\n",
       "      <td>282056.86</td>\n",
       "      <td>377184.49</td>\n",
       "      <td>350009.50</td>\n",
       "    </tr>\n",
       "    <tr>\n",
       "      <th>COCHIN</th>\n",
       "      <td>7315850.15</td>\n",
       "      <td>12110613.03</td>\n",
       "      <td>10499142.38</td>\n",
       "      <td>3419904.07</td>\n",
       "      <td>4960921.71</td>\n",
       "      <td>4920592.29</td>\n",
       "      <td>814229.62</td>\n",
       "      <td>652269.38</td>\n",
       "      <td>1269990.87</td>\n",
       "    </tr>\n",
       "    <tr>\n",
       "      <th>DELHI</th>\n",
       "      <td>2806495.00</td>\n",
       "      <td>1964845.27</td>\n",
       "      <td>2957103.32</td>\n",
       "      <td>283512.89</td>\n",
       "      <td>494157.86</td>\n",
       "      <td>176788.72</td>\n",
       "      <td>768172.30</td>\n",
       "      <td>612311.21</td>\n",
       "      <td>854899.97</td>\n",
       "    </tr>\n",
       "    <tr>\n",
       "      <th>PATNA</th>\n",
       "      <td>2072567.90</td>\n",
       "      <td>3252615.77</td>\n",
       "      <td>2276181.69</td>\n",
       "      <td>1113069.60</td>\n",
       "      <td>2883231.07</td>\n",
       "      <td>1256137.65</td>\n",
       "      <td>756684.10</td>\n",
       "      <td>950094.19</td>\n",
       "      <td>700005.00</td>\n",
       "    </tr>\n",
       "    <tr>\n",
       "      <th>TRIVANDRUM</th>\n",
       "      <td>2415102.84</td>\n",
       "      <td>1240375.85</td>\n",
       "      <td>2735710.87</td>\n",
       "      <td>2161676.67</td>\n",
       "      <td>3601443.30</td>\n",
       "      <td>2147403.75</td>\n",
       "      <td>209667.48</td>\n",
       "      <td>269912.99</td>\n",
       "      <td>555862.12</td>\n",
       "    </tr>\n",
       "  </tbody>\n",
       "</table>\n",
       "</div>"
      ],
      "text/plain": [
       "Product             Gold                              Platimum              \\\n",
       "Yearly_Spend        2004         2005         2006        2004        2005   \n",
       "City                                                                         \n",
       "BANGALORE     9289878.54  12892362.99  12030611.09  1112732.30   912284.97   \n",
       "BOMBAY        6987853.53   8983018.28   7917144.31   897264.94   711804.94   \n",
       "CALCUTTA      7477140.98  10303355.80  11167532.77  2037690.30  4434696.31   \n",
       "CHENNAI       1059618.50   3740945.58   2704288.62  3535652.38  5053956.32   \n",
       "COCHIN        7315850.15  12110613.03  10499142.38  3419904.07  4960921.71   \n",
       "DELHI         2806495.00   1964845.27   2957103.32   283512.89   494157.86   \n",
       "PATNA         2072567.90   3252615.77   2276181.69  1113069.60  2883231.07   \n",
       "TRIVANDRUM    2415102.84   1240375.85   2735710.87  2161676.67  3601443.30   \n",
       "\n",
       "Product                       Silver                         \n",
       "Yearly_Spend        2006        2004       2005        2006  \n",
       "City                                                         \n",
       "BANGALORE      685831.27  1291852.58  830612.34  1415480.94  \n",
       "BOMBAY         972130.01   532089.03  508988.54  1092833.80  \n",
       "CALCUTTA      3589606.66   500006.00  440147.06  1157956.42  \n",
       "CHENNAI       5024923.40   282056.86  377184.49   350009.50  \n",
       "COCHIN        4920592.29   814229.62  652269.38  1269990.87  \n",
       "DELHI          176788.72   768172.30  612311.21   854899.97  \n",
       "PATNA         1256137.65   756684.10  950094.19   700005.00  \n",
       "TRIVANDRUM    2147403.75   209667.48  269912.99   555862.12  "
      ]
     },
     "execution_count": 56,
     "metadata": {},
     "output_type": "execute_result"
    }
   ],
   "source": [
    "City_Wise_Spend = pd.pivot_table(data = Customer_Spend_Transaction, index = 'City', columns=['Product','Yearly_Spend'], \n",
    "               values='Amount', aggfunc='sum')\n",
    "City_Wise_Spend"
   ]
  },
  {
   "cell_type": "code",
   "execution_count": 68,
   "metadata": {},
   "outputs": [
    {
     "data": {
      "image/png": "[encoded data removed]",
      "text/plain": [
       "<Figure size 432x288 with 1 Axes>"
      ]
     },
     "metadata": {
      "needs_background": "light"
     },
     "output_type": "display_data"
    }
   ],
   "source": [
    "City_Wise_Spend.plot(kind='bar',stacked=False, width=0.8)\n",
    "plt.show()"
   ]
  },
  {
   "cell_type": "markdown",
   "metadata": {},
   "source": [
    "### Q4. Create graphs for"
   ]
  },
  {
   "cell_type": "markdown",
   "metadata": {},
   "source": [
    "### a) Monthly comparison of total spends, city wise "
   ]
  },
  {
   "cell_type": "code",
   "execution_count": 70,
   "metadata": {},
   "outputs": [],
   "source": [
    "Customer_Spend_Transaction['Monthly_Spend'] = Customer_Spend_Transaction.Month.apply(lambda x:x.month)"
   ]
  },
  {
   "cell_type": "code",
   "execution_count": 73,
   "metadata": {},
   "outputs": [
    {
     "data": {
      "text/plain": [
       "<matplotlib.axes._subplots.AxesSubplot at 0x283be9093c8>"
      ]
     },
     "execution_count": 73,
     "metadata": {},
     "output_type": "execute_result"
    },
    {
     "data": {
      "image/png": "[encoded data removed]",
      "text/plain": [
       "<Figure size 432x288 with 1 Axes>"
      ]
     },
     "metadata": {
      "needs_background": "light"
     },
     "output_type": "display_data"
    }
   ],
   "source": [
    "pd.pivot_table(data = Customer_Spend_Transaction, index = 'City', columns='Monthly_Spend', \n",
    "               values='Amount', aggfunc='sum').plot(kind='bar',stacked=False, width=0.7)"
   ]
  },
  {
   "cell_type": "markdown",
   "metadata": {},
   "source": [
    "### b) Comparison of yearly spend on Air Tickets"
   ]
  },
  {
   "cell_type": "code",
   "execution_count": 74,
   "metadata": {},
   "outputs": [
    {
     "data": {
      "image/png": "[encoded data removed]",
      "text/plain": [
       "<Figure size 432x288 with 1 Axes>"
      ]
     },
     "metadata": {
      "needs_background": "light"
     },
     "output_type": "display_data"
    }
   ],
   "source": [
    "pd.pivot_table(data = Customer_Spend_Transaction[Customer_Spend_Transaction.Type == 'AIR TICKET'], index = 'Type', \n",
    "               columns='Yearly_Spend', values='Amount', aggfunc='sum').plot(kind='bar')\n",
    "plt.show()"
   ]
  },
  {
   "cell_type": "markdown",
   "metadata": {},
   "source": [
    "### c) Comparison of monthly spend for each product (look for any seasonability that exists in terms of spend)"
   ]
  },
  {
   "cell_type": "code",
   "execution_count": 75,
   "metadata": {},
   "outputs": [
    {
     "data": {
      "text/plain": [
       "<matplotlib.axes._subplots.AxesSubplot at 0x283be53ae88>"
      ]
     },
     "execution_count": 75,
     "metadata": {},
     "output_type": "execute_result"
    },
    {
     "data": {
      "image/png": "[encoded data removed]",
      "text/plain": [
       "<Figure size 432x288 with 1 Axes>"
      ]
     },
     "metadata": {
      "needs_background": "light"
     },
     "output_type": "display_data"
    }
   ],
   "source": [
    "pd.pivot_table(data = Customer_Spend_Transaction, index = 'Monthly_Spend', columns='Product', \n",
    "               values='Amount', aggfunc='sum').plot(kind='bar')"
   ]
  },
  {
   "cell_type": "markdown",
   "metadata": {},
   "source": [
    "##### It can be seen that the amount spent is failry higher in the first quarter (Jan, Feb, Mar)"
   ]
  },
  {
   "cell_type": "markdown",
   "metadata": {},
   "source": [
    "### Q5. Write user defined PYTHON function to perform the following analysis:\n",
    "### You need to find top 10 customers for each city in terms of their repayment amount by different products and by different time periods i.e. year or month. The user should be able to specify the product (Gold/Silver/Platinum) and time period (yearly or monthly) and the function should automatically take these inputs while identifying the top 10 customers."
   ]
  },
  {
   "cell_type": "code",
   "execution_count": 77,
   "metadata": {},
   "outputs": [],
   "source": [
    "Customer_Repayment_Transaction['Yearly'] = Customer_Repayment_Transaction.Month.apply(lambda x:x.year)\n",
    "Customer_Repayment_Transaction['Monthly'] = Customer_Repayment_Transaction.Month.apply(lambda x:x.month)"
   ]
  },
  {
   "cell_type": "code",
   "execution_count": 87,
   "metadata": {},
   "outputs": [
    {
     "data": {
      "text/html": [
       "<div>\n",
       "<style scoped>\n",
       "    .dataframe tbody tr th:only-of-type {\n",
       "        vertical-align: middle;\n",
       "    }\n",
       "\n",
       "    .dataframe tbody tr th {\n",
       "        vertical-align: top;\n",
       "    }\n",
       "\n",
       "    .dataframe thead th {\n",
       "        text-align: right;\n",
       "    }\n",
       "</style>\n",
       "<table border=\"1\" class=\"dataframe\">\n",
       "  <thead>\n",
       "    <tr style=\"text-align: right;\">\n",
       "      <th></th>\n",
       "      <th>Customer</th>\n",
       "      <th>Age</th>\n",
       "      <th>City</th>\n",
       "      <th>Product</th>\n",
       "      <th>Limit</th>\n",
       "      <th>Company</th>\n",
       "      <th>Segment</th>\n",
       "      <th>Month</th>\n",
       "      <th>Amount</th>\n",
       "      <th>Yearly</th>\n",
       "      <th>Monthly</th>\n",
       "    </tr>\n",
       "  </thead>\n",
       "  <tbody>\n",
       "    <tr>\n",
       "      <th>0</th>\n",
       "      <td>A1</td>\n",
       "      <td>76</td>\n",
       "      <td>BANGALORE</td>\n",
       "      <td>Gold</td>\n",
       "      <td>500000.0</td>\n",
       "      <td>C1</td>\n",
       "      <td>Self Employed</td>\n",
       "      <td>2004-01-12</td>\n",
       "      <td>495414.75</td>\n",
       "      <td>2004</td>\n",
       "      <td>1</td>\n",
       "    </tr>\n",
       "    <tr>\n",
       "      <th>1</th>\n",
       "      <td>A1</td>\n",
       "      <td>76</td>\n",
       "      <td>BANGALORE</td>\n",
       "      <td>Gold</td>\n",
       "      <td>500000.0</td>\n",
       "      <td>C1</td>\n",
       "      <td>Self Employed</td>\n",
       "      <td>2004-01-03</td>\n",
       "      <td>245899.02</td>\n",
       "      <td>2004</td>\n",
       "      <td>1</td>\n",
       "    </tr>\n",
       "    <tr>\n",
       "      <th>2</th>\n",
       "      <td>A1</td>\n",
       "      <td>76</td>\n",
       "      <td>BANGALORE</td>\n",
       "      <td>Gold</td>\n",
       "      <td>500000.0</td>\n",
       "      <td>C1</td>\n",
       "      <td>Self Employed</td>\n",
       "      <td>2004-01-15</td>\n",
       "      <td>259490.06</td>\n",
       "      <td>2004</td>\n",
       "      <td>1</td>\n",
       "    </tr>\n",
       "    <tr>\n",
       "      <th>3</th>\n",
       "      <td>A1</td>\n",
       "      <td>76</td>\n",
       "      <td>BANGALORE</td>\n",
       "      <td>Gold</td>\n",
       "      <td>500000.0</td>\n",
       "      <td>C1</td>\n",
       "      <td>Self Employed</td>\n",
       "      <td>2004-01-25</td>\n",
       "      <td>437555.12</td>\n",
       "      <td>2004</td>\n",
       "      <td>1</td>\n",
       "    </tr>\n",
       "    <tr>\n",
       "      <th>4</th>\n",
       "      <td>A1</td>\n",
       "      <td>76</td>\n",
       "      <td>BANGALORE</td>\n",
       "      <td>Gold</td>\n",
       "      <td>500000.0</td>\n",
       "      <td>C1</td>\n",
       "      <td>Self Employed</td>\n",
       "      <td>2005-01-17</td>\n",
       "      <td>165972.88</td>\n",
       "      <td>2005</td>\n",
       "      <td>1</td>\n",
       "    </tr>\n",
       "  </tbody>\n",
       "</table>\n",
       "</div>"
      ],
      "text/plain": [
       "  Customer  Age       City Product     Limit Company        Segment  \\\n",
       "0       A1   76  BANGALORE    Gold  500000.0      C1  Self Employed   \n",
       "1       A1   76  BANGALORE    Gold  500000.0      C1  Self Employed   \n",
       "2       A1   76  BANGALORE    Gold  500000.0      C1  Self Employed   \n",
       "3       A1   76  BANGALORE    Gold  500000.0      C1  Self Employed   \n",
       "4       A1   76  BANGALORE    Gold  500000.0      C1  Self Employed   \n",
       "\n",
       "       Month     Amount  Yearly  Monthly  \n",
       "0 2004-01-12  495414.75    2004        1  \n",
       "1 2004-01-03  245899.02    2004        1  \n",
       "2 2004-01-15  259490.06    2004        1  \n",
       "3 2004-01-25  437555.12    2004        1  \n",
       "4 2005-01-17  165972.88    2005        1  "
      ]
     },
     "execution_count": 87,
     "metadata": {},
     "output_type": "execute_result"
    }
   ],
   "source": [
    "Customer_Repayment_Transaction.head()"
   ]
  },
  {
   "cell_type": "code",
   "execution_count": 81,
   "metadata": {},
   "outputs": [],
   "source": [
    "def Top10Customers(product, time_period):\n",
    "    return Customer_Repayment_Transaction.loc[(Customer_Repayment_Transaction.Product == product)].groupby(['Customer'\n",
    ",'City','Product',time_period]).Amount.sum().reset_index().sort_values('Amount',ascending=False).head(10)"
   ]
  },
  {
   "cell_type": "code",
   "execution_count": 84,
   "metadata": {},
   "outputs": [
    {
     "name": "stdout",
     "output_type": "stream",
     "text": [
      "Enter Product and it should be in Gold/Silver/Platinum: Gold\n",
      "Enter Time Period and it should be in Yearly/Monthly: Yearly\n"
     ]
    }
   ],
   "source": [
    "product = str(input(\"Enter Product and it should be in Gold/Silver/Platinum: \"))\n",
    "time_period = str(input(\"Enter Time Period and it should be in Yearly/Monthly: \"))"
   ]
  },
  {
   "cell_type": "code",
   "execution_count": 85,
   "metadata": {},
   "outputs": [],
   "source": [
    "Top10Customers_data = Top10Customers(product, time_period)"
   ]
  },
  {
   "cell_type": "code",
   "execution_count": 86,
   "metadata": {},
   "outputs": [
    {
     "data": {
      "text/html": [
       "<div>\n",
       "<style scoped>\n",
       "    .dataframe tbody tr th:only-of-type {\n",
       "        vertical-align: middle;\n",
       "    }\n",
       "\n",
       "    .dataframe tbody tr th {\n",
       "        vertical-align: top;\n",
       "    }\n",
       "\n",
       "    .dataframe thead th {\n",
       "        text-align: right;\n",
       "    }\n",
       "</style>\n",
       "<table border=\"1\" class=\"dataframe\">\n",
       "  <thead>\n",
       "    <tr style=\"text-align: right;\">\n",
       "      <th></th>\n",
       "      <th>Customer</th>\n",
       "      <th>City</th>\n",
       "      <th>Product</th>\n",
       "      <th>Yearly</th>\n",
       "      <th>Amount</th>\n",
       "    </tr>\n",
       "  </thead>\n",
       "  <tbody>\n",
       "    <tr>\n",
       "      <th>64</th>\n",
       "      <td>A61</td>\n",
       "      <td>COCHIN</td>\n",
       "      <td>Gold</td>\n",
       "      <td>2005</td>\n",
       "      <td>4276860.55</td>\n",
       "    </tr>\n",
       "    <tr>\n",
       "      <th>55</th>\n",
       "      <td>A44</td>\n",
       "      <td>DELHI</td>\n",
       "      <td>Gold</td>\n",
       "      <td>2005</td>\n",
       "      <td>4165317.77</td>\n",
       "    </tr>\n",
       "    <tr>\n",
       "      <th>58</th>\n",
       "      <td>A45</td>\n",
       "      <td>COCHIN</td>\n",
       "      <td>Gold</td>\n",
       "      <td>2005</td>\n",
       "      <td>4042447.57</td>\n",
       "    </tr>\n",
       "    <tr>\n",
       "      <th>52</th>\n",
       "      <td>A43</td>\n",
       "      <td>BANGALORE</td>\n",
       "      <td>Gold</td>\n",
       "      <td>2005</td>\n",
       "      <td>4006956.60</td>\n",
       "    </tr>\n",
       "    <tr>\n",
       "      <th>13</th>\n",
       "      <td>A13</td>\n",
       "      <td>BANGALORE</td>\n",
       "      <td>Gold</td>\n",
       "      <td>2005</td>\n",
       "      <td>3757673.00</td>\n",
       "    </tr>\n",
       "    <tr>\n",
       "      <th>65</th>\n",
       "      <td>A61</td>\n",
       "      <td>COCHIN</td>\n",
       "      <td>Gold</td>\n",
       "      <td>2006</td>\n",
       "      <td>3744127.41</td>\n",
       "    </tr>\n",
       "    <tr>\n",
       "      <th>61</th>\n",
       "      <td>A60</td>\n",
       "      <td>CALCUTTA</td>\n",
       "      <td>Gold</td>\n",
       "      <td>2005</td>\n",
       "      <td>3742856.10</td>\n",
       "    </tr>\n",
       "    <tr>\n",
       "      <th>14</th>\n",
       "      <td>A13</td>\n",
       "      <td>BANGALORE</td>\n",
       "      <td>Gold</td>\n",
       "      <td>2006</td>\n",
       "      <td>3477314.89</td>\n",
       "    </tr>\n",
       "    <tr>\n",
       "      <th>38</th>\n",
       "      <td>A29</td>\n",
       "      <td>CALCUTTA</td>\n",
       "      <td>Gold</td>\n",
       "      <td>2006</td>\n",
       "      <td>3434298.00</td>\n",
       "    </tr>\n",
       "    <tr>\n",
       "      <th>35</th>\n",
       "      <td>A28</td>\n",
       "      <td>TRIVANDRUM</td>\n",
       "      <td>Gold</td>\n",
       "      <td>2006</td>\n",
       "      <td>3376614.65</td>\n",
       "    </tr>\n",
       "  </tbody>\n",
       "</table>\n",
       "</div>"
      ],
      "text/plain": [
       "   Customer        City Product  Yearly      Amount\n",
       "64      A61      COCHIN    Gold    2005  4276860.55\n",
       "55      A44       DELHI    Gold    2005  4165317.77\n",
       "58      A45      COCHIN    Gold    2005  4042447.57\n",
       "52      A43   BANGALORE    Gold    2005  4006956.60\n",
       "13      A13   BANGALORE    Gold    2005  3757673.00\n",
       "65      A61      COCHIN    Gold    2006  3744127.41\n",
       "61      A60    CALCUTTA    Gold    2005  3742856.10\n",
       "14      A13   BANGALORE    Gold    2006  3477314.89\n",
       "38      A29    CALCUTTA    Gold    2006  3434298.00\n",
       "35      A28  TRIVANDRUM    Gold    2006  3376614.65"
      ]
     },
     "execution_count": 86,
     "metadata": {},
     "output_type": "execute_result"
    }
   ],
   "source": [
    "Top10Customers_data"
   ]
  }
 ],
 "metadata": {
  "kernelspec": {
   "display_name": "Python 3",
   "language": "python",
   "name": "python3"
  },
  "language_info": {
   "codemirror_mode": {
    "name": "ipython",
    "version": 3
   },
   "file_extension": ".py",
   "mimetype": "text/x-python",
   "name": "python",
   "nbconvert_exporter": "python",
   "pygments_lexer": "ipython3",
   "version": "3.7.6"
  }
 },
 "nbformat": 4,
 "nbformat_minor": 4
}
