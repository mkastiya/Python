{
 "cells": [
  {
   "cell_type": "markdown",
   "metadata": {},
   "source": [
    "## Case Study 6 - Analyzing online Job Postings"
   ]
  },
  {
   "cell_type": "code",
   "execution_count": 4,
   "metadata": {},
   "outputs": [],
   "source": [
    "import pandas as pd \n",
    "import numpy as np\n",
    "\n",
    "import string\n",
    "import re    #for regex\n",
    "import nltk\n",
    "from nltk.corpus import stopwords\n",
    "\n",
    "import matplotlib.pyplot as plt\n",
    "import seaborn as sns\n",
    "\n",
    "from nltk.stem.wordnet import WordNetLemmatizer \n",
    "from nltk.tokenize import word_tokenize\n",
    "\n",
    "#!pip install textblob\n",
    "import textblob\n",
    "from textblob import TextBlob\n",
    "from textblob import Word"
   ]
  },
  {
   "cell_type": "code",
   "execution_count": 5,
   "metadata": {},
   "outputs": [],
   "source": [
    "#!pip install wordcloud\n",
    "from wordcloud import WordCloud"
   ]
  },
  {
   "cell_type": "code",
   "execution_count": null,
   "metadata": {},
   "outputs": [],
   "source": []
  },
  {
   "cell_type": "markdown",
   "metadata": {},
   "source": [
    "### Import data"
   ]
  },
  {
   "cell_type": "code",
   "execution_count": 6,
   "metadata": {},
   "outputs": [],
   "source": [
    "job_post = pd.read_csv('E:/data job posts.csv')"
   ]
  },
  {
   "cell_type": "code",
   "execution_count": 7,
   "metadata": {},
   "outputs": [
    {
     "data": {
      "text/html": [
       "<div>\n",
       "<style scoped>\n",
       "    .dataframe tbody tr th:only-of-type {\n",
       "        vertical-align: middle;\n",
       "    }\n",
       "\n",
       "    .dataframe tbody tr th {\n",
       "        vertical-align: top;\n",
       "    }\n",
       "\n",
       "    .dataframe thead th {\n",
       "        text-align: right;\n",
       "    }\n",
       "</style>\n",
       "<table border=\"1\" class=\"dataframe\">\n",
       "  <thead>\n",
       "    <tr style=\"text-align: right;\">\n",
       "      <th></th>\n",
       "      <th>jobpost</th>\n",
       "      <th>date</th>\n",
       "      <th>Title</th>\n",
       "      <th>Company</th>\n",
       "      <th>AnnouncementCode</th>\n",
       "      <th>Term</th>\n",
       "      <th>Eligibility</th>\n",
       "      <th>Audience</th>\n",
       "      <th>StartDate</th>\n",
       "      <th>Duration</th>\n",
       "      <th>...</th>\n",
       "      <th>Salary</th>\n",
       "      <th>ApplicationP</th>\n",
       "      <th>OpeningDate</th>\n",
       "      <th>Deadline</th>\n",
       "      <th>Notes</th>\n",
       "      <th>AboutC</th>\n",
       "      <th>Attach</th>\n",
       "      <th>Year</th>\n",
       "      <th>Month</th>\n",
       "      <th>IT</th>\n",
       "    </tr>\n",
       "  </thead>\n",
       "  <tbody>\n",
       "    <tr>\n",
       "      <th>0</th>\n",
       "      <td>AMERIA Investment Consulting Company\\nJOB TITL...</td>\n",
       "      <td>Jan 5, 2004</td>\n",
       "      <td>Chief Financial Officer</td>\n",
       "      <td>AMERIA Investment Consulting Company</td>\n",
       "      <td>NaN</td>\n",
       "      <td>NaN</td>\n",
       "      <td>NaN</td>\n",
       "      <td>NaN</td>\n",
       "      <td>NaN</td>\n",
       "      <td>NaN</td>\n",
       "      <td>...</td>\n",
       "      <td>NaN</td>\n",
       "      <td>To apply for this position, please submit a\\nc...</td>\n",
       "      <td>NaN</td>\n",
       "      <td>26 January 2004</td>\n",
       "      <td>NaN</td>\n",
       "      <td>NaN</td>\n",
       "      <td>NaN</td>\n",
       "      <td>2004</td>\n",
       "      <td>1</td>\n",
       "      <td>False</td>\n",
       "    </tr>\n",
       "    <tr>\n",
       "      <th>1</th>\n",
       "      <td>International Research &amp; Exchanges Board (IREX...</td>\n",
       "      <td>Jan 7, 2004</td>\n",
       "      <td>Full-time Community Connections Intern (paid i...</td>\n",
       "      <td>International Research &amp; Exchanges Board (IREX)</td>\n",
       "      <td>NaN</td>\n",
       "      <td>NaN</td>\n",
       "      <td>NaN</td>\n",
       "      <td>NaN</td>\n",
       "      <td>NaN</td>\n",
       "      <td>3 months</td>\n",
       "      <td>...</td>\n",
       "      <td>NaN</td>\n",
       "      <td>Please submit a cover letter and resume to:\\nI...</td>\n",
       "      <td>NaN</td>\n",
       "      <td>12 January 2004</td>\n",
       "      <td>NaN</td>\n",
       "      <td>The International Research &amp; Exchanges Board (...</td>\n",
       "      <td>NaN</td>\n",
       "      <td>2004</td>\n",
       "      <td>1</td>\n",
       "      <td>False</td>\n",
       "    </tr>\n",
       "    <tr>\n",
       "      <th>2</th>\n",
       "      <td>Caucasus Environmental NGO Network (CENN)\\nJOB...</td>\n",
       "      <td>Jan 7, 2004</td>\n",
       "      <td>Country Coordinator</td>\n",
       "      <td>Caucasus Environmental NGO Network (CENN)</td>\n",
       "      <td>NaN</td>\n",
       "      <td>NaN</td>\n",
       "      <td>NaN</td>\n",
       "      <td>NaN</td>\n",
       "      <td>NaN</td>\n",
       "      <td>Renewable annual contract\\nPOSITION</td>\n",
       "      <td>...</td>\n",
       "      <td>NaN</td>\n",
       "      <td>Please send resume or CV toursula.kazarian@......</td>\n",
       "      <td>NaN</td>\n",
       "      <td>20 January 2004\\nSTART DATE:  February 2004</td>\n",
       "      <td>NaN</td>\n",
       "      <td>The Caucasus Environmental NGO Network is a\\nn...</td>\n",
       "      <td>NaN</td>\n",
       "      <td>2004</td>\n",
       "      <td>1</td>\n",
       "      <td>False</td>\n",
       "    </tr>\n",
       "    <tr>\n",
       "      <th>3</th>\n",
       "      <td>Manoff Group\\nJOB TITLE:  BCC Specialist\\nPOSI...</td>\n",
       "      <td>Jan 7, 2004</td>\n",
       "      <td>BCC Specialist</td>\n",
       "      <td>Manoff Group</td>\n",
       "      <td>NaN</td>\n",
       "      <td>NaN</td>\n",
       "      <td>NaN</td>\n",
       "      <td>NaN</td>\n",
       "      <td>NaN</td>\n",
       "      <td>NaN</td>\n",
       "      <td>...</td>\n",
       "      <td>NaN</td>\n",
       "      <td>Please send cover letter and resume to Amy\\nPe...</td>\n",
       "      <td>NaN</td>\n",
       "      <td>23 January 2004\\nSTART DATE:  Immediate</td>\n",
       "      <td>NaN</td>\n",
       "      <td>NaN</td>\n",
       "      <td>NaN</td>\n",
       "      <td>2004</td>\n",
       "      <td>1</td>\n",
       "      <td>False</td>\n",
       "    </tr>\n",
       "    <tr>\n",
       "      <th>4</th>\n",
       "      <td>Yerevan Brandy Company\\nJOB TITLE:  Software D...</td>\n",
       "      <td>Jan 10, 2004</td>\n",
       "      <td>Software Developer</td>\n",
       "      <td>Yerevan Brandy Company</td>\n",
       "      <td>NaN</td>\n",
       "      <td>NaN</td>\n",
       "      <td>NaN</td>\n",
       "      <td>NaN</td>\n",
       "      <td>NaN</td>\n",
       "      <td>NaN</td>\n",
       "      <td>...</td>\n",
       "      <td>NaN</td>\n",
       "      <td>Successful candidates should submit\\n- CV; \\n-...</td>\n",
       "      <td>NaN</td>\n",
       "      <td>20 January 2004, 18:00</td>\n",
       "      <td>NaN</td>\n",
       "      <td>NaN</td>\n",
       "      <td>NaN</td>\n",
       "      <td>2004</td>\n",
       "      <td>1</td>\n",
       "      <td>True</td>\n",
       "    </tr>\n",
       "  </tbody>\n",
       "</table>\n",
       "<p>5 rows × 24 columns</p>\n",
       "</div>"
      ],
      "text/plain": [
       "                                             jobpost          date  \\\n",
       "0  AMERIA Investment Consulting Company\\nJOB TITL...   Jan 5, 2004   \n",
       "1  International Research & Exchanges Board (IREX...   Jan 7, 2004   \n",
       "2  Caucasus Environmental NGO Network (CENN)\\nJOB...   Jan 7, 2004   \n",
       "3  Manoff Group\\nJOB TITLE:  BCC Specialist\\nPOSI...   Jan 7, 2004   \n",
       "4  Yerevan Brandy Company\\nJOB TITLE:  Software D...  Jan 10, 2004   \n",
       "\n",
       "                                               Title  \\\n",
       "0                            Chief Financial Officer   \n",
       "1  Full-time Community Connections Intern (paid i...   \n",
       "2                                Country Coordinator   \n",
       "3                                     BCC Specialist   \n",
       "4                                 Software Developer   \n",
       "\n",
       "                                           Company AnnouncementCode Term  \\\n",
       "0             AMERIA Investment Consulting Company              NaN  NaN   \n",
       "1  International Research & Exchanges Board (IREX)              NaN  NaN   \n",
       "2        Caucasus Environmental NGO Network (CENN)              NaN  NaN   \n",
       "3                                     Manoff Group              NaN  NaN   \n",
       "4                           Yerevan Brandy Company              NaN  NaN   \n",
       "\n",
       "  Eligibility Audience StartDate                             Duration  ...  \\\n",
       "0         NaN      NaN       NaN                                  NaN  ...   \n",
       "1         NaN      NaN       NaN                             3 months  ...   \n",
       "2         NaN      NaN       NaN  Renewable annual contract\\nPOSITION  ...   \n",
       "3         NaN      NaN       NaN                                  NaN  ...   \n",
       "4         NaN      NaN       NaN                                  NaN  ...   \n",
       "\n",
       "  Salary                                       ApplicationP OpeningDate  \\\n",
       "0    NaN  To apply for this position, please submit a\\nc...         NaN   \n",
       "1    NaN  Please submit a cover letter and resume to:\\nI...         NaN   \n",
       "2    NaN  Please send resume or CV toursula.kazarian@......         NaN   \n",
       "3    NaN  Please send cover letter and resume to Amy\\nPe...         NaN   \n",
       "4    NaN  Successful candidates should submit\\n- CV; \\n-...         NaN   \n",
       "\n",
       "                                      Deadline Notes  \\\n",
       "0                              26 January 2004   NaN   \n",
       "1                              12 January 2004   NaN   \n",
       "2  20 January 2004\\nSTART DATE:  February 2004   NaN   \n",
       "3      23 January 2004\\nSTART DATE:  Immediate   NaN   \n",
       "4                       20 January 2004, 18:00   NaN   \n",
       "\n",
       "                                              AboutC Attach  Year Month     IT  \n",
       "0                                                NaN    NaN  2004     1  False  \n",
       "1  The International Research & Exchanges Board (...    NaN  2004     1  False  \n",
       "2  The Caucasus Environmental NGO Network is a\\nn...    NaN  2004     1  False  \n",
       "3                                                NaN    NaN  2004     1  False  \n",
       "4                                                NaN    NaN  2004     1   True  \n",
       "\n",
       "[5 rows x 24 columns]"
      ]
     },
     "execution_count": 7,
     "metadata": {},
     "output_type": "execute_result"
    }
   ],
   "source": [
    "job_post.head()"
   ]
  },
  {
   "cell_type": "code",
   "execution_count": 8,
   "metadata": {},
   "outputs": [
    {
     "name": "stdout",
     "output_type": "stream",
     "text": [
      "<class 'pandas.core.frame.DataFrame'>\n",
      "RangeIndex: 19001 entries, 0 to 19000\n",
      "Data columns (total 24 columns):\n",
      " #   Column            Non-Null Count  Dtype \n",
      "---  ------            --------------  ----- \n",
      " 0   jobpost           19001 non-null  object\n",
      " 1   date              19001 non-null  object\n",
      " 2   Title             18973 non-null  object\n",
      " 3   Company           18994 non-null  object\n",
      " 4   AnnouncementCode  1208 non-null   object\n",
      " 5   Term              7676 non-null   object\n",
      " 6   Eligibility       4930 non-null   object\n",
      " 7   Audience          640 non-null    object\n",
      " 8   StartDate         9675 non-null   object\n",
      " 9   Duration          10798 non-null  object\n",
      " 10  Location          18969 non-null  object\n",
      " 11  JobDescription    15109 non-null  object\n",
      " 12  JobRequirment     16479 non-null  object\n",
      " 13  RequiredQual      18517 non-null  object\n",
      " 14  Salary            9622 non-null   object\n",
      " 15  ApplicationP      18941 non-null  object\n",
      " 16  OpeningDate       18295 non-null  object\n",
      " 17  Deadline          18936 non-null  object\n",
      " 18  Notes             2211 non-null   object\n",
      " 19  AboutC            12470 non-null  object\n",
      " 20  Attach            1559 non-null   object\n",
      " 21  Year              19001 non-null  int64 \n",
      " 22  Month             19001 non-null  int64 \n",
      " 23  IT                19001 non-null  bool  \n",
      "dtypes: bool(1), int64(2), object(21)\n",
      "memory usage: 3.4+ MB\n"
     ]
    }
   ],
   "source": [
    "job_post.info()"
   ]
  },
  {
   "cell_type": "markdown",
   "metadata": {},
   "source": [
    "### Job Posting by Year"
   ]
  },
  {
   "cell_type": "code",
   "execution_count": 9,
   "metadata": {},
   "outputs": [
    {
     "data": {
      "text/html": [
       "<div>\n",
       "<style scoped>\n",
       "    .dataframe tbody tr th:only-of-type {\n",
       "        vertical-align: middle;\n",
       "    }\n",
       "\n",
       "    .dataframe tbody tr th {\n",
       "        vertical-align: top;\n",
       "    }\n",
       "\n",
       "    .dataframe thead th {\n",
       "        text-align: right;\n",
       "    }\n",
       "</style>\n",
       "<table border=\"1\" class=\"dataframe\">\n",
       "  <thead>\n",
       "    <tr style=\"text-align: right;\">\n",
       "      <th></th>\n",
       "      <th>Year</th>\n",
       "      <th>Job Posts</th>\n",
       "    </tr>\n",
       "  </thead>\n",
       "  <tbody>\n",
       "    <tr>\n",
       "      <th>11</th>\n",
       "      <td>2004</td>\n",
       "      <td>875</td>\n",
       "    </tr>\n",
       "    <tr>\n",
       "      <th>9</th>\n",
       "      <td>2005</td>\n",
       "      <td>1138</td>\n",
       "    </tr>\n",
       "    <tr>\n",
       "      <th>10</th>\n",
       "      <td>2006</td>\n",
       "      <td>1116</td>\n",
       "    </tr>\n",
       "    <tr>\n",
       "      <th>6</th>\n",
       "      <td>2007</td>\n",
       "      <td>1538</td>\n",
       "    </tr>\n",
       "    <tr>\n",
       "      <th>4</th>\n",
       "      <td>2008</td>\n",
       "      <td>1785</td>\n",
       "    </tr>\n",
       "    <tr>\n",
       "      <th>8</th>\n",
       "      <td>2009</td>\n",
       "      <td>1191</td>\n",
       "    </tr>\n",
       "    <tr>\n",
       "      <th>7</th>\n",
       "      <td>2010</td>\n",
       "      <td>1511</td>\n",
       "    </tr>\n",
       "    <tr>\n",
       "      <th>5</th>\n",
       "      <td>2011</td>\n",
       "      <td>1697</td>\n",
       "    </tr>\n",
       "    <tr>\n",
       "      <th>0</th>\n",
       "      <td>2012</td>\n",
       "      <td>2149</td>\n",
       "    </tr>\n",
       "    <tr>\n",
       "      <th>2</th>\n",
       "      <td>2013</td>\n",
       "      <td>2009</td>\n",
       "    </tr>\n",
       "    <tr>\n",
       "      <th>3</th>\n",
       "      <td>2014</td>\n",
       "      <td>1983</td>\n",
       "    </tr>\n",
       "    <tr>\n",
       "      <th>1</th>\n",
       "      <td>2015</td>\n",
       "      <td>2009</td>\n",
       "    </tr>\n",
       "  </tbody>\n",
       "</table>\n",
       "</div>"
      ],
      "text/plain": [
       "    Year  Job Posts\n",
       "11  2004        875\n",
       "9   2005       1138\n",
       "10  2006       1116\n",
       "6   2007       1538\n",
       "4   2008       1785\n",
       "8   2009       1191\n",
       "7   2010       1511\n",
       "5   2011       1697\n",
       "0   2012       2149\n",
       "2   2013       2009\n",
       "3   2014       1983\n",
       "1   2015       2009"
      ]
     },
     "execution_count": 9,
     "metadata": {},
     "output_type": "execute_result"
    }
   ],
   "source": [
    "y = pd.DataFrame(job_post.Year.value_counts().reset_index())\n",
    "y['Job Posts'] = y.Year\n",
    "y['Year'] = y['index']\n",
    "y.drop('index',axis=1,inplace=True)\n",
    "y.sort_values(by='Year',inplace=True)\n",
    "y"
   ]
  },
  {
   "cell_type": "code",
   "execution_count": 10,
   "metadata": {},
   "outputs": [
    {
     "data": {
      "image/png": "[encoded data removed]",
      "text/plain": [
       "<Figure size 432x288 with 1 Axes>"
      ]
     },
     "metadata": {
      "needs_background": "light"
     },
     "output_type": "display_data"
    }
   ],
   "source": [
    "plt.plot('Year','Job Posts',data=y)\n",
    "plt.xlabel('Year')\n",
    "plt.ylabel('No. of job posts')\n",
    "plt.show()"
   ]
  },
  {
   "cell_type": "markdown",
   "metadata": {},
   "source": [
    "### Job Posting by Month"
   ]
  },
  {
   "cell_type": "code",
   "execution_count": 11,
   "metadata": {},
   "outputs": [
    {
     "data": {
      "text/html": [
       "<div>\n",
       "<style scoped>\n",
       "    .dataframe tbody tr th:only-of-type {\n",
       "        vertical-align: middle;\n",
       "    }\n",
       "\n",
       "    .dataframe tbody tr th {\n",
       "        vertical-align: top;\n",
       "    }\n",
       "\n",
       "    .dataframe thead th {\n",
       "        text-align: right;\n",
       "    }\n",
       "</style>\n",
       "<table border=\"1\" class=\"dataframe\">\n",
       "  <thead>\n",
       "    <tr style=\"text-align: right;\">\n",
       "      <th></th>\n",
       "      <th>Month</th>\n",
       "      <th>Job Posts</th>\n",
       "    </tr>\n",
       "  </thead>\n",
       "  <tbody>\n",
       "    <tr>\n",
       "      <th>11</th>\n",
       "      <td>1</td>\n",
       "      <td>1424</td>\n",
       "    </tr>\n",
       "    <tr>\n",
       "      <th>1</th>\n",
       "      <td>2</td>\n",
       "      <td>1665</td>\n",
       "    </tr>\n",
       "    <tr>\n",
       "      <th>0</th>\n",
       "      <td>3</td>\n",
       "      <td>1702</td>\n",
       "    </tr>\n",
       "    <tr>\n",
       "      <th>9</th>\n",
       "      <td>4</td>\n",
       "      <td>1466</td>\n",
       "    </tr>\n",
       "    <tr>\n",
       "      <th>7</th>\n",
       "      <td>5</td>\n",
       "      <td>1580</td>\n",
       "    </tr>\n",
       "    <tr>\n",
       "      <th>2</th>\n",
       "      <td>6</td>\n",
       "      <td>1662</td>\n",
       "    </tr>\n",
       "    <tr>\n",
       "      <th>6</th>\n",
       "      <td>7</td>\n",
       "      <td>1595</td>\n",
       "    </tr>\n",
       "    <tr>\n",
       "      <th>5</th>\n",
       "      <td>8</td>\n",
       "      <td>1613</td>\n",
       "    </tr>\n",
       "    <tr>\n",
       "      <th>3</th>\n",
       "      <td>9</td>\n",
       "      <td>1652</td>\n",
       "    </tr>\n",
       "    <tr>\n",
       "      <th>4</th>\n",
       "      <td>10</td>\n",
       "      <td>1637</td>\n",
       "    </tr>\n",
       "    <tr>\n",
       "      <th>8</th>\n",
       "      <td>11</td>\n",
       "      <td>1573</td>\n",
       "    </tr>\n",
       "    <tr>\n",
       "      <th>10</th>\n",
       "      <td>12</td>\n",
       "      <td>1432</td>\n",
       "    </tr>\n",
       "  </tbody>\n",
       "</table>\n",
       "</div>"
      ],
      "text/plain": [
       "    Month  Job Posts\n",
       "11      1       1424\n",
       "1       2       1665\n",
       "0       3       1702\n",
       "9       4       1466\n",
       "7       5       1580\n",
       "2       6       1662\n",
       "6       7       1595\n",
       "5       8       1613\n",
       "3       9       1652\n",
       "4      10       1637\n",
       "8      11       1573\n",
       "10     12       1432"
      ]
     },
     "execution_count": 11,
     "metadata": {},
     "output_type": "execute_result"
    }
   ],
   "source": [
    "m = pd.DataFrame(job_post.Month.value_counts().reset_index())\n",
    "m['Job Posts'] = m.Month\n",
    "m['Month'] = m['index']\n",
    "m.drop('index',axis=1,inplace=True)\n",
    "m.sort_values(by='Month',inplace=True)\n",
    "m"
   ]
  },
  {
   "cell_type": "code",
   "execution_count": 12,
   "metadata": {},
   "outputs": [
    {
     "data": {
      "image/png": "[encoded data removed]",
      "text/plain": [
       "<Figure size 432x288 with 1 Axes>"
      ]
     },
     "metadata": {
      "needs_background": "light"
     },
     "output_type": "display_data"
    }
   ],
   "source": [
    "plt.plot('Month','Job Posts',data=m)\n",
    "plt.xlabel('Month')\n",
    "plt.ylabel('No. of job posts')\n",
    "plt.show()"
   ]
  },
  {
   "cell_type": "markdown",
   "metadata": {},
   "source": [
    "### Top Companies by Job Posting"
   ]
  },
  {
   "cell_type": "code",
   "execution_count": 13,
   "metadata": {},
   "outputs": [
    {
     "data": {
      "text/html": [
       "<div>\n",
       "<style scoped>\n",
       "    .dataframe tbody tr th:only-of-type {\n",
       "        vertical-align: middle;\n",
       "    }\n",
       "\n",
       "    .dataframe tbody tr th {\n",
       "        vertical-align: top;\n",
       "    }\n",
       "\n",
       "    .dataframe thead th {\n",
       "        text-align: right;\n",
       "    }\n",
       "</style>\n",
       "<table border=\"1\" class=\"dataframe\">\n",
       "  <thead>\n",
       "    <tr style=\"text-align: right;\">\n",
       "      <th></th>\n",
       "      <th>Company</th>\n",
       "      <th>Job Posts</th>\n",
       "    </tr>\n",
       "  </thead>\n",
       "  <tbody>\n",
       "    <tr>\n",
       "      <th>0</th>\n",
       "      <td>ArmenTel CJSC</td>\n",
       "      <td>353</td>\n",
       "    </tr>\n",
       "    <tr>\n",
       "      <th>1</th>\n",
       "      <td>World Vision Armenia</td>\n",
       "      <td>239</td>\n",
       "    </tr>\n",
       "    <tr>\n",
       "      <th>2</th>\n",
       "      <td>Mentor Graphics Development Services CJSC</td>\n",
       "      <td>236</td>\n",
       "    </tr>\n",
       "    <tr>\n",
       "      <th>3</th>\n",
       "      <td>Career Center NGO</td>\n",
       "      <td>229</td>\n",
       "    </tr>\n",
       "    <tr>\n",
       "      <th>4</th>\n",
       "      <td>Orange Armenia</td>\n",
       "      <td>203</td>\n",
       "    </tr>\n",
       "    <tr>\n",
       "      <th>5</th>\n",
       "      <td>Ameriabank CJSC</td>\n",
       "      <td>196</td>\n",
       "    </tr>\n",
       "    <tr>\n",
       "      <th>6</th>\n",
       "      <td>Converse Bank CJSC</td>\n",
       "      <td>161</td>\n",
       "    </tr>\n",
       "    <tr>\n",
       "      <th>7</th>\n",
       "      <td>SAS Group LLC</td>\n",
       "      <td>150</td>\n",
       "    </tr>\n",
       "    <tr>\n",
       "      <th>8</th>\n",
       "      <td>UNDP Armenia Office</td>\n",
       "      <td>132</td>\n",
       "    </tr>\n",
       "    <tr>\n",
       "      <th>9</th>\n",
       "      <td>Energize Global Services CJSC</td>\n",
       "      <td>126</td>\n",
       "    </tr>\n",
       "  </tbody>\n",
       "</table>\n",
       "</div>"
      ],
      "text/plain": [
       "                                     Company  Job Posts\n",
       "0                              ArmenTel CJSC        353\n",
       "1                       World Vision Armenia        239\n",
       "2  Mentor Graphics Development Services CJSC        236\n",
       "3                          Career Center NGO        229\n",
       "4                             Orange Armenia        203\n",
       "5                            Ameriabank CJSC        196\n",
       "6                         Converse Bank CJSC        161\n",
       "7                              SAS Group LLC        150\n",
       "8                        UNDP Armenia Office        132\n",
       "9              Energize Global Services CJSC        126"
      ]
     },
     "execution_count": 13,
     "metadata": {},
     "output_type": "execute_result"
    }
   ],
   "source": [
    "c = pd.DataFrame(job_post.Company.value_counts().reset_index())\n",
    "c['Job Posts'] = c.Company\n",
    "c['Company'] = c['index']\n",
    "c.drop('index',axis=1,inplace=True)\n",
    "c.sort_values(by='Job Posts',inplace=True,ascending=False)\n",
    "c.head(10)"
   ]
  },
  {
   "cell_type": "markdown",
   "metadata": {},
   "source": [
    "### Missing Value Treatment"
   ]
  },
  {
   "cell_type": "code",
   "execution_count": 14,
   "metadata": {},
   "outputs": [],
   "source": [
    "from sklearn.base import BaseEstimator, TransformerMixin"
   ]
  },
  {
   "cell_type": "code",
   "execution_count": 15,
   "metadata": {},
   "outputs": [],
   "source": [
    "class CustomImputer(BaseEstimator, TransformerMixin):\n",
    "    def __init__(self, strategy='mean',filler='NA'):\n",
    "        self.strategy = strategy\n",
    "        self.fill = filler\n",
    "\n",
    "    def fit(self, X, y=None):\n",
    "        if self.strategy in ['mean','median']:\n",
    "            if not all(X.dtypes == np.number):\n",
    "                raise ValueError('dtypes mismatch np.number dtype is \\\n",
    "                                 required for '+ self.strategy)\n",
    "        if self.strategy == 'mean':\n",
    "            self.fill = X.mean()\n",
    "        elif self.strategy == 'median':\n",
    "            self.fill = X.median()\n",
    "        elif self.strategy == 'mode':\n",
    "            self.fill = X.mode().iloc[0]\n",
    "        elif self.strategy == 'fill':\n",
    "            if type(self.fill) is list and type(X) is pd.DataFrame:\n",
    "                self.fill = dict([(cname, v) for cname,v in zip(X.columns, self.fill)])\n",
    "        return self\n",
    "    \n",
    "    def transform(self, X, y=None):\n",
    "        return X.fillna(self.fill)"
   ]
  },
  {
   "cell_type": "code",
   "execution_count": 16,
   "metadata": {},
   "outputs": [],
   "source": [
    "job_post = CustomImputer(strategy='mode').fit_transform(job_post)"
   ]
  },
  {
   "cell_type": "code",
   "execution_count": 17,
   "metadata": {},
   "outputs": [
    {
     "name": "stdout",
     "output_type": "stream",
     "text": [
      "<class 'pandas.core.frame.DataFrame'>\n",
      "RangeIndex: 19001 entries, 0 to 19000\n",
      "Data columns (total 24 columns):\n",
      " #   Column            Non-Null Count  Dtype \n",
      "---  ------            --------------  ----- \n",
      " 0   jobpost           19001 non-null  object\n",
      " 1   date              19001 non-null  object\n",
      " 2   Title             19001 non-null  object\n",
      " 3   Company           19001 non-null  object\n",
      " 4   AnnouncementCode  19001 non-null  object\n",
      " 5   Term              19001 non-null  object\n",
      " 6   Eligibility       19001 non-null  object\n",
      " 7   Audience          19001 non-null  object\n",
      " 8   StartDate         19001 non-null  object\n",
      " 9   Duration          19001 non-null  object\n",
      " 10  Location          19001 non-null  object\n",
      " 11  JobDescription    19001 non-null  object\n",
      " 12  JobRequirment     19001 non-null  object\n",
      " 13  RequiredQual      19001 non-null  object\n",
      " 14  Salary            19001 non-null  object\n",
      " 15  ApplicationP      19001 non-null  object\n",
      " 16  OpeningDate       19001 non-null  object\n",
      " 17  Deadline          19001 non-null  object\n",
      " 18  Notes             19001 non-null  object\n",
      " 19  AboutC            19001 non-null  object\n",
      " 20  Attach            19001 non-null  object\n",
      " 21  Year              19001 non-null  int64 \n",
      " 22  Month             19001 non-null  int64 \n",
      " 23  IT                19001 non-null  bool  \n",
      "dtypes: bool(1), int64(2), object(21)\n",
      "memory usage: 3.4+ MB\n"
     ]
    }
   ],
   "source": [
    "job_post.info()"
   ]
  },
  {
   "cell_type": "markdown",
   "metadata": {},
   "source": [
    "### Remove Duplicate Posts"
   ]
  },
  {
   "cell_type": "code",
   "execution_count": 18,
   "metadata": {},
   "outputs": [],
   "source": [
    "job_post.drop_duplicates(subset=['jobpost','Title'],inplace=True)"
   ]
  },
  {
   "cell_type": "code",
   "execution_count": 19,
   "metadata": {},
   "outputs": [
    {
     "name": "stdout",
     "output_type": "stream",
     "text": [
      "<class 'pandas.core.frame.DataFrame'>\n",
      "Int64Index: 18892 entries, 0 to 19000\n",
      "Data columns (total 24 columns):\n",
      " #   Column            Non-Null Count  Dtype \n",
      "---  ------            --------------  ----- \n",
      " 0   jobpost           18892 non-null  object\n",
      " 1   date              18892 non-null  object\n",
      " 2   Title             18892 non-null  object\n",
      " 3   Company           18892 non-null  object\n",
      " 4   AnnouncementCode  18892 non-null  object\n",
      " 5   Term              18892 non-null  object\n",
      " 6   Eligibility       18892 non-null  object\n",
      " 7   Audience          18892 non-null  object\n",
      " 8   StartDate         18892 non-null  object\n",
      " 9   Duration          18892 non-null  object\n",
      " 10  Location          18892 non-null  object\n",
      " 11  JobDescription    18892 non-null  object\n",
      " 12  JobRequirment     18892 non-null  object\n",
      " 13  RequiredQual      18892 non-null  object\n",
      " 14  Salary            18892 non-null  object\n",
      " 15  ApplicationP      18892 non-null  object\n",
      " 16  OpeningDate       18892 non-null  object\n",
      " 17  Deadline          18892 non-null  object\n",
      " 18  Notes             18892 non-null  object\n",
      " 19  AboutC            18892 non-null  object\n",
      " 20  Attach            18892 non-null  object\n",
      " 21  Year              18892 non-null  int64 \n",
      " 22  Month             18892 non-null  int64 \n",
      " 23  IT                18892 non-null  bool  \n",
      "dtypes: bool(1), int64(2), object(21)\n",
      "memory usage: 3.5+ MB\n"
     ]
    }
   ],
   "source": [
    "job_post.info()"
   ]
  },
  {
   "cell_type": "markdown",
   "metadata": {},
   "source": [
    "### Data Preparation"
   ]
  },
  {
   "cell_type": "code",
   "execution_count": 20,
   "metadata": {},
   "outputs": [
    {
     "data": {
      "text/html": [
       "<div>\n",
       "<style scoped>\n",
       "    .dataframe tbody tr th:only-of-type {\n",
       "        vertical-align: middle;\n",
       "    }\n",
       "\n",
       "    .dataframe tbody tr th {\n",
       "        vertical-align: top;\n",
       "    }\n",
       "\n",
       "    .dataframe thead th {\n",
       "        text-align: right;\n",
       "    }\n",
       "</style>\n",
       "<table border=\"1\" class=\"dataframe\">\n",
       "  <thead>\n",
       "    <tr style=\"text-align: right;\">\n",
       "      <th></th>\n",
       "      <th>jobpost</th>\n",
       "      <th>Title</th>\n",
       "      <th>JobRequirment</th>\n",
       "      <th>JobDescription</th>\n",
       "      <th>RequiredQual</th>\n",
       "      <th>AboutC</th>\n",
       "      <th>Year</th>\n",
       "      <th>IT</th>\n",
       "    </tr>\n",
       "  </thead>\n",
       "  <tbody>\n",
       "    <tr>\n",
       "      <th>0</th>\n",
       "      <td>AMERIA Investment Consulting Company\\nJOB TITL...</td>\n",
       "      <td>Chief Financial Officer</td>\n",
       "      <td>- Supervises financial management and administ...</td>\n",
       "      <td>AMERIA Investment Consulting Company is seekin...</td>\n",
       "      <td>To perform this job successfully, an\\nindividu...</td>\n",
       "      <td>Mentor Graphics Development Services CJSC is a...</td>\n",
       "      <td>2004</td>\n",
       "      <td>False</td>\n",
       "    </tr>\n",
       "    <tr>\n",
       "      <th>1</th>\n",
       "      <td>International Research &amp; Exchanges Board (IREX...</td>\n",
       "      <td>Full-time Community Connections Intern (paid i...</td>\n",
       "      <td>- Participate in application design;\\n- Provid...</td>\n",
       "      <td>The incumbent will work under the direct super...</td>\n",
       "      <td>- Bachelor's Degree; Master's is preferred;\\n-...</td>\n",
       "      <td>The International Research &amp; Exchanges Board (...</td>\n",
       "      <td>2004</td>\n",
       "      <td>False</td>\n",
       "    </tr>\n",
       "    <tr>\n",
       "      <th>2</th>\n",
       "      <td>Caucasus Environmental NGO Network (CENN)\\nJOB...</td>\n",
       "      <td>Country Coordinator</td>\n",
       "      <td>- Working with the Country Director to provide...</td>\n",
       "      <td>Public outreach and strengthening of a growing...</td>\n",
       "      <td>- Degree in environmentally related field, or ...</td>\n",
       "      <td>The Caucasus Environmental NGO Network is a\\nn...</td>\n",
       "      <td>2004</td>\n",
       "      <td>False</td>\n",
       "    </tr>\n",
       "    <tr>\n",
       "      <th>3</th>\n",
       "      <td>Manoff Group\\nJOB TITLE:  BCC Specialist\\nPOSI...</td>\n",
       "      <td>BCC Specialist</td>\n",
       "      <td>- Identify gaps in knowledge and overseeing in...</td>\n",
       "      <td>The LEAD (Local Enhancement and Development fo...</td>\n",
       "      <td>- Advanced degree in public health, social sci...</td>\n",
       "      <td>Mentor Graphics Development Services CJSC is a...</td>\n",
       "      <td>2004</td>\n",
       "      <td>False</td>\n",
       "    </tr>\n",
       "    <tr>\n",
       "      <th>4</th>\n",
       "      <td>Yerevan Brandy Company\\nJOB TITLE:  Software D...</td>\n",
       "      <td>Software Developer</td>\n",
       "      <td>- Rendering technical assistance to Database M...</td>\n",
       "      <td>The incumbent will work under the direct super...</td>\n",
       "      <td>- University degree; economical background is ...</td>\n",
       "      <td>Mentor Graphics Development Services CJSC is a...</td>\n",
       "      <td>2004</td>\n",
       "      <td>True</td>\n",
       "    </tr>\n",
       "  </tbody>\n",
       "</table>\n",
       "</div>"
      ],
      "text/plain": [
       "                                             jobpost  \\\n",
       "0  AMERIA Investment Consulting Company\\nJOB TITL...   \n",
       "1  International Research & Exchanges Board (IREX...   \n",
       "2  Caucasus Environmental NGO Network (CENN)\\nJOB...   \n",
       "3  Manoff Group\\nJOB TITLE:  BCC Specialist\\nPOSI...   \n",
       "4  Yerevan Brandy Company\\nJOB TITLE:  Software D...   \n",
       "\n",
       "                                               Title  \\\n",
       "0                            Chief Financial Officer   \n",
       "1  Full-time Community Connections Intern (paid i...   \n",
       "2                                Country Coordinator   \n",
       "3                                     BCC Specialist   \n",
       "4                                 Software Developer   \n",
       "\n",
       "                                       JobRequirment  \\\n",
       "0  - Supervises financial management and administ...   \n",
       "1  - Participate in application design;\\n- Provid...   \n",
       "2  - Working with the Country Director to provide...   \n",
       "3  - Identify gaps in knowledge and overseeing in...   \n",
       "4  - Rendering technical assistance to Database M...   \n",
       "\n",
       "                                      JobDescription  \\\n",
       "0  AMERIA Investment Consulting Company is seekin...   \n",
       "1  The incumbent will work under the direct super...   \n",
       "2  Public outreach and strengthening of a growing...   \n",
       "3  The LEAD (Local Enhancement and Development fo...   \n",
       "4  The incumbent will work under the direct super...   \n",
       "\n",
       "                                        RequiredQual  \\\n",
       "0  To perform this job successfully, an\\nindividu...   \n",
       "1  - Bachelor's Degree; Master's is preferred;\\n-...   \n",
       "2  - Degree in environmentally related field, or ...   \n",
       "3  - Advanced degree in public health, social sci...   \n",
       "4  - University degree; economical background is ...   \n",
       "\n",
       "                                              AboutC  Year     IT  \n",
       "0  Mentor Graphics Development Services CJSC is a...  2004  False  \n",
       "1  The International Research & Exchanges Board (...  2004  False  \n",
       "2  The Caucasus Environmental NGO Network is a\\nn...  2004  False  \n",
       "3  Mentor Graphics Development Services CJSC is a...  2004  False  \n",
       "4  Mentor Graphics Development Services CJSC is a...  2004   True  "
      ]
     },
     "execution_count": 20,
     "metadata": {},
     "output_type": "execute_result"
    }
   ],
   "source": [
    "job_post = job_post[['jobpost','Title','JobRequirment','JobDescription','RequiredQual','AboutC','Year','IT']]\n",
    "job_post.head()"
   ]
  },
  {
   "cell_type": "code",
   "execution_count": 21,
   "metadata": {},
   "outputs": [
    {
     "data": {
      "text/html": [
       "<div>\n",
       "<style scoped>\n",
       "    .dataframe tbody tr th:only-of-type {\n",
       "        vertical-align: middle;\n",
       "    }\n",
       "\n",
       "    .dataframe tbody tr th {\n",
       "        vertical-align: top;\n",
       "    }\n",
       "\n",
       "    .dataframe thead th {\n",
       "        text-align: right;\n",
       "    }\n",
       "</style>\n",
       "<table border=\"1\" class=\"dataframe\">\n",
       "  <thead>\n",
       "    <tr style=\"text-align: right;\">\n",
       "      <th></th>\n",
       "      <th>jobpost</th>\n",
       "      <th>Title</th>\n",
       "      <th>JobRequirment</th>\n",
       "      <th>JobDescription</th>\n",
       "      <th>RequiredQual</th>\n",
       "      <th>AboutC</th>\n",
       "    </tr>\n",
       "  </thead>\n",
       "  <tbody>\n",
       "    <tr>\n",
       "      <th>0</th>\n",
       "      <td>AMERIA Investment Consulting Company\\nJOB TITL...</td>\n",
       "      <td>Chief Financial Officer</td>\n",
       "      <td>- Supervises financial management and administ...</td>\n",
       "      <td>AMERIA Investment Consulting Company is seekin...</td>\n",
       "      <td>To perform this job successfully, an\\nindividu...</td>\n",
       "      <td>Mentor Graphics Development Services CJSC is a...</td>\n",
       "    </tr>\n",
       "    <tr>\n",
       "      <th>1</th>\n",
       "      <td>International Research &amp; Exchanges Board (IREX...</td>\n",
       "      <td>Full-time Community Connections Intern (paid i...</td>\n",
       "      <td>- Participate in application design;\\n- Provid...</td>\n",
       "      <td>The incumbent will work under the direct super...</td>\n",
       "      <td>- Bachelor's Degree; Master's is preferred;\\n-...</td>\n",
       "      <td>The International Research &amp; Exchanges Board (...</td>\n",
       "    </tr>\n",
       "    <tr>\n",
       "      <th>2</th>\n",
       "      <td>Caucasus Environmental NGO Network (CENN)\\nJOB...</td>\n",
       "      <td>Country Coordinator</td>\n",
       "      <td>- Working with the Country Director to provide...</td>\n",
       "      <td>Public outreach and strengthening of a growing...</td>\n",
       "      <td>- Degree in environmentally related field, or ...</td>\n",
       "      <td>The Caucasus Environmental NGO Network is a\\nn...</td>\n",
       "    </tr>\n",
       "    <tr>\n",
       "      <th>3</th>\n",
       "      <td>Manoff Group\\nJOB TITLE:  BCC Specialist\\nPOSI...</td>\n",
       "      <td>BCC Specialist</td>\n",
       "      <td>- Identify gaps in knowledge and overseeing in...</td>\n",
       "      <td>The LEAD (Local Enhancement and Development fo...</td>\n",
       "      <td>- Advanced degree in public health, social sci...</td>\n",
       "      <td>Mentor Graphics Development Services CJSC is a...</td>\n",
       "    </tr>\n",
       "    <tr>\n",
       "      <th>4</th>\n",
       "      <td>Yerevan Brandy Company\\nJOB TITLE:  Software D...</td>\n",
       "      <td>Software Developer</td>\n",
       "      <td>- Rendering technical assistance to Database M...</td>\n",
       "      <td>The incumbent will work under the direct super...</td>\n",
       "      <td>- University degree; economical background is ...</td>\n",
       "      <td>Mentor Graphics Development Services CJSC is a...</td>\n",
       "    </tr>\n",
       "  </tbody>\n",
       "</table>\n",
       "</div>"
      ],
      "text/plain": [
       "                                             jobpost  \\\n",
       "0  AMERIA Investment Consulting Company\\nJOB TITL...   \n",
       "1  International Research & Exchanges Board (IREX...   \n",
       "2  Caucasus Environmental NGO Network (CENN)\\nJOB...   \n",
       "3  Manoff Group\\nJOB TITLE:  BCC Specialist\\nPOSI...   \n",
       "4  Yerevan Brandy Company\\nJOB TITLE:  Software D...   \n",
       "\n",
       "                                               Title  \\\n",
       "0                            Chief Financial Officer   \n",
       "1  Full-time Community Connections Intern (paid i...   \n",
       "2                                Country Coordinator   \n",
       "3                                     BCC Specialist   \n",
       "4                                 Software Developer   \n",
       "\n",
       "                                       JobRequirment  \\\n",
       "0  - Supervises financial management and administ...   \n",
       "1  - Participate in application design;\\n- Provid...   \n",
       "2  - Working with the Country Director to provide...   \n",
       "3  - Identify gaps in knowledge and overseeing in...   \n",
       "4  - Rendering technical assistance to Database M...   \n",
       "\n",
       "                                      JobDescription  \\\n",
       "0  AMERIA Investment Consulting Company is seekin...   \n",
       "1  The incumbent will work under the direct super...   \n",
       "2  Public outreach and strengthening of a growing...   \n",
       "3  The LEAD (Local Enhancement and Development fo...   \n",
       "4  The incumbent will work under the direct super...   \n",
       "\n",
       "                                        RequiredQual  \\\n",
       "0  To perform this job successfully, an\\nindividu...   \n",
       "1  - Bachelor's Degree; Master's is preferred;\\n-...   \n",
       "2  - Degree in environmentally related field, or ...   \n",
       "3  - Advanced degree in public health, social sci...   \n",
       "4  - University degree; economical background is ...   \n",
       "\n",
       "                                              AboutC  \n",
       "0  Mentor Graphics Development Services CJSC is a...  \n",
       "1  The International Research & Exchanges Board (...  \n",
       "2  The Caucasus Environmental NGO Network is a\\nn...  \n",
       "3  Mentor Graphics Development Services CJSC is a...  \n",
       "4  Mentor Graphics Development Services CJSC is a...  "
      ]
     },
     "execution_count": 21,
     "metadata": {},
     "output_type": "execute_result"
    }
   ],
   "source": [
    "text = job_post[['jobpost','Title','JobRequirment','JobDescription','RequiredQual','AboutC']]\n",
    "text.head()"
   ]
  },
  {
   "cell_type": "markdown",
   "metadata": {},
   "source": [
    "### Remove single lines and quotes"
   ]
  },
  {
   "cell_type": "code",
   "execution_count": 22,
   "metadata": {},
   "outputs": [],
   "source": [
    "def remove_newline(text):\n",
    "    text = re.sub(r'\\n', '', text)\n",
    "    text = re.sub(r\"\\'\", '', text)                    \n",
    "    return(text)"
   ]
  },
  {
   "cell_type": "code",
   "execution_count": 23,
   "metadata": {},
   "outputs": [
    {
     "name": "stderr",
     "output_type": "stream",
     "text": [
      "E:\\MyPhoto\\Analytics\\lib\\site-packages\\ipykernel_launcher.py:2: SettingWithCopyWarning: \n",
      "A value is trying to be set on a copy of a slice from a DataFrame.\n",
      "Try using .loc[row_indexer,col_indexer] = value instead\n",
      "\n",
      "See the caveats in the documentation: https://pandas.pydata.org/pandas-docs/stable/user_guide/indexing.html#returning-a-view-versus-a-copy\n",
      "  \n"
     ]
    }
   ],
   "source": [
    "for i in text.columns:\n",
    "    text[i] = text[i].apply(lambda x: remove_newline(x))"
   ]
  },
  {
   "cell_type": "markdown",
   "metadata": {},
   "source": [
    "### Remove email, web address and numbers"
   ]
  },
  {
   "cell_type": "code",
   "execution_count": 24,
   "metadata": {},
   "outputs": [],
   "source": [
    "def remove_emails(text):\n",
    "    text=re.sub(r'\\S+@\\S+','', text)\n",
    "    text=re.sub(r'http://\\S+|https://\\S+','', text)\n",
    "    text=re.sub(r'(?:(?:\\+?([1-9]|[0-9][0-9]|[0-9][0-9][0-9])\\s*(?:[.-]\\s*)?)?(?:\\(\\s*([2-9]1[02-9]|[2-9][02-8]1|[2-9][02-8][02-9])\\s*\\)|([0-9][1-9]|[0-9]1[02-9]|[2-9][02-8]1|[2-9][02-8][02-9]))\\s*(?:[.-]\\s*)?)?([2-9]1[02-9]|[2-9][02-9]1|[2-9][02-9]{2})\\s*(?:[.-]\\s*)?([0-9]{4})(?:\\s*(?:#|x\\.?|ext\\.?|extension)\\s*(\\d+))?','', text)\n",
    "    return(text)"
   ]
  },
  {
   "cell_type": "code",
   "execution_count": 25,
   "metadata": {},
   "outputs": [
    {
     "name": "stderr",
     "output_type": "stream",
     "text": [
      "E:\\MyPhoto\\Analytics\\lib\\site-packages\\ipykernel_launcher.py:2: SettingWithCopyWarning: \n",
      "A value is trying to be set on a copy of a slice from a DataFrame.\n",
      "Try using .loc[row_indexer,col_indexer] = value instead\n",
      "\n",
      "See the caveats in the documentation: https://pandas.pydata.org/pandas-docs/stable/user_guide/indexing.html#returning-a-view-versus-a-copy\n",
      "  \n"
     ]
    }
   ],
   "source": [
    "for i in text.columns:\n",
    "    text[i] = text[i].apply(lambda x: remove_emails(x))"
   ]
  },
  {
   "cell_type": "markdown",
   "metadata": {},
   "source": [
    "### Remove Punctuations"
   ]
  },
  {
   "cell_type": "code",
   "execution_count": 26,
   "metadata": {},
   "outputs": [],
   "source": [
    "def remove_punctuations(text):\n",
    "    text=re.sub(r'!\"#$%&()*,-./:;<=>?@\\[]^_`{|}~','', text)\n",
    "    text=text.lower()\n",
    "    return(text)"
   ]
  },
  {
   "cell_type": "code",
   "execution_count": 27,
   "metadata": {},
   "outputs": [
    {
     "name": "stderr",
     "output_type": "stream",
     "text": [
      "E:\\MyPhoto\\Analytics\\lib\\site-packages\\ipykernel_launcher.py:2: SettingWithCopyWarning: \n",
      "A value is trying to be set on a copy of a slice from a DataFrame.\n",
      "Try using .loc[row_indexer,col_indexer] = value instead\n",
      "\n",
      "See the caveats in the documentation: https://pandas.pydata.org/pandas-docs/stable/user_guide/indexing.html#returning-a-view-versus-a-copy\n",
      "  \n"
     ]
    }
   ],
   "source": [
    "for i in text.columns:\n",
    "    text[i] = text[i].apply(lambda x: remove_punctuations(x))"
   ]
  },
  {
   "cell_type": "markdown",
   "metadata": {},
   "source": [
    "### Tokenization"
   ]
  },
  {
   "cell_type": "code",
   "execution_count": 28,
   "metadata": {},
   "outputs": [],
   "source": [
    "def tokenization(text):\n",
    "    text=word_tokenize(text)\n",
    "    return(text)"
   ]
  },
  {
   "cell_type": "code",
   "execution_count": 29,
   "metadata": {},
   "outputs": [],
   "source": [
    "token_text = pd.DataFrame()\n",
    "for i in text.columns:\n",
    "    token_text[i] = text[i].apply(lambda x: tokenization(x))"
   ]
  },
  {
   "cell_type": "code",
   "execution_count": 30,
   "metadata": {},
   "outputs": [
    {
     "data": {
      "text/html": [
       "<div>\n",
       "<style scoped>\n",
       "    .dataframe tbody tr th:only-of-type {\n",
       "        vertical-align: middle;\n",
       "    }\n",
       "\n",
       "    .dataframe tbody tr th {\n",
       "        vertical-align: top;\n",
       "    }\n",
       "\n",
       "    .dataframe thead th {\n",
       "        text-align: right;\n",
       "    }\n",
       "</style>\n",
       "<table border=\"1\" class=\"dataframe\">\n",
       "  <thead>\n",
       "    <tr style=\"text-align: right;\">\n",
       "      <th></th>\n",
       "      <th>jobpost</th>\n",
       "      <th>Title</th>\n",
       "      <th>JobRequirment</th>\n",
       "      <th>JobDescription</th>\n",
       "      <th>RequiredQual</th>\n",
       "      <th>AboutC</th>\n",
       "    </tr>\n",
       "  </thead>\n",
       "  <tbody>\n",
       "    <tr>\n",
       "      <th>0</th>\n",
       "      <td>[ameria, investment, consulting, companyjob, t...</td>\n",
       "      <td>[chief, financial, officer]</td>\n",
       "      <td>[-, supervises, financial, management, and, ad...</td>\n",
       "      <td>[ameria, investment, consulting, company, is, ...</td>\n",
       "      <td>[to, perform, this, job, successfully, ,, anin...</td>\n",
       "      <td>[mentor, graphics, development, services, cjsc...</td>\n",
       "    </tr>\n",
       "    <tr>\n",
       "      <th>1</th>\n",
       "      <td>[international, research, &amp;, exchanges, board,...</td>\n",
       "      <td>[full-time, community, connections, intern, (,...</td>\n",
       "      <td>[-, participate, in, application, design, ;, -...</td>\n",
       "      <td>[the, incumbent, will, work, under, the, direc...</td>\n",
       "      <td>[-, bachelors, degree, ;, masters, is, preferr...</td>\n",
       "      <td>[the, international, research, &amp;, exchanges, b...</td>\n",
       "    </tr>\n",
       "    <tr>\n",
       "      <th>2</th>\n",
       "      <td>[caucasus, environmental, ngo, network, (, cen...</td>\n",
       "      <td>[country, coordinator]</td>\n",
       "      <td>[-, working, with, the, country, director, to,...</td>\n",
       "      <td>[public, outreach, and, strengthening, of, a, ...</td>\n",
       "      <td>[-, degree, in, environmentally, related, fiel...</td>\n",
       "      <td>[the, caucasus, environmental, ngo, network, i...</td>\n",
       "    </tr>\n",
       "    <tr>\n",
       "      <th>3</th>\n",
       "      <td>[manoff, groupjob, title, :, bcc, specialistpo...</td>\n",
       "      <td>[bcc, specialist]</td>\n",
       "      <td>[-, identify, gaps, in, knowledge, and, overse...</td>\n",
       "      <td>[the, lead, (, local, enhancement, and, develo...</td>\n",
       "      <td>[-, advanced, degree, in, public, health, ,, s...</td>\n",
       "      <td>[mentor, graphics, development, services, cjsc...</td>\n",
       "    </tr>\n",
       "    <tr>\n",
       "      <th>4</th>\n",
       "      <td>[yerevan, brandy, companyjob, title, :, softwa...</td>\n",
       "      <td>[software, developer]</td>\n",
       "      <td>[-, rendering, technical, assistance, to, data...</td>\n",
       "      <td>[the, incumbent, will, work, under, the, direc...</td>\n",
       "      <td>[-, university, degree, ;, economical, backgro...</td>\n",
       "      <td>[mentor, graphics, development, services, cjsc...</td>\n",
       "    </tr>\n",
       "  </tbody>\n",
       "</table>\n",
       "</div>"
      ],
      "text/plain": [
       "                                             jobpost  \\\n",
       "0  [ameria, investment, consulting, companyjob, t...   \n",
       "1  [international, research, &, exchanges, board,...   \n",
       "2  [caucasus, environmental, ngo, network, (, cen...   \n",
       "3  [manoff, groupjob, title, :, bcc, specialistpo...   \n",
       "4  [yerevan, brandy, companyjob, title, :, softwa...   \n",
       "\n",
       "                                               Title  \\\n",
       "0                        [chief, financial, officer]   \n",
       "1  [full-time, community, connections, intern, (,...   \n",
       "2                             [country, coordinator]   \n",
       "3                                  [bcc, specialist]   \n",
       "4                              [software, developer]   \n",
       "\n",
       "                                       JobRequirment  \\\n",
       "0  [-, supervises, financial, management, and, ad...   \n",
       "1  [-, participate, in, application, design, ;, -...   \n",
       "2  [-, working, with, the, country, director, to,...   \n",
       "3  [-, identify, gaps, in, knowledge, and, overse...   \n",
       "4  [-, rendering, technical, assistance, to, data...   \n",
       "\n",
       "                                      JobDescription  \\\n",
       "0  [ameria, investment, consulting, company, is, ...   \n",
       "1  [the, incumbent, will, work, under, the, direc...   \n",
       "2  [public, outreach, and, strengthening, of, a, ...   \n",
       "3  [the, lead, (, local, enhancement, and, develo...   \n",
       "4  [the, incumbent, will, work, under, the, direc...   \n",
       "\n",
       "                                        RequiredQual  \\\n",
       "0  [to, perform, this, job, successfully, ,, anin...   \n",
       "1  [-, bachelors, degree, ;, masters, is, preferr...   \n",
       "2  [-, degree, in, environmentally, related, fiel...   \n",
       "3  [-, advanced, degree, in, public, health, ,, s...   \n",
       "4  [-, university, degree, ;, economical, backgro...   \n",
       "\n",
       "                                              AboutC  \n",
       "0  [mentor, graphics, development, services, cjsc...  \n",
       "1  [the, international, research, &, exchanges, b...  \n",
       "2  [the, caucasus, environmental, ngo, network, i...  \n",
       "3  [mentor, graphics, development, services, cjsc...  \n",
       "4  [mentor, graphics, development, services, cjsc...  "
      ]
     },
     "execution_count": 30,
     "metadata": {},
     "output_type": "execute_result"
    }
   ],
   "source": [
    "token_text.head()"
   ]
  },
  {
   "cell_type": "markdown",
   "metadata": {},
   "source": [
    "### Lemmatisation"
   ]
  },
  {
   "cell_type": "code",
   "execution_count": 31,
   "metadata": {},
   "outputs": [],
   "source": [
    "def lemmatisation(text):\n",
    "    text = text.apply(lambda x: \" \".join([Word(word).lemmatize() for word in x.split()]))\n",
    "    return(text)"
   ]
  },
  {
   "cell_type": "code",
   "execution_count": 32,
   "metadata": {},
   "outputs": [
    {
     "name": "stderr",
     "output_type": "stream",
     "text": [
      "E:\\MyPhoto\\Analytics\\lib\\site-packages\\ipykernel_launcher.py:2: SettingWithCopyWarning: \n",
      "A value is trying to be set on a copy of a slice from a DataFrame.\n",
      "Try using .loc[row_indexer,col_indexer] = value instead\n",
      "\n",
      "See the caveats in the documentation: https://pandas.pydata.org/pandas-docs/stable/user_guide/indexing.html#returning-a-view-versus-a-copy\n",
      "  \n"
     ]
    }
   ],
   "source": [
    "for i in text.columns:\n",
    "    text[i] = lemmatisation(text[i])"
   ]
  },
  {
   "cell_type": "markdown",
   "metadata": {},
   "source": [
    "### Stopwords"
   ]
  },
  {
   "cell_type": "code",
   "execution_count": 33,
   "metadata": {},
   "outputs": [],
   "source": [
    "stop_words = stopwords.words('english')\n",
    "stop_words.extend(['armenian','armenia','job','title','position','location','responsibilities','applications',\n",
    "                   'procedures','deadline','required','qualifications','renumeration','salary','date','company','llc'])"
   ]
  },
  {
   "cell_type": "code",
   "execution_count": 34,
   "metadata": {},
   "outputs": [],
   "source": [
    "def stop_word_removal(text):\n",
    "    text = text.apply(lambda x: \" \".join(x for x in x.split() if x not in stop_words)) #Removing stop words\n",
    "    text = text.apply(lambda x: re.sub(\"  \",\" \", x))          #Replacing double space with single space\n",
    "    return(text)"
   ]
  },
  {
   "cell_type": "code",
   "execution_count": 35,
   "metadata": {},
   "outputs": [
    {
     "name": "stderr",
     "output_type": "stream",
     "text": [
      "E:\\MyPhoto\\Analytics\\lib\\site-packages\\ipykernel_launcher.py:2: SettingWithCopyWarning: \n",
      "A value is trying to be set on a copy of a slice from a DataFrame.\n",
      "Try using .loc[row_indexer,col_indexer] = value instead\n",
      "\n",
      "See the caveats in the documentation: https://pandas.pydata.org/pandas-docs/stable/user_guide/indexing.html#returning-a-view-versus-a-copy\n",
      "  \n"
     ]
    }
   ],
   "source": [
    "for i in text.columns:\n",
    "    text[i] = stop_word_removal(text[i])"
   ]
  },
  {
   "cell_type": "code",
   "execution_count": 36,
   "metadata": {
    "scrolled": true
   },
   "outputs": [
    {
     "data": {
      "text/html": [
       "<div>\n",
       "<style scoped>\n",
       "    .dataframe tbody tr th:only-of-type {\n",
       "        vertical-align: middle;\n",
       "    }\n",
       "\n",
       "    .dataframe tbody tr th {\n",
       "        vertical-align: top;\n",
       "    }\n",
       "\n",
       "    .dataframe thead th {\n",
       "        text-align: right;\n",
       "    }\n",
       "</style>\n",
       "<table border=\"1\" class=\"dataframe\">\n",
       "  <thead>\n",
       "    <tr style=\"text-align: right;\">\n",
       "      <th></th>\n",
       "      <th>jobpost</th>\n",
       "      <th>Title</th>\n",
       "      <th>JobRequirment</th>\n",
       "      <th>JobDescription</th>\n",
       "      <th>RequiredQual</th>\n",
       "      <th>AboutC</th>\n",
       "    </tr>\n",
       "  </thead>\n",
       "  <tbody>\n",
       "    <tr>\n",
       "      <th>0</th>\n",
       "      <td>ameria investment consulting companyjob title:...</td>\n",
       "      <td>chief financial officer</td>\n",
       "      <td>- supervises financial management administrati...</td>\n",
       "      <td>ameria investment consulting seeking achief fi...</td>\n",
       "      <td>perform successfully, anindividual must able p...</td>\n",
       "      <td>mentor graphic development service cjsc subsid...</td>\n",
       "    </tr>\n",
       "    <tr>\n",
       "      <th>1</th>\n",
       "      <td>international research &amp; exchange board (irex)...</td>\n",
       "      <td>full-time community connection intern (paid in...</td>\n",
       "      <td>- participate application design;- provide nec...</td>\n",
       "      <td>incumbent work direct supervision ofthe presid...</td>\n",
       "      <td>- bachelor degree; master preferred;- excellen...</td>\n",
       "      <td>international research &amp; exchange board (irex)...</td>\n",
       "    </tr>\n",
       "    <tr>\n",
       "      <th>2</th>\n",
       "      <td>caucasus environmental ngo network (cenn)job t...</td>\n",
       "      <td>country coordinator</td>\n",
       "      <td>- working country director provide environment...</td>\n",
       "      <td>public outreach strengthening growingnetwork e...</td>\n",
       "      <td>- degree environmentally related field, 5 year...</td>\n",
       "      <td>caucasus environmental ngo network anon-govern...</td>\n",
       "    </tr>\n",
       "    <tr>\n",
       "      <th>3</th>\n",
       "      <td>manoff groupjob title: bcc specialistposition ...</td>\n",
       "      <td>bcc specialist</td>\n",
       "      <td>- identify gap knowledge overseeing informatio...</td>\n",
       "      <td>lead (local enhancement development forhealth)...</td>\n",
       "      <td>- advanced degree public health, social scienc...</td>\n",
       "      <td>mentor graphic development service cjsc subsid...</td>\n",
       "    </tr>\n",
       "    <tr>\n",
       "      <th>4</th>\n",
       "      <td>yerevan brandy companyjob title: software deve...</td>\n",
       "      <td>software developer</td>\n",
       "      <td>- rendering technical assistance database mana...</td>\n",
       "      <td>incumbent work direct supervision ofthe presid...</td>\n",
       "      <td>- university degree; economical background plu...</td>\n",
       "      <td>mentor graphic development service cjsc subsid...</td>\n",
       "    </tr>\n",
       "    <tr>\n",
       "      <th>...</th>\n",
       "      <td>...</td>\n",
       "      <td>...</td>\n",
       "      <td>...</td>\n",
       "      <td>...</td>\n",
       "      <td>...</td>\n",
       "      <td>...</td>\n",
       "    </tr>\n",
       "    <tr>\n",
       "      <th>18996</th>\n",
       "      <td>technolinguistics ngotitle: senior creative ux...</td>\n",
       "      <td>senior creative ux/ ui designer</td>\n",
       "      <td>- work closely product business team identify ...</td>\n",
       "      <td>tech startup technolinguistics based new yorki...</td>\n",
       "      <td>- least 5 year experience interface/ interacti...</td>\n",
       "      <td>technolinguistics ha mandate transformthe digi...</td>\n",
       "    </tr>\n",
       "    <tr>\n",
       "      <th>18997</th>\n",
       "      <td>\"coca-cola hellenic bottling armenia\" cjsctitl...</td>\n",
       "      <td>category development manager</td>\n",
       "      <td>- establish manage category management develop...</td>\n",
       "      <td>incumbent work direct supervision ofthe presid...</td>\n",
       "      <td>- university degree, ideally business related;...</td>\n",
       "      <td>mentor graphic development service cjsc subsid...</td>\n",
       "    </tr>\n",
       "    <tr>\n",
       "      <th>18998</th>\n",
       "      <td>\"coca-cola hellenic bottling armenia\" cjsctitl...</td>\n",
       "      <td>operational marketing manager</td>\n",
       "      <td>- develop, establish maintain marketing strate...</td>\n",
       "      <td>incumbent work direct supervision ofthe presid...</td>\n",
       "      <td>- degree business, marketing related field equ...</td>\n",
       "      <td>mentor graphic development service cjsc subsid...</td>\n",
       "    </tr>\n",
       "    <tr>\n",
       "      <th>18999</th>\n",
       "      <td>san lazzaro llctitle: head online sale departm...</td>\n",
       "      <td>head online sale department</td>\n",
       "      <td>- handle project activites online store start;...</td>\n",
       "      <td>san lazzaro looking well-experiencedindividual...</td>\n",
       "      <td>- least 1 year experience online sale manageme...</td>\n",
       "      <td>san lazzaro work several international brandsa...</td>\n",
       "    </tr>\n",
       "    <tr>\n",
       "      <th>19000</th>\n",
       "      <td>\"kamurj\" uco cjsctitle: lawyer legal departmen...</td>\n",
       "      <td>lawyer legal department</td>\n",
       "      <td>- properly provide internal legal service orga...</td>\n",
       "      <td>\"kamurj\" uco cjsc looking lawyer legaldepartme...</td>\n",
       "      <td>- higher legal education; master degree plus;-...</td>\n",
       "      <td>\"kamurj\" uco cjsc providing micro small loan t...</td>\n",
       "    </tr>\n",
       "  </tbody>\n",
       "</table>\n",
       "<p>18892 rows × 6 columns</p>\n",
       "</div>"
      ],
      "text/plain": [
       "                                                 jobpost  \\\n",
       "0      ameria investment consulting companyjob title:...   \n",
       "1      international research & exchange board (irex)...   \n",
       "2      caucasus environmental ngo network (cenn)job t...   \n",
       "3      manoff groupjob title: bcc specialistposition ...   \n",
       "4      yerevan brandy companyjob title: software deve...   \n",
       "...                                                  ...   \n",
       "18996  technolinguistics ngotitle: senior creative ux...   \n",
       "18997  \"coca-cola hellenic bottling armenia\" cjsctitl...   \n",
       "18998  \"coca-cola hellenic bottling armenia\" cjsctitl...   \n",
       "18999  san lazzaro llctitle: head online sale departm...   \n",
       "19000  \"kamurj\" uco cjsctitle: lawyer legal departmen...   \n",
       "\n",
       "                                                   Title  \\\n",
       "0                                chief financial officer   \n",
       "1      full-time community connection intern (paid in...   \n",
       "2                                    country coordinator   \n",
       "3                                         bcc specialist   \n",
       "4                                     software developer   \n",
       "...                                                  ...   \n",
       "18996                    senior creative ux/ ui designer   \n",
       "18997                       category development manager   \n",
       "18998                      operational marketing manager   \n",
       "18999                        head online sale department   \n",
       "19000                            lawyer legal department   \n",
       "\n",
       "                                           JobRequirment  \\\n",
       "0      - supervises financial management administrati...   \n",
       "1      - participate application design;- provide nec...   \n",
       "2      - working country director provide environment...   \n",
       "3      - identify gap knowledge overseeing informatio...   \n",
       "4      - rendering technical assistance database mana...   \n",
       "...                                                  ...   \n",
       "18996  - work closely product business team identify ...   \n",
       "18997  - establish manage category management develop...   \n",
       "18998  - develop, establish maintain marketing strate...   \n",
       "18999  - handle project activites online store start;...   \n",
       "19000  - properly provide internal legal service orga...   \n",
       "\n",
       "                                          JobDescription  \\\n",
       "0      ameria investment consulting seeking achief fi...   \n",
       "1      incumbent work direct supervision ofthe presid...   \n",
       "2      public outreach strengthening growingnetwork e...   \n",
       "3      lead (local enhancement development forhealth)...   \n",
       "4      incumbent work direct supervision ofthe presid...   \n",
       "...                                                  ...   \n",
       "18996  tech startup technolinguistics based new yorki...   \n",
       "18997  incumbent work direct supervision ofthe presid...   \n",
       "18998  incumbent work direct supervision ofthe presid...   \n",
       "18999  san lazzaro looking well-experiencedindividual...   \n",
       "19000  \"kamurj\" uco cjsc looking lawyer legaldepartme...   \n",
       "\n",
       "                                            RequiredQual  \\\n",
       "0      perform successfully, anindividual must able p...   \n",
       "1      - bachelor degree; master preferred;- excellen...   \n",
       "2      - degree environmentally related field, 5 year...   \n",
       "3      - advanced degree public health, social scienc...   \n",
       "4      - university degree; economical background plu...   \n",
       "...                                                  ...   \n",
       "18996  - least 5 year experience interface/ interacti...   \n",
       "18997  - university degree, ideally business related;...   \n",
       "18998  - degree business, marketing related field equ...   \n",
       "18999  - least 1 year experience online sale manageme...   \n",
       "19000  - higher legal education; master degree plus;-...   \n",
       "\n",
       "                                                  AboutC  \n",
       "0      mentor graphic development service cjsc subsid...  \n",
       "1      international research & exchange board (irex)...  \n",
       "2      caucasus environmental ngo network anon-govern...  \n",
       "3      mentor graphic development service cjsc subsid...  \n",
       "4      mentor graphic development service cjsc subsid...  \n",
       "...                                                  ...  \n",
       "18996  technolinguistics ha mandate transformthe digi...  \n",
       "18997  mentor graphic development service cjsc subsid...  \n",
       "18998  mentor graphic development service cjsc subsid...  \n",
       "18999  san lazzaro work several international brandsa...  \n",
       "19000  \"kamurj\" uco cjsc providing micro small loan t...  \n",
       "\n",
       "[18892 rows x 6 columns]"
      ]
     },
     "execution_count": 36,
     "metadata": {},
     "output_type": "execute_result"
    }
   ],
   "source": [
    "text"
   ]
  },
  {
   "cell_type": "markdown",
   "metadata": {},
   "source": [
    "### Test pre-processing on a software developer job post"
   ]
  },
  {
   "cell_type": "code",
   "execution_count": 37,
   "metadata": {},
   "outputs": [],
   "source": [
    "sd=text[text.Title=='software developer']['jobpost']\n",
    "frequency_words_wo_stop= {}\n",
    "for data in sd:\n",
    "    tokens = nltk.wordpunct_tokenize(data.lower())\n",
    "    for token in tokens:\n",
    "        if len(token)>=3:\n",
    "            if token in frequency_words_wo_stop:\n",
    "                count = frequency_words_wo_stop[token]\n",
    "                count = count + 1\n",
    "                frequency_words_wo_stop[token] = count\n",
    "            else:\n",
    "                frequency_words_wo_stop[token] = 1"
   ]
  },
  {
   "cell_type": "code",
   "execution_count": 38,
   "metadata": {},
   "outputs": [
    {
     "data": {
      "text/plain": [
       "{'yerevan': 157,\n",
       " 'brandy': 1,\n",
       " 'companyjob': 1,\n",
       " 'title': 11,\n",
       " 'software': 562,\n",
       " 'developerposition': 1,\n",
       " 'location': 8,\n",
       " 'armeniajob': 139,\n",
       " 'responsibilities': 94,\n",
       " 'rendering': 1,\n",
       " 'technical': 124,\n",
       " 'assistance': 13,\n",
       " 'database': 81,\n",
       " 'management': 37,\n",
       " 'systems': 50,\n",
       " 'realization': 1,\n",
       " 'sql': 123,\n",
       " 'server': 63,\n",
       " 'maintenance': 7,\n",
       " 'activities': 4,\n",
       " 'back': 3,\n",
       " 'andreplication': 1,\n",
       " 'participation': 3,\n",
       " 'designing': 9,\n",
       " 'development': 276,\n",
       " 'projects': 29,\n",
       " 'required': 145,\n",
       " 'qualifications': 152,\n",
       " 'university': 28,\n",
       " 'degree': 77,\n",
       " 'economical': 1,\n",
       " 'background': 19,\n",
       " 'plus': 59,\n",
       " 'excellent': 61,\n",
       " 'knowledge': 429,\n",
       " 'window': 26,\n",
       " '2000': 5,\n",
       " 'networking': 2,\n",
       " 'tcp': 3,\n",
       " 'iptechnologies': 1,\n",
       " 'visual': 24,\n",
       " 'basic': 29,\n",
       " 'least': 79,\n",
       " 'year': 122,\n",
       " 'experience': 353,\n",
       " 'good': 179,\n",
       " 'english': 122,\n",
       " 'remuneration': 95,\n",
       " 'commensurate': 3,\n",
       " 'norm': 1,\n",
       " 'accepted': 1,\n",
       " 'thecompany': 5,\n",
       " 'application': 389,\n",
       " 'procedures': 147,\n",
       " 'successful': 18,\n",
       " 'candidate': 119,\n",
       " 'submit': 21,\n",
       " 'relevant': 31,\n",
       " 'recommendation': 3,\n",
       " 'letter': 158,\n",
       " 'from': 17,\n",
       " 'previous': 6,\n",
       " 'employers': 1,\n",
       " ');-': 46,\n",
       " 'copy': 4,\n",
       " 'ies': 1,\n",
       " 'diploma': 2,\n",
       " 'certificate': 1,\n",
       " 'available': 3,\n",
       " 'color': 1,\n",
       " 'photo': 6,\n",
       " '3x4': 2,\n",
       " 'either': 1,\n",
       " 'isakov': 1,\n",
       " 'avenue': 1,\n",
       " '375082': 1,\n",
       " 'send': 55,\n",
       " 'followingfax': 1,\n",
       " '587': 1,\n",
       " '713': 1,\n",
       " 'mail': 71,\n",
       " 'human': 2,\n",
       " 'resource': 4,\n",
       " 'department': 6,\n",
       " 'armine': 1,\n",
       " 'bibilyan': 1,\n",
       " 'please': 237,\n",
       " 'clearly': 149,\n",
       " 'mention': 295,\n",
       " 'learned': 138,\n",
       " 'ofthis': 139,\n",
       " 'opportunity': 146,\n",
       " 'career': 280,\n",
       " 'center': 145,\n",
       " 'url': 139,\n",
       " 'itswebsite': 139,\n",
       " 'www': 295,\n",
       " 'careercenter': 276,\n",
       " 'thanks': 138,\n",
       " 'deadline': 139,\n",
       " 'january': 21,\n",
       " '2004': 10,\n",
       " '----------------------------------': 36,\n",
       " 'place': 140,\n",
       " 'free': 139,\n",
       " 'posting': 138,\n",
       " 'related': 203,\n",
       " 'inyour': 5,\n",
       " 'organization': 140,\n",
       " 'website': 11,\n",
       " 'netmen': 2,\n",
       " 'ltd': 25,\n",
       " 'job': 82,\n",
       " 'developersposition': 1,\n",
       " 'description': 137,\n",
       " 'looking': 58,\n",
       " 'programmer': 5,\n",
       " 'ofjava': 1,\n",
       " 'jsp': 7,\n",
       " 'j2ee': 10,\n",
       " 'minimum': 15,\n",
       " 'strong': 59,\n",
       " 'object': 28,\n",
       " 'oriented': 34,\n",
       " 'skills': 106,\n",
       " 'java': 39,\n",
       " 'xml': 30,\n",
       " 'web': 107,\n",
       " 'services': 32,\n",
       " 'soap': 11,\n",
       " 'ooa': 2,\n",
       " 'practical': 24,\n",
       " 'uml': 7,\n",
       " 'international': 24,\n",
       " 'german': 2,\n",
       " 'language': 138,\n",
       " 'not': 2,\n",
       " 'mandatory': 2,\n",
       " 'bigplus': 1,\n",
       " 'depends': 10,\n",
       " 'skill': 59,\n",
       " 'resume': 38,\n",
       " 'onlyshort': 6,\n",
       " 'listed': 34,\n",
       " 'asked': 15,\n",
       " 'pas': 1,\n",
       " 'interview': 14,\n",
       " 'openabout': 1,\n",
       " 'company': 118,\n",
       " 'focus': 5,\n",
       " 'onjava': 1,\n",
       " 'technology': 56,\n",
       " 'synergy': 12,\n",
       " 'inc': 25,\n",
       " 'developer': 109,\n",
       " 'armenia': 23,\n",
       " 'seek': 1,\n",
       " 'tofill': 1,\n",
       " 'long': 55,\n",
       " 'term': 12,\n",
       " 'responsibilitiesof': 1,\n",
       " 'focused': 7,\n",
       " 'core': 8,\n",
       " 'task': 22,\n",
       " 'insynergy': 1,\n",
       " 'main': 9,\n",
       " 'ondeveloping': 1,\n",
       " 'integrated': 9,\n",
       " 'state': 3,\n",
       " 'the': 19,\n",
       " 'art': 3,\n",
       " 'portalsystems': 1,\n",
       " 'business': 26,\n",
       " 'intelligence': 1,\n",
       " 'governmentsolutions': 1,\n",
       " 'filled': 13,\n",
       " 'provenhistory': 3,\n",
       " 'producing': 3,\n",
       " 'quality': 34,\n",
       " 'product': 50,\n",
       " 'commercial': 5,\n",
       " 'setting': 3,\n",
       " 'dynamic': 9,\n",
       " 'workplace': 3,\n",
       " 'solid': 5,\n",
       " 'developingpractice': 3,\n",
       " 'ideally': 2,\n",
       " 'acandidate': 2,\n",
       " 'aspect': 7,\n",
       " 'developmentprocess': 4,\n",
       " 'including': 20,\n",
       " 'design': 149,\n",
       " 'implementation': 22,\n",
       " 'testing': 22,\n",
       " 'delivery': 8,\n",
       " 'specific': 7,\n",
       " 'key': 14,\n",
       " 'responsibility': 26,\n",
       " 'includebut': 2,\n",
       " 'limited': 6,\n",
       " 'following': 34,\n",
       " 'translate': 5,\n",
       " 'requirement': 21,\n",
       " 'specification': 18,\n",
       " 'robustimplementations': 4,\n",
       " 'proto': 5,\n",
       " 'type': 7,\n",
       " 'develop': 124,\n",
       " 'manage': 11,\n",
       " 'thesoftware': 5,\n",
       " 'perform': 18,\n",
       " 'timely': 5,\n",
       " 'fashion': 2,\n",
       " 'assurance': 9,\n",
       " 'tasks': 6,\n",
       " 'softwareproducts': 4,\n",
       " 'computer': 72,\n",
       " 'science': 44,\n",
       " 'information': 56,\n",
       " 'relateddiscipline': 8,\n",
       " 'bachelors': 10,\n",
       " 'field': 60,\n",
       " 'mastersdegree': 2,\n",
       " 'preferred': 15,\n",
       " 'extensive': 13,\n",
       " 'current': 21,\n",
       " 'industry': 11,\n",
       " 'technologiesincluding': 2,\n",
       " 'etc': 19,\n",
       " 'tools': 5,\n",
       " 'working': 43,\n",
       " 'complex': 9,\n",
       " 'system': 73,\n",
       " 'storedprocedures': 2,\n",
       " 'servlets': 4,\n",
       " 'one': 11,\n",
       " 'programming': 138,\n",
       " '++/': 4,\n",
       " '++;': 4,\n",
       " 'html': 43,\n",
       " 'asp': 49,\n",
       " 'php': 36,\n",
       " 'additional': 6,\n",
       " 'characteristics': 3,\n",
       " 'ability': 149,\n",
       " 'work': 229,\n",
       " 'pressure': 16,\n",
       " 'multi': 10,\n",
       " 'environment': 27,\n",
       " 'team': 137,\n",
       " 'self': 14,\n",
       " 'directed': 4,\n",
       " 'highlymotivated': 4,\n",
       " 'analytical': 34,\n",
       " 'problem': 48,\n",
       " 'solving': 38,\n",
       " 'attention': 6,\n",
       " 'todetail': 4,\n",
       " 'interpersonal': 15,\n",
       " 'organizational': 6,\n",
       " 'fluency': 9,\n",
       " 'interested': 91,\n",
       " 'acover': 4,\n",
       " 'listing': 4,\n",
       " 'relatedexperience': 3,\n",
       " 'indicating': 14,\n",
       " 'contact': 12,\n",
       " 'detail': 6,\n",
       " 'phone': 12,\n",
       " 'fax': 4,\n",
       " 'and': 29,\n",
       " 'ore': 3,\n",
       " 'address': 9,\n",
       " 'reached': 4,\n",
       " 'anahit': 3,\n",
       " 'sargsyan': 1,\n",
       " 'officemanager': 1,\n",
       " '374': 4,\n",
       " 'candidates': 6,\n",
       " 'meet': 16,\n",
       " 'qualification': 14,\n",
       " 'interviewed': 11,\n",
       " 'berequired': 3,\n",
       " 'take': 17,\n",
       " 'test': 21,\n",
       " 'selected': 10,\n",
       " 'notified': 6,\n",
       " 'theinterview': 4,\n",
       " 'directly': 8,\n",
       " 'march': 24,\n",
       " 'softwarecompany': 3,\n",
       " 'operating': 12,\n",
       " 'subsidiary': 6,\n",
       " 'andspecializing': 3,\n",
       " 'managementsystems': 2,\n",
       " '.----------------------------------': 86,\n",
       " 'armeniatitle': 7,\n",
       " 'developerduration': 14,\n",
       " 'termlocation': 42,\n",
       " 'oncore': 2,\n",
       " 'synergys': 1,\n",
       " 'developing': 36,\n",
       " 'webportal': 2,\n",
       " 'personstipulated': 1,\n",
       " 'info': 1,\n",
       " 'sargsyanoffice': 2,\n",
       " 'managersynergy': 1,\n",
       " 'korioun': 1,\n",
       " '375009': 1,\n",
       " 'ratel': 1,\n",
       " '81e': 1,\n",
       " 'june': 21,\n",
       " 'mabout': 1,\n",
       " 'synisys': 1,\n",
       " 'com': 17,\n",
       " 'armeniathrough': 1,\n",
       " 'specializing': 2,\n",
       " 'ofintegrated': 1,\n",
       " 'xalt': 2,\n",
       " 'llctitle': 52,\n",
       " 'developerlocation': 26,\n",
       " 'seeking': 24,\n",
       " 'motivated': 22,\n",
       " 'experiencedsoftware': 1,\n",
       " 'evaluate': 1,\n",
       " 'solution': 27,\n",
       " 'andcreate': 2,\n",
       " 'detailed': 12,\n",
       " 'well': 27,\n",
       " 'systemdesign': 1,\n",
       " 'functional': 13,\n",
       " 'specifications': 16,\n",
       " 'willsupport': 1,\n",
       " 'project': 26,\n",
       " 'innovative': 5,\n",
       " 'ideas': 2,\n",
       " 'writing': 22,\n",
       " 'high': 24,\n",
       " 'code': 82,\n",
       " 'based': 79,\n",
       " 'effective': 5,\n",
       " 'unix': 14,\n",
       " 'linux': 24,\n",
       " 'participating': 1,\n",
       " 'updatingthe': 1,\n",
       " 'existing': 42,\n",
       " 'websites': 2,\n",
       " 'scripting': 5,\n",
       " 'programmingrequired': 1,\n",
       " 'mysql': 31,\n",
       " 'data': 36,\n",
       " 'structures': 15,\n",
       " 'algorithm': 17,\n",
       " 'databaseconcepts': 1,\n",
       " 'perl': 11,\n",
       " 'isdesirable': 1,\n",
       " 'two': 2,\n",
       " 'organized': 3,\n",
       " 'initiative': 3,\n",
       " 'willing': 2,\n",
       " 'learn': 14,\n",
       " 'new': 53,\n",
       " 'skillsapplication': 2,\n",
       " 'softwaredevelopers': 5,\n",
       " 'position': 9,\n",
       " 'email': 45,\n",
       " 'cover': 17,\n",
       " 'july': 23,\n",
       " 'opportunitiesavailable': 134,\n",
       " 'amwebsite': 134,\n",
       " 'follow': 145,\n",
       " 'post': 139,\n",
       " 'announcement': 151,\n",
       " 'link': 134,\n",
       " 'zenteqtitle': 1,\n",
       " 'developerintended': 1,\n",
       " 'audience': 6,\n",
       " 'engineer': 1,\n",
       " 'scientistslocation': 1,\n",
       " 'assumes': 1,\n",
       " 'fulldevelopment': 1,\n",
       " 'deployment': 1,\n",
       " 'cycle': 20,\n",
       " 'solutionsdeveloped': 1,\n",
       " 'collaboration': 3,\n",
       " 'renderx': 2,\n",
       " 'expect': 1,\n",
       " 'able': 2,\n",
       " 'products': 12,\n",
       " 'create': 20,\n",
       " 'program': 34,\n",
       " 'heterogeneous': 1,\n",
       " 'windows': 6,\n",
       " 'communicating': 1,\n",
       " 'mean': 1,\n",
       " 'network': 16,\n",
       " 'protocols': 2,\n",
       " 'author': 1,\n",
       " 'maintain': 14,\n",
       " 'internal': 4,\n",
       " 'end': 6,\n",
       " 'user': 21,\n",
       " 'documentation': 50,\n",
       " 'applicant': 7,\n",
       " 'exposure': 5,\n",
       " 'andprevious': 1,\n",
       " 'with': 1,\n",
       " 'languages': 35,\n",
       " 'ruby': 6,\n",
       " 'python': 7,\n",
       " 'processing': 10,\n",
       " 'technologies': 42,\n",
       " 'relational': 14,\n",
       " 'databases': 11,\n",
       " 'particularly': 1,\n",
       " 'oracle': 17,\n",
       " 'dbms': 6,\n",
       " 'architecture': 16,\n",
       " 'applicationsdevelopment': 1,\n",
       " 'net': 149,\n",
       " 'framework': 63,\n",
       " 'salary': 92,\n",
       " 'competitiveapplication': 25,\n",
       " 'curriculum': 1,\n",
       " 'vitae': 1,\n",
       " 'plain': 1,\n",
       " 'text': 1,\n",
       " 'pdf': 1,\n",
       " 'call': 7,\n",
       " 'orfaxed': 1,\n",
       " 'inquiries': 1,\n",
       " 'opening': 133,\n",
       " 'date': 209,\n",
       " '2004application': 1,\n",
       " 'september': 20,\n",
       " '2004about': 1,\n",
       " 'zenteq': 1,\n",
       " 'affiliated': 2,\n",
       " 'cqgi': 2,\n",
       " 'matitle': 2,\n",
       " 'developerstart': 12,\n",
       " 'time': 110,\n",
       " 'immediatelylocation': 3,\n",
       " 'ajob': 12,\n",
       " 'gather': 2,\n",
       " 'produce': 4,\n",
       " 'designs': 2,\n",
       " 'write': 27,\n",
       " 'accurately': 3,\n",
       " 'plan': 7,\n",
       " 'activity': 7,\n",
       " 'establishedprocesses': 3,\n",
       " 'share': 4,\n",
       " 'mentor': 2,\n",
       " 'peers': 2,\n",
       " 'listen': 2,\n",
       " 'heas': 2,\n",
       " 'member': 31,\n",
       " 'positionsand': 2,\n",
       " 'provide': 40,\n",
       " 'fair': 2,\n",
       " 'evaluation': 4,\n",
       " 'differing': 2,\n",
       " 'opinions': 2,\n",
       " 'productively': 11,\n",
       " 'part': 39,\n",
       " 'communicate': 22,\n",
       " 'effectively': 25,\n",
       " 'members': 17,\n",
       " 'keep': 4,\n",
       " 'commitments': 3,\n",
       " 'command': 8,\n",
       " 'actively': 10,\n",
       " 'participate': 46,\n",
       " 'discussion': 13,\n",
       " 'regarding': 11,\n",
       " 'issues': 16,\n",
       " 'bachelor': 33,\n",
       " 'discipline': 16,\n",
       " 'includeexperience': 2,\n",
       " 'enterprise': 14,\n",
       " 'class': 5,\n",
       " 'orequivalent': 2,\n",
       " 'combination': 9,\n",
       " 'education': 22,\n",
       " 'demonstrated': 7,\n",
       " 'record': 2,\n",
       " 'implementing': 4,\n",
       " 'qualitysoftware': 3,\n",
       " 'delivered': 3,\n",
       " 'market': 11,\n",
       " 'platform': 12,\n",
       " 'win32api': 2,\n",
       " 'threading': 5,\n",
       " 'sockets': 3,\n",
       " 'ofa': 9,\n",
       " 'desire': 6,\n",
       " 'distributed': 9,\n",
       " 'architectures': 2,\n",
       " 'unixplatforms': 2,\n",
       " 'interaction': 2,\n",
       " 'off': 2,\n",
       " 'shore': 2,\n",
       " 'teams': 4,\n",
       " 'methodology': 2,\n",
       " 'prefer': 2,\n",
       " '2005application': 13,\n",
       " 'april': 32,\n",
       " '2005': 13,\n",
       " 'tel': 8,\n",
       " '265604': 1,\n",
       " 'may': 28,\n",
       " 'accusoft': 32,\n",
       " '2005location': 1,\n",
       " 'developerswith': 1,\n",
       " 'forexpanding': 1,\n",
       " 'recent': 1,\n",
       " '++;-': 7,\n",
       " 'understanding': 37,\n",
       " 'advanced': 12,\n",
       " 'microsoft': 15,\n",
       " 'oop': 25,\n",
       " 'mfc': 3,\n",
       " 'atl': 1,\n",
       " 'full': 86,\n",
       " 'lifecycle': 2,\n",
       " 'modelling': 1,\n",
       " 'coding': 15,\n",
       " 'must': 3,\n",
       " 'thesetechnologies': 1,\n",
       " 'needed': 7,\n",
       " 'mathematical': 11,\n",
       " 'developmentand': 3,\n",
       " 'optimization': 10,\n",
       " 'particular': 5,\n",
       " 'mac': 3,\n",
       " 'isplus': 1,\n",
       " 'communication': 39,\n",
       " 'asuccessful': 1,\n",
       " 'apply': 24,\n",
       " '2005additional': 1,\n",
       " 'notes': 3,\n",
       " 'branch': 2,\n",
       " 'accusoftcorporation': 1,\n",
       " 'this': 4,\n",
       " 'settingwith': 1,\n",
       " 'process': 23,\n",
       " 'assigned': 8,\n",
       " 'precise': 2,\n",
       " 'manner': 2,\n",
       " 'developers': 5,\n",
       " 'document': 12,\n",
       " 'produced': 2,\n",
       " 'master': 9,\n",
       " 'degreepreferred': 1,\n",
       " 'basedstandalone': 1,\n",
       " 'java2': 1,\n",
       " 'basedapplications': 1,\n",
       " 'jsf': 2,\n",
       " 'jdbc': 1,\n",
       " 'client': 26,\n",
       " 'sidejava': 1,\n",
       " 'script': 11,\n",
       " 'undermysql': 1,\n",
       " 'read': 13,\n",
       " 'understand': 24,\n",
       " 'inenglish': 2,\n",
       " 'managere': 1,\n",
       " 'indicate': 16,\n",
       " 'applying': 21,\n",
       " 'subject': 58,\n",
       " 'thee': 1,\n",
       " 'message': 15,\n",
       " 'august': 19,\n",
       " 'pmabout': 1,\n",
       " 'note': 4,\n",
       " 'initial': 4,\n",
       " 'consideration': 1,\n",
       " 'givento': 1,\n",
       " 'received': 1,\n",
       " 'prior': 1,\n",
       " 'indicated': 1,\n",
       " 'above': 2,\n",
       " 'thereafter': 1,\n",
       " 'reviewed': 2,\n",
       " 'basis': 3,\n",
       " 'karapetyanner': 3,\n",
       " 'scientific': 3,\n",
       " 'production': 6,\n",
       " 'experimental': 3,\n",
       " 'kspe': 3,\n",
       " 'developerterm': 68,\n",
       " 'timeopen': 22,\n",
       " 'eligibility': 34,\n",
       " 'criteria': 34,\n",
       " 'qualified': 58,\n",
       " 'candidatesstart': 22,\n",
       " 'immediatelyduration': 9,\n",
       " 'permanentlocation': 32,\n",
       " 'technologybase': 1,\n",
       " 'corporate': 2,\n",
       " 'releases': 2,\n",
       " 'release': 3,\n",
       " 'support': 28,\n",
       " 'withworking': 1,\n",
       " 'changing': 3,\n",
       " 'old': 2,\n",
       " 'sources': 1,\n",
       " 'higher': 41,\n",
       " 'completed': 1,\n",
       " 'relationship': 4,\n",
       " '#;-': 8,\n",
       " 'delphi': 5,\n",
       " 'shouldsend': 1,\n",
       " 'resumes': 1,\n",
       " 'cvs': 1,\n",
       " 'motivateddevelopers': 1,\n",
       " 'expanding': 6,\n",
       " 'visiquest': 5,\n",
       " 'multiplatform': 1,\n",
       " 'image': 11,\n",
       " 'manipulating': 5,\n",
       " 'masters': 6,\n",
       " 'desired': 33,\n",
       " 'professional': 21,\n",
       " 'multiple': 9,\n",
       " 'orunix': 5,\n",
       " 'multithreaded': 6,\n",
       " 'orclient': 5,\n",
       " 'posix': 5,\n",
       " 'socket': 5,\n",
       " 'ansi': 5,\n",
       " 'isostandards': 5,\n",
       " 'shell': 6,\n",
       " 'russian': 40,\n",
       " 'level': 25,\n",
       " 'negotiable': 10,\n",
       " 'pleaseemail': 1,\n",
       " 'hasitate': 1,\n",
       " 'bye': 1,\n",
       " 'questions': 2,\n",
       " 'october': 29,\n",
       " '2005about': 6,\n",
       " 'partner': 10,\n",
       " 'corp': 5,\n",
       " 'usa': 21,\n",
       " 'timelocation': 6,\n",
       " 'experienced': 11,\n",
       " 'dhtml': 1,\n",
       " 'javascript': 43,\n",
       " 'andwebservices': 1,\n",
       " 'usingbroadcasting': 1,\n",
       " 'queuing': 1,\n",
       " 'modern': 1,\n",
       " 'cute': 1,\n",
       " 'responsible': 34,\n",
       " 'personality': 11,\n",
       " 'knowledgeof': 2,\n",
       " 'reference': 2,\n",
       " 'offormer': 1,\n",
       " 'november': 17,\n",
       " 'integrien': 2,\n",
       " 'branchtitle': 2,\n",
       " 'developeropen': 6,\n",
       " 'developersstart': 1,\n",
       " 'initiallylocation': 1,\n",
       " 'demonstrate': 2,\n",
       " 'creativity': 4,\n",
       " 'andanalytical': 1,\n",
       " 'thinking': 6,\n",
       " 'quickly': 6,\n",
       " 'deliver': 9,\n",
       " 'evolving': 1,\n",
       " 'andchallenging': 1,\n",
       " 'conceptualize': 1,\n",
       " 'propose': 5,\n",
       " 'ideasand': 1,\n",
       " 'solutions': 5,\n",
       " 'creative': 3,\n",
       " 'out': 1,\n",
       " 'box': 1,\n",
       " 'research': 6,\n",
       " 'andproblem': 1,\n",
       " 'solvings': 1,\n",
       " 'previousexperience': 2,\n",
       " 'documentationto': 1,\n",
       " 'solve': 4,\n",
       " 'problems': 10,\n",
       " 'familiarity': 58,\n",
       " 'websphere': 1,\n",
       " 'weblogic': 1,\n",
       " 'jboss': 2,\n",
       " 'servlet': 1,\n",
       " 'container': 1,\n",
       " 'mainly': 1,\n",
       " 'jakarta': 2,\n",
       " 'tomcat': 3,\n",
       " 'servicesand': 1,\n",
       " 'strut': 1,\n",
       " 'surrounding': 3,\n",
       " 'jspservlet': 1,\n",
       " 'tag': 1,\n",
       " 'libraries': 2,\n",
       " 'public': 1,\n",
       " 'domlevel2': 1,\n",
       " 'level3': 1,\n",
       " 'service': 37,\n",
       " 'wsdl': 1,\n",
       " 'big': 3,\n",
       " 'advantage': 7,\n",
       " 'stability': 1,\n",
       " 'security': 7,\n",
       " 'scalability': 1,\n",
       " 'structural': 4,\n",
       " 'rich': 2,\n",
       " 'intuitive': 3,\n",
       " 'modular': 3,\n",
       " 'interactive': 2,\n",
       " 'graphical': 1,\n",
       " 'interfaces': 12,\n",
       " 'sufficient': 3,\n",
       " 'technicaldocumentation': 4,\n",
       " 'speaking': 7,\n",
       " 'willingness': 7,\n",
       " 'synchronized': 1,\n",
       " 'developmentcycles': 1,\n",
       " 'close': 3,\n",
       " 'cooperation': 1,\n",
       " 'teamworldwide': 1,\n",
       " 'highly': 46,\n",
       " 'developmentcompany': 5,\n",
       " 'soon': 6,\n",
       " 'possibleduration': 5,\n",
       " 'developersfor': 4,\n",
       " 'hiredpersons': 4,\n",
       " 'ismultiplatform': 4,\n",
       " 'scripts': 4,\n",
       " 'interest': 10,\n",
       " 'youwould': 4,\n",
       " 'like': 13,\n",
       " 'get': 5,\n",
       " 'role': 11,\n",
       " 'orquestions': 4,\n",
       " 'december': 24,\n",
       " 'agrian': 4,\n",
       " 'applicants': 5,\n",
       " 'start': 5,\n",
       " '2006duration': 1,\n",
       " 'arequired': 2,\n",
       " 'coldfusion': 2,\n",
       " 'generaldatabase': 1,\n",
       " 'gis': 1,\n",
       " 'spatialdatabases': 1,\n",
       " 'postgis': 1,\n",
       " 'applet': 1,\n",
       " 'helpful': 2,\n",
       " 'preferably': 5,\n",
       " 'competitive': 29,\n",
       " 'andexperience': 6,\n",
       " 'provider': 7,\n",
       " 'datatracking': 1,\n",
       " 'agriculture': 2,\n",
       " 'head': 9,\n",
       " 'office': 19,\n",
       " 'california': 2,\n",
       " 'cardtitle': 1,\n",
       " 'timeintended': 3,\n",
       " 'specialistsstart': 1,\n",
       " '2005duration': 1,\n",
       " 'customization': 1,\n",
       " 'atm': 2,\n",
       " 'terminal': 1,\n",
       " 'troubleshoot': 10,\n",
       " 'issue': 2,\n",
       " 'make': 5,\n",
       " 'scenario': 1,\n",
       " 'terminals': 1,\n",
       " 'appreciated': 3,\n",
       " 'concept': 9,\n",
       " 'mssql': 4,\n",
       " 'informixetc': 1,\n",
       " 'adapt': 3,\n",
       " 'progressiveapplication': 1,\n",
       " 'techtitle': 2,\n",
       " 'contractuallocation': 1,\n",
       " 'abovyan': 1,\n",
       " 'tech': 6,\n",
       " 'highlyprofessional': 1,\n",
       " 'mathematics': 2,\n",
       " '++,': 21,\n",
       " 'api': 4,\n",
       " 'directx': 1,\n",
       " 'andqualifications': 2,\n",
       " 'requirements': 24,\n",
       " 'emailyour': 1,\n",
       " '2006': 2,\n",
       " 'nairisoft': 4,\n",
       " 'developersterm': 3,\n",
       " 'timestart': 30,\n",
       " 'asapduration': 36,\n",
       " 'look': 1,\n",
       " 'person': 8,\n",
       " 'disciplined': 1,\n",
       " 'mindand': 1,\n",
       " 'wide': 4,\n",
       " 'sybase': 2,\n",
       " 'other': 3,\n",
       " 'isrequired': 1,\n",
       " 'alluringapplication': 2,\n",
       " 'february': 27,\n",
       " '2006application': 15,\n",
       " '2006about': 16,\n",
       " 'internetinfrastructure': 2,\n",
       " 'scdm': 3,\n",
       " 'javadevelopers': 1,\n",
       " 'basedon': 1,\n",
       " 'guideline': 1,\n",
       " 'austrian': 1,\n",
       " 'fordeveloping': 1,\n",
       " 'special': 3,\n",
       " 'financial': 16,\n",
       " 'analysis': 16,\n",
       " 'projectmanager': 1,\n",
       " 'databasemanagement': 1,\n",
       " 'player': 10,\n",
       " 'minded': 1,\n",
       " 'hard': 6,\n",
       " 'worker': 2,\n",
       " 'deadlines': 9,\n",
       " 'bonus': 6,\n",
       " 'founded': 6,\n",
       " 'provides': 8,\n",
       " 'located': 4,\n",
       " 'abroad': 4,\n",
       " 'cascade': 14,\n",
       " 'capital': 9,\n",
       " 'holdings': 1,\n",
       " 'cjsctitle': 39,\n",
       " 'holding': 8,\n",
       " 'proactive': 2,\n",
       " 'automated': 2,\n",
       " 'applied': 1,\n",
       " 'package': 19,\n",
       " 'anddatabase': 1,\n",
       " 'implement': 17,\n",
       " 'different': 38,\n",
       " 'according': 25,\n",
       " 'gathering': 2,\n",
       " 'planning': 3,\n",
       " 'complete': 11,\n",
       " 'mentoring': 1,\n",
       " 'ado': 22,\n",
       " 'ole': 2,\n",
       " 'automationtechnologies': 1,\n",
       " 'transact': 6,\n",
       " 'fluent': 4,\n",
       " 'proper': 10,\n",
       " 'constructionsand': 1,\n",
       " 'use': 12,\n",
       " 'algorithms': 19,\n",
       " 'punctuality': 4,\n",
       " 'accuracy': 3,\n",
       " 'efficiently': 9,\n",
       " 'withoutsupervision': 1,\n",
       " 'increase': 2,\n",
       " 'personal': 3,\n",
       " 'competency': 1,\n",
       " 'professionalism': 3,\n",
       " 'identify': 4,\n",
       " 'fly': 1,\n",
       " 'alternative': 2,\n",
       " 'responsibly': 1,\n",
       " 'softwaredeveloper': 17,\n",
       " 'short': 31,\n",
       " 'listedcandidates': 3,\n",
       " 'contacted': 16,\n",
       " 'established': 12,\n",
       " 'thecafesjian': 1,\n",
       " 'family': 3,\n",
       " 'foundation': 3,\n",
       " 'group': 18,\n",
       " 'ofcommercial': 1,\n",
       " 'western': 1,\n",
       " 'standards': 19,\n",
       " 'equal': 3,\n",
       " 'employer': 3,\n",
       " 'disciplinedmind': 2,\n",
       " 'spyur': 6,\n",
       " 'centre': 2,\n",
       " 'ltdtitle': 6,\n",
       " 'developerannouncement': 5,\n",
       " '06term': 1,\n",
       " 'sciences': 15,\n",
       " 'borland': 5,\n",
       " 'builder': 2,\n",
       " 'access': 5,\n",
       " 'starting': 3,\n",
       " '170': 1,\n",
       " '000': 13,\n",
       " 'amd': 7,\n",
       " 'witha': 1,\n",
       " 'photograph': 1,\n",
       " 'inquiry': 5,\n",
       " 'thatcollects': 1,\n",
       " 'disseminates': 1,\n",
       " 'andorganizations': 2,\n",
       " 'altacode': 3,\n",
       " 'andmotivated': 1,\n",
       " 'deep': 11,\n",
       " 'objectoriented': 3,\n",
       " 'accordance': 12,\n",
       " 'given': 11,\n",
       " 'assure': 15,\n",
       " 'conformance': 13,\n",
       " 'source': 20,\n",
       " 'provided': 13,\n",
       " 'modify': 12,\n",
       " 'assist': 11,\n",
       " 'accompanying': 7,\n",
       " 'requested': 27,\n",
       " 'proficiency': 15,\n",
       " 'andado': 1,\n",
       " 'kind': 1,\n",
       " 'css': 27,\n",
       " '300': 1,\n",
       " '500': 3,\n",
       " 'driven': 2,\n",
       " 'andproviding': 1,\n",
       " 'companies': 2,\n",
       " 'givenspecifications': 3,\n",
       " 'line': 47,\n",
       " 'bycafesjyan': 1,\n",
       " 'foster': 2,\n",
       " 'debtorigination': 1,\n",
       " 'finance': 1,\n",
       " 'capitalholdings': 1,\n",
       " 'united': 8,\n",
       " 'factor': 8,\n",
       " 'deepknowledge': 4,\n",
       " 'ifrequested': 2,\n",
       " 'crystal': 2,\n",
       " 'report': 11,\n",
       " 'applications': 37,\n",
       " 'capability': 3,\n",
       " 'thecandidate': 2,\n",
       " 'thesubject': 10,\n",
       " 'becontacted': 8,\n",
       " 'specialized': 5,\n",
       " 'companydeveloping': 2,\n",
       " 'providing': 9,\n",
       " 'factoring': 2,\n",
       " 'invoicediscounting': 2,\n",
       " 'industries': 2,\n",
       " 'accept': 3,\n",
       " 'employment': 3,\n",
       " 'agencytitle': 1,\n",
       " 'agency': 1,\n",
       " 'motivatedpersons': 1,\n",
       " 'forpan': 1,\n",
       " 'european': 6,\n",
       " 'eight': 1,\n",
       " 'countriescompany': 1,\n",
       " 'incumbent': 13,\n",
       " 'belong': 1,\n",
       " 'young': 1,\n",
       " 'workingwith': 1,\n",
       " 'advertising': 1,\n",
       " 'she': 4,\n",
       " 'willwork': 1,\n",
       " 'customisation': 1,\n",
       " 'building': 4,\n",
       " 'reportingtools': 1,\n",
       " 'also': 14,\n",
       " 'together': 6,\n",
       " 'withcolleagues': 1,\n",
       " 'countries': 1,\n",
       " 'adserving': 2,\n",
       " 'dart': 1,\n",
       " 'andits': 1,\n",
       " 'functionality': 5,\n",
       " 'systemarchitecture': 1,\n",
       " 'map': 1,\n",
       " 'needs': 5,\n",
       " 'act': 2,\n",
       " 'expert': 7,\n",
       " 'customising': 1,\n",
       " 'integrating': 1,\n",
       " 'adserver': 1,\n",
       " 'ouradserver': 1,\n",
       " 'technicalcapabilities': 1,\n",
       " 'betheir': 1,\n",
       " 'vbscript': 1,\n",
       " 'apache': 9,\n",
       " 'module': 6,\n",
       " 'environments': 2,\n",
       " 'load': 1,\n",
       " 'written': 9,\n",
       " 'spoken': 3,\n",
       " 'pro': 1,\n",
       " 'active': 1,\n",
       " ...}"
      ]
     },
     "execution_count": 38,
     "metadata": {},
     "output_type": "execute_result"
    }
   ],
   "source": [
    "frequency_words_wo_stop"
   ]
  },
  {
   "cell_type": "code",
   "execution_count": 39,
   "metadata": {},
   "outputs": [
    {
     "data": {
      "text/plain": [
       "<matplotlib.image.AxesImage at 0x1c9b93ebc48>"
      ]
     },
     "execution_count": 39,
     "metadata": {},
     "output_type": "execute_result"
    },
    {
     "data": {
      "image/png": "[encoded data removed]",
      "text/plain": [
       "<Figure size 720x720 with 1 Axes>"
      ]
     },
     "metadata": {
      "needs_background": "light"
     },
     "output_type": "display_data"
    }
   ],
   "source": [
    "wordcloud = WordCloud(background_color=\"white\").generate(' '.join(sd))\n",
    "plt.figure(figsize=(10,10))\n",
    "plt.axis(\"off\")\n",
    "plt.imshow(wordcloud,interpolation='bilinear')"
   ]
  },
  {
   "cell_type": "markdown",
   "metadata": {},
   "source": [
    "### Supervised Learning"
   ]
  },
  {
   "cell_type": "code",
   "execution_count": 40,
   "metadata": {},
   "outputs": [
    {
     "data": {
      "text/plain": [
       "<matplotlib.axes._subplots.AxesSubplot at 0x1c9eef1ab88>"
      ]
     },
     "execution_count": 40,
     "metadata": {},
     "output_type": "execute_result"
    },
    {
     "data": {
      "image/png": "[encoded data removed]",
      "text/plain": [
       "<Figure size 432x288 with 1 Axes>"
      ]
     },
     "metadata": {
      "needs_background": "light"
     },
     "output_type": "display_data"
    }
   ],
   "source": [
    "job_post.groupby(['IT']).agg({'IT':'count'}).plot.bar()"
   ]
  },
  {
   "cell_type": "markdown",
   "metadata": {},
   "source": [
    "### TF - IDF Based Classification"
   ]
  },
  {
   "cell_type": "code",
   "execution_count": 41,
   "metadata": {},
   "outputs": [],
   "source": [
    "from sklearn.feature_extraction.text import CountVectorizer,TfidfVectorizer\n",
    "from sklearn.decomposition import TruncatedSVD,PCA"
   ]
  },
  {
   "cell_type": "code",
   "execution_count": 42,
   "metadata": {},
   "outputs": [],
   "source": [
    "vectorizer = TfidfVectorizer()\n",
    "X_tfidf= vectorizer.fit_transform(text.jobpost)"
   ]
  },
  {
   "cell_type": "code",
   "execution_count": 43,
   "metadata": {},
   "outputs": [],
   "source": [
    "svd = TruncatedSVD(1500)\n",
    "X_tfidf = svd.fit_transform(X_tfidf)"
   ]
  },
  {
   "cell_type": "code",
   "execution_count": 44,
   "metadata": {},
   "outputs": [
    {
     "name": "stdout",
     "output_type": "stream",
     "text": [
      "0.6518890459445524\n"
     ]
    }
   ],
   "source": [
    "print(svd.explained_variance_ratio_.sum())"
   ]
  },
  {
   "cell_type": "code",
   "execution_count": 45,
   "metadata": {},
   "outputs": [
    {
     "data": {
      "text/plain": [
       "(18892, 1500)"
      ]
     },
     "execution_count": 45,
     "metadata": {},
     "output_type": "execute_result"
    }
   ],
   "source": [
    "X_tfidf.shape"
   ]
  },
  {
   "cell_type": "markdown",
   "metadata": {},
   "source": [
    "### Convert imbalanced data to balanced data by Up-sample minority class"
   ]
  },
  {
   "cell_type": "code",
   "execution_count": 49,
   "metadata": {},
   "outputs": [
    {
     "data": {
      "text/plain": [
       "False    15144\n",
       "True      3748\n",
       "Name: IT, dtype: int64"
      ]
     },
     "execution_count": 49,
     "metadata": {},
     "output_type": "execute_result"
    }
   ],
   "source": [
    "job_post.IT.value_counts()"
   ]
  },
  {
   "cell_type": "code",
   "execution_count": 52,
   "metadata": {},
   "outputs": [
    {
     "data": {
      "text/html": [
       "<div>\n",
       "<style scoped>\n",
       "    .dataframe tbody tr th:only-of-type {\n",
       "        vertical-align: middle;\n",
       "    }\n",
       "\n",
       "    .dataframe tbody tr th {\n",
       "        vertical-align: top;\n",
       "    }\n",
       "\n",
       "    .dataframe thead th {\n",
       "        text-align: right;\n",
       "    }\n",
       "</style>\n",
       "<table border=\"1\" class=\"dataframe\">\n",
       "  <thead>\n",
       "    <tr style=\"text-align: right;\">\n",
       "      <th></th>\n",
       "      <th>0</th>\n",
       "      <th>1</th>\n",
       "      <th>2</th>\n",
       "      <th>3</th>\n",
       "      <th>4</th>\n",
       "      <th>5</th>\n",
       "      <th>6</th>\n",
       "      <th>7</th>\n",
       "      <th>8</th>\n",
       "      <th>9</th>\n",
       "      <th>...</th>\n",
       "      <th>1491</th>\n",
       "      <th>1492</th>\n",
       "      <th>1493</th>\n",
       "      <th>1494</th>\n",
       "      <th>1495</th>\n",
       "      <th>1496</th>\n",
       "      <th>1497</th>\n",
       "      <th>1498</th>\n",
       "      <th>1499</th>\n",
       "      <th>IT</th>\n",
       "    </tr>\n",
       "  </thead>\n",
       "  <tbody>\n",
       "    <tr>\n",
       "      <th>0</th>\n",
       "      <td>0.265111</td>\n",
       "      <td>-0.148400</td>\n",
       "      <td>0.215542</td>\n",
       "      <td>0.105730</td>\n",
       "      <td>0.047563</td>\n",
       "      <td>0.134445</td>\n",
       "      <td>-0.098514</td>\n",
       "      <td>0.037277</td>\n",
       "      <td>-0.018541</td>\n",
       "      <td>-0.020492</td>\n",
       "      <td>...</td>\n",
       "      <td>0.010111</td>\n",
       "      <td>-0.008889</td>\n",
       "      <td>-0.006323</td>\n",
       "      <td>-0.007399</td>\n",
       "      <td>0.004694</td>\n",
       "      <td>-0.017621</td>\n",
       "      <td>0.017667</td>\n",
       "      <td>-0.001185</td>\n",
       "      <td>-0.011598</td>\n",
       "      <td>0.0</td>\n",
       "    </tr>\n",
       "    <tr>\n",
       "      <th>1</th>\n",
       "      <td>0.171312</td>\n",
       "      <td>-0.045044</td>\n",
       "      <td>-0.030411</td>\n",
       "      <td>0.111070</td>\n",
       "      <td>0.067055</td>\n",
       "      <td>-0.062616</td>\n",
       "      <td>0.057050</td>\n",
       "      <td>-0.043662</td>\n",
       "      <td>-0.006795</td>\n",
       "      <td>0.031014</td>\n",
       "      <td>...</td>\n",
       "      <td>0.007274</td>\n",
       "      <td>-0.004902</td>\n",
       "      <td>0.004971</td>\n",
       "      <td>0.000039</td>\n",
       "      <td>-0.014024</td>\n",
       "      <td>0.004952</td>\n",
       "      <td>0.006141</td>\n",
       "      <td>-0.010911</td>\n",
       "      <td>-0.002553</td>\n",
       "      <td>0.0</td>\n",
       "    </tr>\n",
       "    <tr>\n",
       "      <th>2</th>\n",
       "      <td>0.138251</td>\n",
       "      <td>-0.035277</td>\n",
       "      <td>-0.022591</td>\n",
       "      <td>0.082414</td>\n",
       "      <td>0.030945</td>\n",
       "      <td>-0.038122</td>\n",
       "      <td>0.029434</td>\n",
       "      <td>-0.028366</td>\n",
       "      <td>0.001569</td>\n",
       "      <td>0.010429</td>\n",
       "      <td>...</td>\n",
       "      <td>0.014479</td>\n",
       "      <td>0.007297</td>\n",
       "      <td>-0.011029</td>\n",
       "      <td>0.001282</td>\n",
       "      <td>-0.031460</td>\n",
       "      <td>0.023775</td>\n",
       "      <td>0.005326</td>\n",
       "      <td>0.015876</td>\n",
       "      <td>-0.029717</td>\n",
       "      <td>0.0</td>\n",
       "    </tr>\n",
       "    <tr>\n",
       "      <th>3</th>\n",
       "      <td>0.168075</td>\n",
       "      <td>0.011567</td>\n",
       "      <td>-0.016534</td>\n",
       "      <td>0.157254</td>\n",
       "      <td>-0.011506</td>\n",
       "      <td>0.009726</td>\n",
       "      <td>0.022473</td>\n",
       "      <td>0.004769</td>\n",
       "      <td>-0.033377</td>\n",
       "      <td>-0.016416</td>\n",
       "      <td>...</td>\n",
       "      <td>0.001139</td>\n",
       "      <td>-0.003705</td>\n",
       "      <td>0.020559</td>\n",
       "      <td>0.003628</td>\n",
       "      <td>-0.004853</td>\n",
       "      <td>0.021098</td>\n",
       "      <td>-0.011018</td>\n",
       "      <td>-0.024807</td>\n",
       "      <td>-0.003752</td>\n",
       "      <td>0.0</td>\n",
       "    </tr>\n",
       "    <tr>\n",
       "      <th>4</th>\n",
       "      <td>0.219516</td>\n",
       "      <td>0.090690</td>\n",
       "      <td>0.025965</td>\n",
       "      <td>-0.014483</td>\n",
       "      <td>0.021948</td>\n",
       "      <td>-0.065934</td>\n",
       "      <td>-0.002612</td>\n",
       "      <td>-0.016569</td>\n",
       "      <td>-0.005392</td>\n",
       "      <td>-0.025936</td>\n",
       "      <td>...</td>\n",
       "      <td>0.002751</td>\n",
       "      <td>-0.002798</td>\n",
       "      <td>0.005333</td>\n",
       "      <td>0.011615</td>\n",
       "      <td>-0.005649</td>\n",
       "      <td>0.017847</td>\n",
       "      <td>-0.002487</td>\n",
       "      <td>0.012372</td>\n",
       "      <td>0.001252</td>\n",
       "      <td>1.0</td>\n",
       "    </tr>\n",
       "  </tbody>\n",
       "</table>\n",
       "<p>5 rows × 1501 columns</p>\n",
       "</div>"
      ],
      "text/plain": [
       "          0         1         2         3         4         5         6  \\\n",
       "0  0.265111 -0.148400  0.215542  0.105730  0.047563  0.134445 -0.098514   \n",
       "1  0.171312 -0.045044 -0.030411  0.111070  0.067055 -0.062616  0.057050   \n",
       "2  0.138251 -0.035277 -0.022591  0.082414  0.030945 -0.038122  0.029434   \n",
       "3  0.168075  0.011567 -0.016534  0.157254 -0.011506  0.009726  0.022473   \n",
       "4  0.219516  0.090690  0.025965 -0.014483  0.021948 -0.065934 -0.002612   \n",
       "\n",
       "          7         8         9  ...      1491      1492      1493      1494  \\\n",
       "0  0.037277 -0.018541 -0.020492  ...  0.010111 -0.008889 -0.006323 -0.007399   \n",
       "1 -0.043662 -0.006795  0.031014  ...  0.007274 -0.004902  0.004971  0.000039   \n",
       "2 -0.028366  0.001569  0.010429  ...  0.014479  0.007297 -0.011029  0.001282   \n",
       "3  0.004769 -0.033377 -0.016416  ...  0.001139 -0.003705  0.020559  0.003628   \n",
       "4 -0.016569 -0.005392 -0.025936  ...  0.002751 -0.002798  0.005333  0.011615   \n",
       "\n",
       "       1495      1496      1497      1498      1499   IT  \n",
       "0  0.004694 -0.017621  0.017667 -0.001185 -0.011598  0.0  \n",
       "1 -0.014024  0.004952  0.006141 -0.010911 -0.002553  0.0  \n",
       "2 -0.031460  0.023775  0.005326  0.015876 -0.029717  0.0  \n",
       "3 -0.004853  0.021098 -0.011018 -0.024807 -0.003752  0.0  \n",
       "4 -0.005649  0.017847 -0.002487  0.012372  0.001252  1.0  \n",
       "\n",
       "[5 rows x 1501 columns]"
      ]
     },
     "execution_count": 52,
     "metadata": {},
     "output_type": "execute_result"
    }
   ],
   "source": [
    "X_tfidf = pd.DataFrame(X_tfidf)\n",
    "job_post['IT'] = pd.get_dummies(job_post.IT,drop_first=True)\n",
    "df=pd.concat([X_tfidf,job_post.IT],axis=1)\n",
    "df.head()"
   ]
  },
  {
   "cell_type": "code",
   "execution_count": 53,
   "metadata": {},
   "outputs": [],
   "source": [
    "# Separate majority and minority classes\n",
    "df_majority = df[df.IT==0]\n",
    "df_minority = df[df.IT==1]"
   ]
  },
  {
   "cell_type": "code",
   "execution_count": 55,
   "metadata": {},
   "outputs": [],
   "source": [
    "from sklearn.utils import resample"
   ]
  },
  {
   "cell_type": "code",
   "execution_count": 56,
   "metadata": {},
   "outputs": [],
   "source": [
    "# Upsample minority class\n",
    "df_minority_upsampled = resample(df_minority, replace=True, n_samples=15144, random_state=123)"
   ]
  },
  {
   "cell_type": "code",
   "execution_count": 57,
   "metadata": {},
   "outputs": [],
   "source": [
    "# Combine majority class with upsampled minority class\n",
    "df = pd.concat([df_majority, df_minority_upsampled])"
   ]
  },
  {
   "cell_type": "code",
   "execution_count": 58,
   "metadata": {},
   "outputs": [
    {
     "data": {
      "text/plain": [
       "1.0    15144\n",
       "0.0    15144\n",
       "Name: IT, dtype: int64"
      ]
     },
     "execution_count": 58,
     "metadata": {},
     "output_type": "execute_result"
    }
   ],
   "source": [
    "df.IT.value_counts()"
   ]
  },
  {
   "cell_type": "code",
   "execution_count": 59,
   "metadata": {},
   "outputs": [],
   "source": [
    "#Handling missings\n",
    "def Missing_imputation(x):\n",
    "    x = x.fillna(x.median())\n",
    "    return x\n",
    "\n",
    "df=df.apply(Missing_imputation)"
   ]
  },
  {
   "cell_type": "code",
   "execution_count": 69,
   "metadata": {},
   "outputs": [],
   "source": [
    "from sklearn.model_selection import train_test_split\n",
    "from sklearn import metrics"
   ]
  },
  {
   "cell_type": "code",
   "execution_count": 63,
   "metadata": {},
   "outputs": [
    {
     "name": "stdout",
     "output_type": "stream",
     "text": [
      "X_train : 21201\n",
      "X_test : 9087\n",
      "Y_train : 21201\n",
      "Y_test : 9087\n"
     ]
    }
   ],
   "source": [
    "X=df.iloc[:,:-1]\n",
    "y=df.IT\n",
    "\n",
    "X_train, X_test, y_train, y_test = train_test_split(X, y, test_size=0.3, random_state=5)\n",
    "\n",
    "print(\"X_train :\",len(X_train))\n",
    "print(\"X_test :\",len(X_test))\n",
    "print(\"Y_train :\",len(y_train))\n",
    "print(\"Y_test :\",len(y_test))"
   ]
  },
  {
   "cell_type": "markdown",
   "metadata": {},
   "source": [
    "### SVM"
   ]
  },
  {
   "cell_type": "code",
   "execution_count": 64,
   "metadata": {},
   "outputs": [],
   "source": [
    "from sklearn.svm import SVC"
   ]
  },
  {
   "cell_type": "code",
   "execution_count": 65,
   "metadata": {},
   "outputs": [],
   "source": [
    "model = SVC(gamma='scale')"
   ]
  },
  {
   "cell_type": "code",
   "execution_count": 66,
   "metadata": {},
   "outputs": [
    {
     "data": {
      "text/plain": [
       "SVC(C=1.0, break_ties=False, cache_size=200, class_weight=None, coef0=0.0,\n",
       "    decision_function_shape='ovr', degree=3, gamma='scale', kernel='rbf',\n",
       "    max_iter=-1, probability=False, random_state=None, shrinking=True,\n",
       "    tol=0.001, verbose=False)"
      ]
     },
     "execution_count": 66,
     "metadata": {},
     "output_type": "execute_result"
    }
   ],
   "source": [
    "model.fit(X_train, y_train)"
   ]
  },
  {
   "cell_type": "code",
   "execution_count": 67,
   "metadata": {},
   "outputs": [
    {
     "data": {
      "text/plain": [
       "array([1., 1., 0., ..., 1., 0., 0.])"
      ]
     },
     "execution_count": 67,
     "metadata": {},
     "output_type": "execute_result"
    }
   ],
   "source": [
    "y_pred= model.predict(X_test)\n",
    "y_pred"
   ]
  },
  {
   "cell_type": "code",
   "execution_count": 71,
   "metadata": {},
   "outputs": [],
   "source": [
    "svm=pd.DataFrame({'Actual':y_test, 'Predicted':y_pred})"
   ]
  },
  {
   "cell_type": "code",
   "execution_count": 72,
   "metadata": {},
   "outputs": [
    {
     "name": "stdout",
     "output_type": "stream",
     "text": [
      "Accuracy :\n",
      "0.7823264003521514\n"
     ]
    }
   ],
   "source": [
    "print(\"Accuracy :\")\n",
    "print(metrics.accuracy_score(svm.Actual,svm.Predicted))"
   ]
  },
  {
   "cell_type": "code",
   "execution_count": 73,
   "metadata": {},
   "outputs": [
    {
     "data": {
      "text/plain": [
       "Text(0.5, 15.0, 'Predicted label')"
      ]
     },
     "execution_count": 73,
     "metadata": {},
     "output_type": "execute_result"
    },
    {
     "data": {
      "image/png": "[encoded data removed]",
      "text/plain": [
       "<Figure size 432x288 with 2 Axes>"
      ]
     },
     "metadata": {
      "needs_background": "light"
     },
     "output_type": "display_data"
    }
   ],
   "source": [
    "tree_cm = metrics.confusion_matrix(svm.Predicted, svm.Actual, [1,0])\n",
    "\n",
    "sns.heatmap(tree_cm, annot=True,\n",
    "         fmt='.2f',\n",
    "         xticklabels = [\"False\", \"True\"] , yticklabels = [\"False\", \"True\"] )\n",
    "\n",
    "plt.ylabel('True label')\n",
    "plt.xlabel('Predicted label')"
   ]
  },
  {
   "cell_type": "code",
   "execution_count": 74,
   "metadata": {},
   "outputs": [
    {
     "name": "stdout",
     "output_type": "stream",
     "text": [
      "              precision    recall  f1-score   support\n",
      "\n",
      "         0.0       0.81      0.75      0.78      4565\n",
      "         1.0       0.76      0.82      0.79      4522\n",
      "\n",
      "    accuracy                           0.78      9087\n",
      "   macro avg       0.78      0.78      0.78      9087\n",
      "weighted avg       0.78      0.78      0.78      9087\n",
      "\n"
     ]
    }
   ],
   "source": [
    "print(metrics.classification_report(y_test, y_pred))"
   ]
  },
  {
   "cell_type": "markdown",
   "metadata": {},
   "source": [
    "### Un-supervised Learning"
   ]
  },
  {
   "cell_type": "markdown",
   "metadata": {},
   "source": [
    "#### K-means Clustering"
   ]
  },
  {
   "cell_type": "code",
   "execution_count": 81,
   "metadata": {},
   "outputs": [
    {
     "name": "stderr",
     "output_type": "stream",
     "text": [
      "E:\\MyPhoto\\Analytics\\lib\\site-packages\\ipykernel_launcher.py:1: SettingWithCopyWarning: \n",
      "A value is trying to be set on a copy of a slice from a DataFrame.\n",
      "Try using .loc[row_indexer,col_indexer] = value instead\n",
      "\n",
      "See the caveats in the documentation: https://pandas.pydata.org/pandas-docs/stable/user_guide/indexing.html#returning-a-view-versus-a-copy\n",
      "  \"\"\"Entry point for launching an IPython kernel.\n"
     ]
    }
   ],
   "source": [
    "text['RequiredQual_token'] = text['RequiredQual'].astype(str).map(word_tokenize)"
   ]
  },
  {
   "cell_type": "code",
   "execution_count": 82,
   "metadata": {},
   "outputs": [
    {
     "name": "stdout",
     "output_type": "stream",
     "text": [
      "(18892, 13298)\n"
     ]
    }
   ],
   "source": [
    "vec_tf = CountVectorizer(min_df=2)\n",
    "required_qual_tf = vec_tf.fit_transform(text['RequiredQual'])\n",
    "print(required_qual_tf.shape)"
   ]
  },
  {
   "cell_type": "code",
   "execution_count": 83,
   "metadata": {},
   "outputs": [
    {
     "data": {
      "text/plain": [
       "['00', '000', '04', '06', '0is', '0program', '0system', '10', '100', '10g']"
      ]
     },
     "execution_count": 83,
     "metadata": {},
     "output_type": "execute_result"
    }
   ],
   "source": [
    "required_qual_feature_names = (vec_tf.get_feature_names())\n",
    "required_qual_feature_names[:10]"
   ]
  },
  {
   "cell_type": "code",
   "execution_count": 84,
   "metadata": {},
   "outputs": [
    {
     "name": "stdout",
     "output_type": "stream",
     "text": [
      "(18892, 9808)\n"
     ]
    }
   ],
   "source": [
    "vec_tfidf = TfidfVectorizer(max_df=0.7, min_df=3, use_idf=True)\n",
    "required_qual_tfidf = vec_tfidf.fit_transform(text['RequiredQual'])\n",
    "print(required_qual_tfidf.shape)"
   ]
  },
  {
   "cell_type": "code",
   "execution_count": 86,
   "metadata": {},
   "outputs": [],
   "source": [
    "import pickle"
   ]
  },
  {
   "cell_type": "code",
   "execution_count": 87,
   "metadata": {},
   "outputs": [],
   "source": [
    "pickle.dump(required_qual_tfidf, open(\"required_qual_tfidf.pkl\", \"wb\"))\n",
    "pickle.dump(vec_tfidf.vocabulary_, open(\"required_qual_tfidf_features.pkl\", \"wb\"))"
   ]
  },
  {
   "cell_type": "code",
   "execution_count": 91,
   "metadata": {},
   "outputs": [],
   "source": [
    "from sklearn.preprocessing import normalize,Normalizer\n",
    "from sklearn.pipeline import make_pipeline"
   ]
  },
  {
   "cell_type": "code",
   "execution_count": 92,
   "metadata": {},
   "outputs": [],
   "source": [
    "# Use SVD to reduce dimensions\n",
    "svd = TruncatedSVD(1500)\n",
    "normalizer = Normalizer(copy=False)\n",
    "lsa = make_pipeline(svd, normalizer)\n",
    "X_lsa = lsa.fit_transform(required_qual_tfidf)"
   ]
  },
  {
   "cell_type": "code",
   "execution_count": 93,
   "metadata": {},
   "outputs": [
    {
     "name": "stdout",
     "output_type": "stream",
     "text": [
      "Explained variance of the SVD step: 82%\n"
     ]
    }
   ],
   "source": [
    "explained_variance = svd.explained_variance_ratio_.sum()\n",
    "print(\"Explained variance of the SVD step: {}%\".format(int(explained_variance * 100)))"
   ]
  },
  {
   "cell_type": "code",
   "execution_count": 94,
   "metadata": {},
   "outputs": [],
   "source": [
    "range_n_clusters = list (range(4,11))"
   ]
  },
  {
   "cell_type": "code",
   "execution_count": 96,
   "metadata": {},
   "outputs": [],
   "source": [
    "from sklearn.cluster import KMeans"
   ]
  },
  {
   "cell_type": "code",
   "execution_count": 98,
   "metadata": {},
   "outputs": [],
   "source": [
    "from sklearn.metrics.pairwise import cosine_similarity\n",
    "from sklearn.metrics import silhouette_score,pairwise_distances"
   ]
  },
  {
   "cell_type": "code",
   "execution_count": 99,
   "metadata": {},
   "outputs": [
    {
     "name": "stdout",
     "output_type": "stream",
     "text": [
      "For n_clusters = 4, silhouette score is 0.02871606049489046\n",
      "For n_clusters = 5, silhouette score is 0.030202972084703596\n",
      "For n_clusters = 6, silhouette score is 0.03096549460300552\n",
      "For n_clusters = 7, silhouette score is 0.030937856354146222\n",
      "For n_clusters = 8, silhouette score is 0.03280679614831819\n",
      "For n_clusters = 9, silhouette score is 0.03317151172440164\n",
      "For n_clusters = 10, silhouette score is 0.033457686968800825\n"
     ]
    }
   ],
   "source": [
    "for n_clusters in range_n_clusters:\n",
    "    clusterer = KMeans(n_clusters=n_clusters)\n",
    "    preds = clusterer.fit_predict(X_lsa)\n",
    "    centers = clusterer.cluster_centers_\n",
    "\n",
    "    score = silhouette_score(X_lsa, preds, metric='euclidean')\n",
    "    print(\"For n_clusters = {}, silhouette score is {}\".format(n_clusters, score))"
   ]
  },
  {
   "cell_type": "markdown",
   "metadata": {},
   "source": [
    "##### We will select 9 clusters due to high silhouette score"
   ]
  },
  {
   "cell_type": "code",
   "execution_count": 100,
   "metadata": {},
   "outputs": [
    {
     "name": "stdout",
     "output_type": "stream",
     "text": [
      "Wall time: 7.11 s\n",
      "Clusters: 9\n",
      "Silhouette Coefficient for clusters: 0.032\n"
     ]
    }
   ],
   "source": [
    "num_clusters = 9\n",
    "\n",
    "for num in [num_clusters]:\n",
    "    km3 = KMeans(n_clusters=num, init='k-means++', max_iter=1000, n_init=1, random_state=1)\n",
    "    %time km3.fit(X_lsa)\n",
    "    print(\"Clusters: {0}\".format(num))\n",
    "    print(\"Silhouette Coefficient for clusters: %0.3f\"\n",
    "          % metrics.silhouette_score(X_lsa, km3.labels_))"
   ]
  },
  {
   "cell_type": "code",
   "execution_count": 101,
   "metadata": {},
   "outputs": [
    {
     "name": "stdout",
     "output_type": "stream",
     "text": [
      "Cluster 0: ability work degree skills management skill year excellent language good\n",
      "Cluster 1: driving license medical work medicine russian skills pharmaceutical education valid\n",
      "Cluster 2: accounting finance tax work software excellent good year degree financial\n",
      "Cluster 3: development good ability programming language design software web java work\n",
      "Cluster 4: higher education work russian languages excellent skills field good computer\n",
      "Cluster 5: skills excellent work ability russian languages communication university degree strong\n",
      "Cluster 6: banking bank skills economics legislation financial finance work year good\n",
      "Cluster 7: net asp sql framework web good server development work design\n",
      "Cluster 8: confident communicative timely punctual eager minded complete open manner mail\n"
     ]
    }
   ],
   "source": [
    "def print_terms(cm, num):\n",
    "    original_space_centroids = svd.inverse_transform(cm.cluster_centers_)\n",
    "    order_centroids = original_space_centroids.argsort()[:, ::-1]\n",
    "    terms = vec_tfidf.get_feature_names()\n",
    "    for i in range(num):\n",
    "        print(\"Cluster %d:\" % i, end='')\n",
    "        for ind in order_centroids[i, :10]:\n",
    "            print(' %s' % terms[ind], end='')\n",
    "        print()\n",
    "\n",
    "print_terms(km3, num_clusters)"
   ]
  },
  {
   "cell_type": "markdown",
   "metadata": {},
   "source": [
    "### Topic Modelling to determine nature of Jobs over time"
   ]
  },
  {
   "cell_type": "code",
   "execution_count": null,
   "metadata": {},
   "outputs": [],
   "source": [
    "#!pip install spacy"
   ]
  },
  {
   "cell_type": "code",
   "execution_count": 108,
   "metadata": {},
   "outputs": [],
   "source": [
    "import spacy\n",
    "from spacy import displacy\n",
    "from spacy.matcher import Matcher"
   ]
  },
  {
   "cell_type": "code",
   "execution_count": 116,
   "metadata": {},
   "outputs": [],
   "source": [
    "nlp = spacy.load('en', disable=['parser', 'ner'])"
   ]
  },
  {
   "cell_type": "code",
   "execution_count": 106,
   "metadata": {},
   "outputs": [],
   "source": [
    "text['jobpost_token'] = text.jobpost.map(word_tokenize)"
   ]
  },
  {
   "cell_type": "code",
   "execution_count": 117,
   "metadata": {},
   "outputs": [],
   "source": [
    "def pos_tag(texts, allowed_postags=['NOUN', 'ADJ', 'VERB', 'ADV']):\n",
    "    texts_out = []\n",
    "    for sent in texts:\n",
    "        doc = nlp(\" \".join(sent))\n",
    "        texts_out.append([token.lemma_ for token in doc if token.pos_ in allowed_postags])\n",
    "    return texts_out"
   ]
  },
  {
   "cell_type": "code",
   "execution_count": 118,
   "metadata": {},
   "outputs": [],
   "source": [
    "text['jobpost_processed'] = pos_tag(text.jobpost_token, allowed_postags=['NOUN', 'VERB'])"
   ]
  },
  {
   "cell_type": "code",
   "execution_count": 119,
   "metadata": {},
   "outputs": [
    {
     "data": {
      "text/plain": [
       "0        [title, officerposition, location, description...\n",
       "1        [title, time, community, connection, intern, p...\n",
       "2        [cenn, job, title, country, coordinatorpositio...\n",
       "3        [description, lead, enhancement, development, ...\n",
       "4        [title, software, developerposition, location,...\n",
       "                               ...                        \n",
       "18996    [ux/, timeduration, termlocation, description,...\n",
       "18997    [bottling, cjsctitle, category, development, m...\n",
       "18998    [bottling, cjsctitle, marketing, managerterm, ...\n",
       "18999    [head, sale, departmentduration, termlocation,...\n",
       "19000    [cjsctitle, lawyer, departmentterm, timedurati...\n",
       "Name: jobpost_processed, Length: 18892, dtype: object"
      ]
     },
     "execution_count": 119,
     "metadata": {},
     "output_type": "execute_result"
    }
   ],
   "source": [
    "text.jobpost_processed"
   ]
  },
  {
   "cell_type": "code",
   "execution_count": 125,
   "metadata": {},
   "outputs": [],
   "source": [
    "import gensim \n",
    "from gensim.models.doc2vec import Doc2Vec\n",
    "from operator import itemgetter\n",
    "from gensim import corpora"
   ]
  },
  {
   "cell_type": "code",
   "execution_count": 126,
   "metadata": {},
   "outputs": [],
   "source": [
    "dictionary = corpora.Dictionary(text.jobpost_processed)\n",
    "dictionary.filter_extremes(no_below=3, no_above=0.7)"
   ]
  },
  {
   "cell_type": "code",
   "execution_count": 127,
   "metadata": {},
   "outputs": [],
   "source": [
    "dtm_train = [dictionary.doc2bow(d) for d in text.jobpost_processed]\n",
    "lda = gensim.models.ldamodel.LdaModel(dtm_train,num_topics=7,alpha='auto',chunksize=30,id2word=dictionary,passes=20)\n",
    "dtopics_train = lda.get_document_topics(dtm_train)"
   ]
  },
  {
   "cell_type": "code",
   "execution_count": 128,
   "metadata": {},
   "outputs": [
    {
     "data": {
      "text/plain": [
       "[(0,\n",
       "  '0.023*\"accounting\" + 0.022*\"report\" + 0.019*\"prepare\" + 0.019*\"community\" + 0.019*\"finance\" + 0.015*\"child\" + 0.014*\"ensure\" + 0.014*\"education\" + 0.013*\"bank\" + 0.013*\"tax\"'),\n",
       " (1,\n",
       "  '0.037*\"customer\" + 0.031*\"business\" + 0.029*\"marketing\" + 0.029*\"sale\" + 0.026*\"line\" + 0.021*\"market\" + 0.019*\"product\" + 0.019*\"develop\" + 0.014*\"look\" + 0.014*\"communication\"'),\n",
       " (2,\n",
       "  '0.104*\"criterion\" + 0.098*\"eligibility\" + 0.043*\"timeopen\" + 0.040*\"to/\" + 0.031*\"candidates.start\" + 0.016*\"driver\" + 0.016*\"roam\" + 0.015*\"conflict\" + 0.014*\"shift\" + 0.013*\"vivacell\"'),\n",
       " (3,\n",
       "  '0.052*\"design\" + 0.047*\"software\" + 0.045*\"development\" + 0.032*\"test\" + 0.029*\"web\" + 0.029*\"team\" + 0.026*\"develop\" + 0.019*\"developer\" + 0.018*\"code\" + 0.016*\"testing\"'),\n",
       " (4,\n",
       "  '0.029*\"language\" + 0.016*\"form\" + 0.015*\"course\" + 0.015*\"office\" + 0.011*\"fill\" + 0.011*\"applicant\" + 0.011*\"website\" + 0.009*\"note\" + 0.009*\"write\" + 0.009*\"time\"'),\n",
       " (5,\n",
       "  '0.032*\"candidate\" + 0.029*\"ability\" + 0.028*\"language\" + 0.024*\"company\" + 0.020*\"time\" + 0.018*\"year\" + 0.016*\"salary\" + 0.015*\"field\" + 0.015*\"date/\" + 0.014*\"system\"'),\n",
       " (6,\n",
       "  '0.033*\"project\" + 0.017*\"management\" + 0.017*\"support\" + 0.017*\"ensure\" + 0.016*\"development\" + 0.013*\"activity\" + 0.013*\"include\" + 0.012*\"ability\" + 0.012*\"provide\" + 0.011*\"program\"')]"
      ]
     },
     "execution_count": 128,
     "metadata": {},
     "output_type": "execute_result"
    }
   ],
   "source": [
    "lda.show_topics()"
   ]
  },
  {
   "cell_type": "code",
   "execution_count": 129,
   "metadata": {},
   "outputs": [
    {
     "data": {
      "text/html": [
       "<div>\n",
       "<style scoped>\n",
       "    .dataframe tbody tr th:only-of-type {\n",
       "        vertical-align: middle;\n",
       "    }\n",
       "\n",
       "    .dataframe tbody tr th {\n",
       "        vertical-align: top;\n",
       "    }\n",
       "\n",
       "    .dataframe thead th {\n",
       "        text-align: right;\n",
       "    }\n",
       "</style>\n",
       "<table border=\"1\" class=\"dataframe\">\n",
       "  <thead>\n",
       "    <tr style=\"text-align: right;\">\n",
       "      <th></th>\n",
       "      <th>Topic</th>\n",
       "      <th>Nature of Job</th>\n",
       "    </tr>\n",
       "  </thead>\n",
       "  <tbody>\n",
       "    <tr>\n",
       "      <th>0</th>\n",
       "      <td>0</td>\n",
       "      <td>Project Development</td>\n",
       "    </tr>\n",
       "    <tr>\n",
       "      <th>1</th>\n",
       "      <td>1</td>\n",
       "      <td>Website</td>\n",
       "    </tr>\n",
       "    <tr>\n",
       "      <th>2</th>\n",
       "      <td>2</td>\n",
       "      <td>Language Training</td>\n",
       "    </tr>\n",
       "    <tr>\n",
       "      <th>3</th>\n",
       "      <td>3</td>\n",
       "      <td>Language Coordinator</td>\n",
       "    </tr>\n",
       "    <tr>\n",
       "      <th>4</th>\n",
       "      <td>4</td>\n",
       "      <td>Communication</td>\n",
       "    </tr>\n",
       "    <tr>\n",
       "      <th>5</th>\n",
       "      <td>5</td>\n",
       "      <td>Software Development</td>\n",
       "    </tr>\n",
       "    <tr>\n",
       "      <th>6</th>\n",
       "      <td>6</td>\n",
       "      <td>Bank accounting and finance</td>\n",
       "    </tr>\n",
       "  </tbody>\n",
       "</table>\n",
       "</div>"
      ],
      "text/plain": [
       "   Topic                Nature of Job\n",
       "0      0          Project Development\n",
       "1      1                      Website\n",
       "2      2            Language Training\n",
       "3      3         Language Coordinator\n",
       "4      4                Communication\n",
       "5      5         Software Development\n",
       "6      6  Bank accounting and finance"
      ]
     },
     "execution_count": 129,
     "metadata": {},
     "output_type": "execute_result"
    }
   ],
   "source": [
    "pd.DataFrame({'Topic':[0,1,2,3,4,5,6],\n",
    "             'Nature of Job':['Project Development','Website','Language Training','Language Coordinator','Communication',\n",
    "                              'Software Development','Bank accounting and finance']})"
   ]
  },
  {
   "cell_type": "code",
   "execution_count": null,
   "metadata": {},
   "outputs": [],
   "source": []
  },
  {
   "cell_type": "code",
   "execution_count": 130,
   "metadata": {},
   "outputs": [],
   "source": [
    "top_train = [max(t, key=itemgetter(1))[0] for t in dtopics_train]"
   ]
  },
  {
   "cell_type": "code",
   "execution_count": 131,
   "metadata": {},
   "outputs": [
    {
     "data": {
      "text/plain": [
       "Text(0.5, 1.0, 'Topic Frequencies')"
      ]
     },
     "execution_count": 131,
     "metadata": {},
     "output_type": "execute_result"
    },
    {
     "data": {
      "image/png": "[encoded data removed]",
      "text/plain": [
       "<Figure size 432x288 with 1 Axes>"
      ]
     },
     "metadata": {
      "needs_background": "light"
     },
     "output_type": "display_data"
    }
   ],
   "source": [
    "sns.distplot(top_train, kde=False).set_title('Topic Frequencies')"
   ]
  },
  {
   "cell_type": "code",
   "execution_count": 132,
   "metadata": {},
   "outputs": [],
   "source": [
    "dictionary.save('dictionary.dict')"
   ]
  },
  {
   "cell_type": "code",
   "execution_count": 133,
   "metadata": {},
   "outputs": [],
   "source": [
    "doc_term_matrix = [dictionary.doc2bow(doc) for doc in text.jobpost_processed]\n",
    "corpora.MmCorpus.serialize('corpus.mm', doc_term_matrix)"
   ]
  },
  {
   "cell_type": "code",
   "execution_count": 134,
   "metadata": {},
   "outputs": [],
   "source": [
    "lda.save('topic.model')"
   ]
  },
  {
   "cell_type": "code",
   "execution_count": 135,
   "metadata": {},
   "outputs": [],
   "source": [
    "dictionary = gensim.corpora.Dictionary.load('dictionary.dict')\n",
    "corpus = gensim.corpora.MmCorpus('corpus.mm')\n",
    "lda = gensim.models.LdaModel.load('topic.model')"
   ]
  },
  {
   "cell_type": "markdown",
   "metadata": {},
   "source": [
    "### Observing the changes in Topics over the years"
   ]
  },
  {
   "cell_type": "code",
   "execution_count": 136,
   "metadata": {},
   "outputs": [],
   "source": [
    "topics = pd.Series(top_train)\n",
    "text['topic'] = topics.values\n",
    "text = pd.DataFrame(text)"
   ]
  },
  {
   "cell_type": "code",
   "execution_count": 138,
   "metadata": {},
   "outputs": [
    {
     "data": {
      "text/html": [
       "<div>\n",
       "<style scoped>\n",
       "    .dataframe tbody tr th:only-of-type {\n",
       "        vertical-align: middle;\n",
       "    }\n",
       "\n",
       "    .dataframe tbody tr th {\n",
       "        vertical-align: top;\n",
       "    }\n",
       "\n",
       "    .dataframe thead th {\n",
       "        text-align: right;\n",
       "    }\n",
       "</style>\n",
       "<table border=\"1\" class=\"dataframe\">\n",
       "  <thead>\n",
       "    <tr style=\"text-align: right;\">\n",
       "      <th></th>\n",
       "      <th>topic</th>\n",
       "      <th>Year</th>\n",
       "    </tr>\n",
       "  </thead>\n",
       "  <tbody>\n",
       "    <tr>\n",
       "      <th>0</th>\n",
       "      <td>6</td>\n",
       "      <td>2004</td>\n",
       "    </tr>\n",
       "    <tr>\n",
       "      <th>1</th>\n",
       "      <td>4</td>\n",
       "      <td>2004</td>\n",
       "    </tr>\n",
       "    <tr>\n",
       "      <th>2</th>\n",
       "      <td>6</td>\n",
       "      <td>2004</td>\n",
       "    </tr>\n",
       "    <tr>\n",
       "      <th>3</th>\n",
       "      <td>6</td>\n",
       "      <td>2004</td>\n",
       "    </tr>\n",
       "    <tr>\n",
       "      <th>4</th>\n",
       "      <td>5</td>\n",
       "      <td>2004</td>\n",
       "    </tr>\n",
       "  </tbody>\n",
       "</table>\n",
       "</div>"
      ],
      "text/plain": [
       "   topic  Year\n",
       "0      6  2004\n",
       "1      4  2004\n",
       "2      6  2004\n",
       "3      6  2004\n",
       "4      5  2004"
      ]
     },
     "execution_count": 138,
     "metadata": {},
     "output_type": "execute_result"
    }
   ],
   "source": [
    "df=pd.concat([text.topic,job_post.Year],axis=1)\n",
    "df.head()"
   ]
  },
  {
   "cell_type": "code",
   "execution_count": 139,
   "metadata": {},
   "outputs": [
    {
     "data": {
      "text/plain": [
       "Text(0.5, 1.0, 'Topic Frequencies 2004 - 2007')"
      ]
     },
     "execution_count": 139,
     "metadata": {},
     "output_type": "execute_result"
    },
    {
     "data": {
      "image/png": "[encoded data removed]",
      "text/plain": [
       "<Figure size 432x288 with 1 Axes>"
      ]
     },
     "metadata": {
      "needs_background": "light"
     },
     "output_type": "display_data"
    }
   ],
   "source": [
    "# For 2004 - 2007\n",
    "df_04to07 = df[df.Year <= 2007]\n",
    "sns.distplot(df_04to07['topic'], kde=False).set_title('Topic Frequencies 2004 - 2007')"
   ]
  },
  {
   "cell_type": "code",
   "execution_count": 140,
   "metadata": {},
   "outputs": [
    {
     "data": {
      "text/plain": [
       "Text(0.5, 1.0, 'Topic Frequencies 2008 - 2011')"
      ]
     },
     "execution_count": 140,
     "metadata": {},
     "output_type": "execute_result"
    },
    {
     "data": {
      "image/png": "[encoded data removed]",
      "text/plain": [
       "<Figure size 432x288 with 1 Axes>"
      ]
     },
     "metadata": {
      "needs_background": "light"
     },
     "output_type": "display_data"
    }
   ],
   "source": [
    "# For 2008 - 2011\n",
    "df_08to11 = df[(df['Year'] > 2007) & (df['Year'] <= 2011)]\n",
    "sns.distplot(df_08to11['topic'], kde=False).set_title('Topic Frequencies 2008 - 2011')"
   ]
  },
  {
   "cell_type": "code",
   "execution_count": 141,
   "metadata": {},
   "outputs": [
    {
     "data": {
      "text/plain": [
       "Text(0.5, 1.0, 'Topic Frequencies 2012 - 2015')"
      ]
     },
     "execution_count": 141,
     "metadata": {},
     "output_type": "execute_result"
    },
    {
     "data": {
      "image/png": "[encoded data removed]",
      "text/plain": [
       "<Figure size 432x288 with 1 Axes>"
      ]
     },
     "metadata": {
      "needs_background": "light"
     },
     "output_type": "display_data"
    }
   ],
   "source": [
    "# For 2012 - 2015\n",
    "df_12to15 = df[(df['Year'] > 2011) & (df['Year'] <= 2015)]\n",
    "sns.distplot(df_12to15['topic'], kde=False).set_title('Topic Frequencies 2012 - 2015')"
   ]
  },
  {
   "cell_type": "markdown",
   "metadata": {},
   "source": [
    "### Information Extraction"
   ]
  },
  {
   "cell_type": "markdown",
   "metadata": {},
   "source": [
    "#### Information Extraction to obtain company profiles"
   ]
  },
  {
   "cell_type": "code",
   "execution_count": 142,
   "metadata": {},
   "outputs": [
    {
     "data": {
      "text/plain": [
       "0    mentor graphic development service cjsc subsid...\n",
       "1    international research & exchange board (irex)...\n",
       "2    caucasus environmental ngo network anon-govern...\n",
       "3    mentor graphic development service cjsc subsid...\n",
       "4    mentor graphic development service cjsc subsid...\n",
       "Name: AboutC, dtype: object"
      ]
     },
     "execution_count": 142,
     "metadata": {},
     "output_type": "execute_result"
    }
   ],
   "source": [
    "text['AboutC'].head()"
   ]
  },
  {
   "cell_type": "code",
   "execution_count": 144,
   "metadata": {},
   "outputs": [],
   "source": [
    "matcher = Matcher(nlp.vocab)"
   ]
  },
  {
   "cell_type": "code",
   "execution_count": 145,
   "metadata": {},
   "outputs": [],
   "source": [
    "def collect_sents(matcher, doc, i, matches):\n",
    "    match_id, start, end = matches[i]\n",
    "    span = doc[start : end]  # matched span\n",
    "    sent = span.sent  # sentence containing matched span\n",
    "    match_ents = [{'start': span.start_char - sent.start_char,\n",
    "                   'end': span.end_char - sent.start_char,\n",
    "                   'label': 'MATCH'}]\n",
    "    matched_sents.append({'text': sent.text, 'ents': match_ents })"
   ]
  },
  {
   "cell_type": "code",
   "execution_count": 147,
   "metadata": {},
   "outputs": [],
   "source": [
    "pattern1 = [{'POS':'ADJ'},{'ORTH': '-'}, {'POS':'NOUN', 'OP':'+'}, {'LOWER': 'organization'}]\n",
    "pattern2 = [{'POS':'NOUN', 'OP':'+'}, {'LOWER': 'organization'}]\n",
    "pattern3 = [{'POS':'NOUN', 'OP':'+'}, {'LOWER': 'company'}]\n",
    "pattern4 = [{'POS':'NOUN', 'OP':'+'}, {'LOWER': 'services'}]\n",
    "pattern5 = [{'LOWER': 'company'}, {'POS':'VERB'}, {'POS':'NOUN', 'OP':'+'}]\n",
    "pattern6 = [{'LOWER':'provider'}, {'POS':'ADP'}, {'POS':'NOUN',  'OP': '+'}  , {'POS':'CCONJ','OP':'+'}, {'POS':'NOUN','OP':'+'}]\n",
    "pattern7 = [{'LOWER':'provider'}, {'POS':'ADP'}, {'POS':'NOUN',  'OP': '+'}]\n",
    "pattern8 = [{'POS':'VERB'}, {'POS':'NOUN',  'OP': '+'} ]\n",
    "pattern9 = [{'POS':'ADJ'}, {'POS':'NOUN',  'OP': '+'} ]\n",
    "pattern10 = [{'POS':'NOUN'}, {'POS':'ADP'}, {'POS':'NOUN',  'OP': '+'} ]\n",
    "pattern11 = [{'POS':'NOUN'}, {'POS':'NOUN','OP':'+'} ]"
   ]
  },
  {
   "cell_type": "code",
   "execution_count": 148,
   "metadata": {},
   "outputs": [],
   "source": [
    "matcher.add('all', collect_sents, pattern1, pattern2, pattern3, pattern4, pattern5, pattern6, pattern7, pattern8, \n",
    "            pattern9, pattern10, pattern11)"
   ]
  },
  {
   "cell_type": "code",
   "execution_count": null,
   "metadata": {},
   "outputs": [],
   "source": [
    "matched_sents=[]\n",
    "for t in text.AboutC:\n",
    "    if pd.notnull(t) and t != 'NaN':\n",
    "        t = re.sub(r'\\s+', ' ', t)\n",
    "        doc = nlp(t)\n",
    "        matches = matcher(doc)\n",
    "        token_set = []\n",
    "        for match_id, start, end in matches:\n",
    "            string_id = nlp.vocab.strings[match_id]  # get string representation\n",
    "            span = doc[start:end]  # the matched span\n",
    "            token_set.append(span.text)    \n",
    "        matched_sents.append(token_set)"
   ]
  },
  {
   "cell_type": "code",
   "execution_count": 150,
   "metadata": {},
   "outputs": [],
   "source": [
    "flat_list = []\n",
    "for row in matched_sents:\n",
    "    for token in row:\n",
    "        flat_list.append(token)"
   ]
  },
  {
   "cell_type": "code",
   "execution_count": null,
   "metadata": {},
   "outputs": [],
   "source": [
    "plt.figure(figsize=(20, 9))\n",
    "fd = nltk.FreqDist(flat_list)  # case sensitive!\n",
    "fd.most_common(50)\n",
    "fd.plot(50)"
   ]
  },
  {
   "cell_type": "markdown",
   "metadata": {},
   "source": [
    "### Job Similarity"
   ]
  },
  {
   "cell_type": "code",
   "execution_count": 152,
   "metadata": {},
   "outputs": [],
   "source": [
    "text['JobDescription_token'] = text['JobDescription'].map(word_tokenize)\n",
    "text['RequiredQual_token'] = text['RequiredQual'].map(word_tokenize)\n",
    "text['JobRequirment_token'] = text['JobRequirment'].map(word_tokenize)"
   ]
  },
  {
   "cell_type": "code",
   "execution_count": 153,
   "metadata": {},
   "outputs": [],
   "source": [
    "tfidf_model = TfidfVectorizer()\n",
    "Title_tfidf = tfidf_model.fit_transform(text['Title'])\n",
    "JobDescription_tfidf = tfidf_model.fit_transform(text['JobDescription'])\n",
    "RequiredQual_tfidf = tfidf_model.fit_transform(text['RequiredQual'])\n",
    "JobRequirment_tfidf = tfidf_model.fit_transform(text['JobRequirment'])"
   ]
  },
  {
   "cell_type": "code",
   "execution_count": 154,
   "metadata": {},
   "outputs": [],
   "source": [
    "from sklearn.metrics.pairwise import cosine_similarity"
   ]
  },
  {
   "cell_type": "code",
   "execution_count": 155,
   "metadata": {},
   "outputs": [],
   "source": [
    "def find_similar_jobs_tfidf(index, top_n = 5):\n",
    "    Title_tfidf_cosine = cosine_similarity(Title_tfidf[index:index+1], Title_tfidf).flatten()\n",
    "    JobDescription_tfidf_cosine = cosine_similarity(JobDescription_tfidf[index:index+1], JobDescription_tfidf).flatten()\n",
    "    RequiredQual_tfidf_cosine = cosine_similarity(RequiredQual_tfidf[index:index+1], RequiredQual_tfidf).flatten()\n",
    "    JobRequirment_tfidf_cosine = cosine_similarity(JobRequirment_tfidf[index:index+1], JobRequirment_tfidf).flatten()\n",
    "\n",
    "    average_cosine = (Title_tfidf_cosine +JobDescription_tfidf_cosine+RequiredQual_tfidf_cosine+JobRequirment_tfidf_cosine)/4.0\n",
    "    related_docs_indices = [i for i in average_cosine.argsort()[::-1] if i != index]\n",
    "    return [(index, average_cosine[index]) for index in related_docs_indices][0:top_n]"
   ]
  },
  {
   "cell_type": "markdown",
   "metadata": {},
   "source": [
    "### Chief Financial Officer Jobs"
   ]
  },
  {
   "cell_type": "code",
   "execution_count": 156,
   "metadata": {},
   "outputs": [
    {
     "data": {
      "text/plain": [
       "jobpost                 ameria investment consulting companyjob title:...\n",
       "Title                                             chief financial officer\n",
       "JobRequirment           - supervises financial management administrati...\n",
       "JobDescription          ameria investment consulting seeking achief fi...\n",
       "RequiredQual            perform successfully, anindividual must able p...\n",
       "AboutC                  mentor graphic development service cjsc subsid...\n",
       "RequiredQual_token      [perform, successfully, ,, anindividual, must,...\n",
       "jobpost_token           [ameria, investment, consulting, companyjob, t...\n",
       "jobpost_processed       [title, officerposition, location, description...\n",
       "topic                                                                   6\n",
       "JobDescription_token    [ameria, investment, consulting, seeking, achi...\n",
       "JobRequirment_token     [-, supervises, financial, management, adminis...\n",
       "Name: 0, dtype: object"
      ]
     },
     "execution_count": 156,
     "metadata": {},
     "output_type": "execute_result"
    }
   ],
   "source": [
    "text.iloc[0]"
   ]
  },
  {
   "cell_type": "code",
   "execution_count": 157,
   "metadata": {},
   "outputs": [
    {
     "name": "stdout",
     "output_type": "stream",
     "text": [
      "jobpost                 \"gritti\" llctitle: chief financial officerterm...\n",
      "Title                                             chief financial officer\n",
      "JobRequirment           general responsibilities: - assist performing ...\n",
      "JobDescription          gritti inviting highly qualifiedprofessionals ...\n",
      "RequiredQual            - master equivalent university degree finance ...\n",
      "AboutC                  gritti franchisee stefano ricci andother fashi...\n",
      "RequiredQual_token      [-, master, equivalent, university, degree, fi...\n",
      "jobpost_token           [``, gritti, '', llctitle, :, chief, financial...\n",
      "jobpost_processed       [gritti, llctitle, officerterm, timestart, dat...\n",
      "topic                                                                   6\n",
      "JobDescription_token    [gritti, inviting, highly, qualifiedprofession...\n",
      "JobRequirment_token     [general, responsibilities, :, -, assist, perf...\n",
      "Name: 8120, dtype: object\n",
      "SIMILARITY SCORE:  0.38595423509717625\n",
      "jobpost                 river islandtitle: chief financial officerloca...\n",
      "Title                                             chief financial officer\n",
      "JobRequirment           - develop tool system provide critical financi...\n",
      "JobDescription          river island seeking chief financial officer w...\n",
      "RequiredQual            - master degree management, finance economics;...\n",
      "AboutC                  aldi retail cjsc official representative ofclo...\n",
      "RequiredQual_token      [-, master, degree, management, ,, finance, ec...\n",
      "jobpost_token           [river, islandtitle, :, chief, financial, offi...\n",
      "jobpost_processed       [officerlocation, description, island, seek, o...\n",
      "topic                                                                   6\n",
      "JobDescription_token    [river, island, seeking, chief, financial, off...\n",
      "JobRequirment_token     [-, develop, tool, system, provide, critical, ...\n",
      "Name: 11223, dtype: object\n",
      "SIMILARITY SCORE:  0.37328005111062557\n",
      "jobpost                 organization implementation north-south road c...\n",
      "Title                                             chief financial officer\n",
      "JobRequirment           financial management nsrcip t1 & t2 project pr...\n",
      "JobDescription          chief financial officer (cfo) support thechief...\n",
      "RequiredQual            - degree accounting, finance, business, law pu...\n",
      "AboutC                  government partnership asiandevelopment bank (...\n",
      "RequiredQual_token      [-, degree, accounting, ,, finance, ,, busines...\n",
      "jobpost_token           [organization, implementation, north-south, ro...\n",
      "jobpost_processed       [organization, implementation, sncotitle, offi...\n",
      "topic                                                                   6\n",
      "JobDescription_token    [chief, financial, officer, (, cfo, ), support...\n",
      "JobRequirment_token     [financial, management, nsrcip, t1, &, t2, pro...\n",
      "Name: 12368, dtype: object\n",
      "SIMILARITY SCORE:  0.37002745361169825\n",
      "jobpost                 datacom cjsctitle: chief financial officerterm...\n",
      "Title                                             chief financial officer\n",
      "JobRequirment           responsibility include limited to:- assist per...\n",
      "JobDescription          datacom (adc) seeking highlymotivated cfo take...\n",
      "RequiredQual            - master degree accounting, finance;- 5-7 year...\n",
      "AboutC                  datacom (adc) norwegian-armeniantelecommunicat...\n",
      "RequiredQual_token      [-, master, degree, accounting, ,, finance, ;,...\n",
      "jobpost_token           [datacom, cjsctitle, :, chief, financial, offi...\n",
      "jobpost_processed       [officerterm, timeopen, eligibility, criterion...\n",
      "topic                                                                   6\n",
      "JobDescription_token    [datacom, (, adc, ), seeking, highlymotivated,...\n",
      "JobRequirment_token     [responsibility, include, limited, to, :, -, a...\n",
      "Name: 8319, dtype: object\n",
      "SIMILARITY SCORE:  0.3606743434355582\n",
      "jobpost                 \"newlita\" llctitle: chief financial officerloc...\n",
      "Title                                             chief financial officer\n",
      "JobRequirment           - support annual budgeting process gathering i...\n",
      "JobDescription          newlita seeking chief financial officer tointe...\n",
      "RequiredQual            - master degree finance accounting; acca plus;...\n",
      "AboutC                                \"newlita\" stone processing factory.\n",
      "RequiredQual_token      [-, master, degree, finance, accounting, ;, ac...\n",
      "jobpost_token           [``, newlita, '', llctitle, :, chief, financia...\n",
      "jobpost_processed       [llctitle, officerlocation, description, newli...\n",
      "topic                                                                   6\n",
      "JobDescription_token    [newlita, seeking, chief, financial, officer, ...\n",
      "JobRequirment_token     [-, support, annual, budgeting, process, gathe...\n",
      "Name: 11366, dtype: object\n",
      "SIMILARITY SCORE:  0.36001408400028434\n"
     ]
    }
   ],
   "source": [
    "for index, score in find_similar_jobs_tfidf(0):\n",
    "    print(text.iloc[index])\n",
    "    print(\"SIMILARITY SCORE: \", score)"
   ]
  },
  {
   "cell_type": "markdown",
   "metadata": {},
   "source": [
    "### Intern Jobs"
   ]
  },
  {
   "cell_type": "code",
   "execution_count": 158,
   "metadata": {},
   "outputs": [
    {
     "data": {
      "text/plain": [
       "jobpost                 international research & exchange board (irex)...\n",
       "Title                   full-time community connection intern (paid in...\n",
       "JobRequirment           - participate application design;- provide nec...\n",
       "JobDescription          incumbent work direct supervision ofthe presid...\n",
       "RequiredQual            - bachelor degree; master preferred;- excellen...\n",
       "AboutC                  international research & exchange board (irex)...\n",
       "RequiredQual_token      [-, bachelor, degree, ;, master, preferred, ;,...\n",
       "jobpost_token           [international, research, &, exchange, board, ...\n",
       "jobpost_processed       [title, time, community, connection, intern, p...\n",
       "topic                                                                   4\n",
       "JobDescription_token    [incumbent, work, direct, supervision, ofthe, ...\n",
       "JobRequirment_token     [-, participate, application, design, ;, -, pr...\n",
       "Name: 1, dtype: object"
      ]
     },
     "execution_count": 158,
     "metadata": {},
     "output_type": "execute_result"
    }
   ],
   "source": [
    "text.iloc[1]"
   ]
  },
  {
   "cell_type": "code",
   "execution_count": 159,
   "metadata": {},
   "outputs": [
    {
     "name": "stdout",
     "output_type": "stream",
     "text": [
      "jobpost                 international research & exchange board (irex)...\n",
      "Title                       non-paid part full time administrative intern\n",
      "JobRequirment           - participate application design;- provide nec...\n",
      "JobDescription          incumbent work direct supervision ofthe presid...\n",
      "RequiredQual            - excellent communication skills;- good oral w...\n",
      "AboutC                  international research & exchange board (irex)...\n",
      "RequiredQual_token      [-, excellent, communication, skills, ;, -, go...\n",
      "jobpost_token           [international, research, &, exchange, board, ...\n",
      "jobpost_processed       [title, pay, part, time, internduration, month...\n",
      "topic                                                                   4\n",
      "JobDescription_token    [incumbent, work, direct, supervision, ofthe, ...\n",
      "JobRequirment_token     [-, participate, application, design, ;, -, pr...\n",
      "Name: 11, dtype: object\n",
      "SIMILARITY SCORE:  0.6698631101160858\n",
      "jobpost                 military institute mod rajob title: teacher (f...\n",
      "Title                                                 teacher (full time)\n",
      "JobRequirment           - participate application design;- provide nec...\n",
      "JobDescription          incumbent work direct supervision ofthe presid...\n",
      "RequiredQual            - degree computer science, information technol...\n",
      "AboutC                  mentor graphic development service cjsc subsid...\n",
      "RequiredQual_token      [-, degree, computer, science, ,, information,...\n",
      "jobpost_token           [military, institute, mod, rajob, title, :, te...\n",
      "jobpost_processed       [teacher, time, position, location, armeniareq...\n",
      "topic                                                                   5\n",
      "JobDescription_token    [incumbent, work, direct, supervision, ofthe, ...\n",
      "JobRequirment_token     [-, participate, application, design, ;, -, pr...\n",
      "Name: 114, dtype: object\n",
      "SIMILARITY SCORE:  0.6606886749307503\n",
      "jobpost                 international research & exchange board (irex)...\n",
      "Title                         non-paid part full time programmatic intern\n",
      "JobRequirment           - participate application design;- provide nec...\n",
      "JobDescription          incumbent work direct supervision ofthe presid...\n",
      "RequiredQual            - excellent communication skills;- good oral w...\n",
      "AboutC                  international research & exchange board (irex)...\n",
      "RequiredQual_token      [-, excellent, communication, skills, ;, -, go...\n",
      "jobpost_token           [international, research, &, exchange, board, ...\n",
      "jobpost_processed       [title, pay, part, time, internduration, month...\n",
      "topic                                                                   4\n",
      "JobDescription_token    [incumbent, work, direct, supervision, ofthe, ...\n",
      "JobRequirment_token     [-, participate, application, design, ;, -, pr...\n",
      "Name: 7, dtype: object\n",
      "SIMILARITY SCORE:  0.658641357418221\n",
      "jobpost                 international research & exchange board (irex)...\n",
      "Title                                  administrative programmatic intern\n",
      "JobRequirment           - participate application design;- provide nec...\n",
      "JobDescription          incumbent work direct supervision ofthe presid...\n",
      "RequiredQual            - fluency english armenian;- good communicatio...\n",
      "AboutC                  international research & exchange board (irex)...\n",
      "RequiredQual_token      [-, fluency, english, armenian, ;, -, good, co...\n",
      "jobpost_token           [international, research, &, exchange, board, ...\n",
      "jobpost_processed       [title, month, monthslocation, program, office...\n",
      "topic                                                                   4\n",
      "JobDescription_token    [incumbent, work, direct, supervision, ofthe, ...\n",
      "JobRequirment_token     [-, participate, application, design, ;, -, pr...\n",
      "Name: 127, dtype: object\n",
      "SIMILARITY SCORE:  0.6098029286898458\n",
      "jobpost                 international research & exchange board (irex)...\n",
      "Title                                  administrative programmatic intern\n",
      "JobRequirment           - participate application design;- provide nec...\n",
      "JobDescription          incumbent work direct supervision ofthe presid...\n",
      "RequiredQual            - fluency english armenian;- good communicatio...\n",
      "AboutC                  international research & exchange board (irex)...\n",
      "RequiredQual_token      [-, fluency, english, armenian, ;, -, good, co...\n",
      "jobpost_token           [international, research, &, exchange, board, ...\n",
      "jobpost_processed       [title, month, monthslocation, iatp, office, y...\n",
      "topic                                                                   4\n",
      "JobDescription_token    [incumbent, work, direct, supervision, ofthe, ...\n",
      "JobRequirment_token     [-, participate, application, design, ;, -, pr...\n",
      "Name: 125, dtype: object\n",
      "SIMILARITY SCORE:  0.6098029286898458\n"
     ]
    }
   ],
   "source": [
    "for index, score in find_similar_jobs_tfidf(1):\n",
    "    print(text.iloc[index])\n",
    "    print(\"SIMILARITY SCORE: \", score)"
   ]
  },
  {
   "cell_type": "markdown",
   "metadata": {},
   "source": [
    "### Country Coordinator"
   ]
  },
  {
   "cell_type": "code",
   "execution_count": 160,
   "metadata": {},
   "outputs": [
    {
     "data": {
      "text/plain": [
       "jobpost                 caucasus environmental ngo network (cenn)job t...\n",
       "Title                                                 country coordinator\n",
       "JobRequirment           - working country director provide environment...\n",
       "JobDescription          public outreach strengthening growingnetwork e...\n",
       "RequiredQual            - degree environmentally related field, 5 year...\n",
       "AboutC                  caucasus environmental ngo network anon-govern...\n",
       "RequiredQual_token      [-, degree, environmentally, related, field, ,...\n",
       "jobpost_token           [caucasus, environmental, ngo, network, (, cen...\n",
       "jobpost_processed       [cenn, job, title, country, coordinatorpositio...\n",
       "topic                                                                   6\n",
       "JobDescription_token    [public, outreach, strengthening, growingnetwo...\n",
       "JobRequirment_token     [-, working, country, director, provide, envir...\n",
       "Name: 2, dtype: object"
      ]
     },
     "execution_count": 160,
     "metadata": {},
     "output_type": "execute_result"
    }
   ],
   "source": [
    "text.iloc[2]"
   ]
  },
  {
   "cell_type": "code",
   "execution_count": 161,
   "metadata": {},
   "outputs": [
    {
     "name": "stdout",
     "output_type": "stream",
     "text": [
      "jobpost                 caucasus environmental ngo networktitle: count...\n",
      "Title                                               country coordinator -\n",
      "JobRequirment           - write first hand articles, conduct interview...\n",
      "JobDescription          cenn - caucasus environmental ngo network - lo...\n",
      "RequiredQual            1. education: university education environment...\n",
      "AboutC                  caucasus environmental ngo network anon-govern...\n",
      "RequiredQual_token      [1., education, :, university, education, envi...\n",
      "jobpost_token           [caucasus, environmental, ngo, networktitle, :...\n",
      "jobpost_processed       [country, coordinator, armeniaannouncement, co...\n",
      "topic                                                                   6\n",
      "JobDescription_token    [cenn, -, caucasus, environmental, ngo, networ...\n",
      "JobRequirment_token     [-, write, first, hand, articles, ,, conduct, ...\n",
      "Name: 404, dtype: object\n",
      "SIMILARITY SCORE:  0.43129875823884634\n",
      "jobpost                 veya limitedtitle: country coordinatorannounce...\n",
      "Title                                                 country coordinator\n",
      "JobRequirment           - coordinate activity office staff middle east...\n",
      "JobDescription          veya limited need experienced business manager...\n",
      "RequiredQual            - university degree middle east studies, inter...\n",
      "AboutC                  veya limited multi-functional engaged inintern...\n",
      "RequiredQual_token      [-, university, degree, middle, east, studies,...\n",
      "jobpost_token           [veya, limitedtitle, :, country, coordinatoran...\n",
      "jobpost_processed       [country, coordinatorannouncement, code, 003op...\n",
      "topic                                                                   6\n",
      "JobDescription_token    [veya, limited, need, experienced, business, m...\n",
      "JobRequirment_token     [-, coordinate, activity, office, staff, middl...\n",
      "Name: 13497, dtype: object\n",
      "SIMILARITY SCORE:  0.2683112946581559\n",
      "jobpost                 veya ltd.title: country coordinatorterm: full-...\n",
      "Title                                                 country coordinator\n",
      "JobRequirment           - negotiate potential customers;- lobby suppor...\n",
      "JobDescription          veya ltd. looking qualified countrycoordinator...\n",
      "RequiredQual            - least 5 year experience project management;-...\n",
      "AboutC                  mentor graphic development service cjsc subsid...\n",
      "RequiredQual_token      [-, least, 5, year, experience, project, manag...\n",
      "jobpost_token           [veya, ltd.title, :, country, coordinatorterm,...\n",
      "jobpost_processed       [country, coordinatorterm, timestart, date/, t...\n",
      "topic                                                                   6\n",
      "JobDescription_token    [veya, ltd., looking, qualified, countrycoordi...\n",
      "JobRequirment_token     [-, negotiate, potential, customers, ;, -, lob...\n",
      "Name: 18907, dtype: object\n",
      "SIMILARITY SCORE:  0.261345940339949\n",
      "jobpost                 actr/ accelsjob title: country directorpositio...\n",
      "Title                                                    country director\n",
      "JobRequirment           primary responsibility include: recruitment an...\n",
      "JobDescription          country director responsible maintainingameric...\n",
      "RequiredQual            - excellent communication skills;- good oral w...\n",
      "AboutC                  mentor graphic development service cjsc subsid...\n",
      "RequiredQual_token      [-, excellent, communication, skills, ;, -, go...\n",
      "jobpost_token           [actr/, accelsjob, title, :, country, director...\n",
      "jobpost_processed       [title, country, directorposition, location, d...\n",
      "topic                                                                   6\n",
      "JobDescription_token    [country, director, responsible, maintainingam...\n",
      "JobRequirment_token     [primary, responsibility, include, :, recruitm...\n",
      "Name: 62, dtype: object\n",
      "SIMILARITY SCORE:  0.2188786819251335\n",
      "jobpost                 accept employment agencytitle: country manager...\n",
      "Title                                                     country manager\n",
      "JobRequirment           - represent armenia;- lead, organize manage ac...\n",
      "JobDescription          looking country manager work aforeign fast mov...\n",
      "RequiredQual            - higher education;- several year work experie...\n",
      "AboutC                  mentor graphic development service cjsc subsid...\n",
      "RequiredQual_token      [-, higher, education, ;, -, several, year, wo...\n",
      "jobpost_token           [accept, employment, agencytitle, :, country, ...\n",
      "jobpost_processed       [accept, employment, agencytitle, country, man...\n",
      "topic                                                                   5\n",
      "JobDescription_token    [looking, country, manager, work, aforeign, fa...\n",
      "JobRequirment_token     [-, represent, armenia, ;, -, lead, ,, organiz...\n",
      "Name: 1563, dtype: object\n",
      "SIMILARITY SCORE:  0.2182749951138345\n"
     ]
    }
   ],
   "source": [
    "for index, score in find_similar_jobs_tfidf(2):\n",
    "    print(text.iloc[index])\n",
    "    print(\"SIMILARITY SCORE: \", score)"
   ]
  },
  {
   "cell_type": "markdown",
   "metadata": {},
   "source": [
    "### Using Pretrained Word2Vec Embedding"
   ]
  },
  {
   "cell_type": "code",
   "execution_count": 162,
   "metadata": {},
   "outputs": [
    {
     "name": "stderr",
     "output_type": "stream",
     "text": [
      "E:\\MyPhoto\\Analytics\\lib\\site-packages\\ipykernel_launcher.py:3: UserWarning: [W007] The model you're using has no word vectors loaded, so the result of the Doc.similarity method will be based on the tagger, parser and NER, which may not give useful similarity judgements. This may happen if you're using one of the small models, e.g. `en_core_web_sm`, which don't ship with word vectors and only use context-sensitive tensors. You can always add your own word vectors, or use one of the larger models instead if available.\n",
      "  This is separate from the ipykernel package so we can avoid doing imports until\n"
     ]
    },
    {
     "name": "stdout",
     "output_type": "stream",
     "text": [
      "DOC1:\n",
      "chief financial officer \n",
      "\n",
      "DOC2:\n",
      " country coordinator \n",
      "\n",
      " 0.5329448254832846\n"
     ]
    }
   ],
   "source": [
    "doc1 = nlp(text.iloc[0]['Title'])\n",
    "doc2 = nlp(text.iloc[2]['Title'])\n",
    "similarity = doc1.similarity(doc2)\n",
    "print(\"DOC1:\\n\" + doc1.text, \"\\n\\nDOC2:\\n\", doc2.text, \"\\n\\n\", similarity)"
   ]
  },
  {
   "cell_type": "code",
   "execution_count": 163,
   "metadata": {},
   "outputs": [
    {
     "name": "stdout",
     "output_type": "stream",
     "text": [
      "DOC1:\n",
      "perform successfully, anindividual must able perform essential duty satisfactorily.the requirement listed representative knowledge,skill, and/or ability required.knowledge of:- generally accepted accounting principles;- local accounting standard legislation;- state reporting requirement pertaining accounting;- principle practice financial management budgeting;- principle practice financial system design analysis;- principle practice contract management, record management,and risk management;- principle practice management supervision;- principle practice information system management.ability to:- apply sound fiscal administrative practice companysactivities;- plan, organize supervise work subordinate employees,including training them, assigning evaluating work, andproviding performance feedback;- critically analyze fiscal administrative policies, practices,procedures, systems, recommend implement change needed;- gather synthesize financial information variety sourcesand present variety audience differing financialmanagement analysis expertise;- prepare detailed, comprehensive financial reports, includingexplanatory text;- operate ibm-compatible personal computer, including word processing,spreadsheet, database software applications;- operate specialized software application support financialmanagement budgeting functions.qualifications:- minimum 5-7 year accounting/ corporate finance/ bankingexperience, including role cfo;- excellent finance accounting technical skill coupled ademonstrated knowledge key financial function consultingcompany context - accounting, finance, control, treasury, reserving, andreporting;- strong financial planning analytical skill experience theability work closely support ceo executive instrategic development implementation;- excellent leadership, management supervisory track record ofattracting, selecting, developing, rewarding retaining high-caliber,accounting finance executive team achieve business goals;- undergraduate degree finance, business, relateddiscipline required. cpa, cfa, acca financialcertification highly preferred, master degree businessadministration, accounting finance;- fluency english, russian outstanding writingskills;- excellent analytical, communication, teamwork, interpersonal skills;- need well organized detail-oriented well goal/ resultdriven able deal complex issues. \n",
      "\n",
      "DOC2:\n",
      " - degree environmentally related field, 5 year relevantexperience;- oral written fluency armenian, russian english;- knowledge/ experience working environmental issue specific toarmenia plus.remuneration: commensurate experience. \n",
      "\n",
      " 0.90516379183748\n"
     ]
    },
    {
     "name": "stderr",
     "output_type": "stream",
     "text": [
      "E:\\MyPhoto\\Analytics\\lib\\site-packages\\ipykernel_launcher.py:3: UserWarning: [W007] The model you're using has no word vectors loaded, so the result of the Doc.similarity method will be based on the tagger, parser and NER, which may not give useful similarity judgements. This may happen if you're using one of the small models, e.g. `en_core_web_sm`, which don't ship with word vectors and only use context-sensitive tensors. You can always add your own word vectors, or use one of the larger models instead if available.\n",
      "  This is separate from the ipykernel package so we can avoid doing imports until\n"
     ]
    }
   ],
   "source": [
    "# Original text - RequiredQual\n",
    "doc1 = nlp(text.iloc[0]['RequiredQual'])\n",
    "doc2 = nlp(text.iloc[2]['RequiredQual'])\n",
    "similarity = doc1.similarity(doc2)\n",
    "print(\"DOC1:\\n\" + doc1.text, \"\\n\\nDOC2:\\n\", doc2.text, \"\\n\\n\", similarity)"
   ]
  },
  {
   "cell_type": "code",
   "execution_count": 164,
   "metadata": {},
   "outputs": [
    {
     "name": "stdout",
     "output_type": "stream",
     "text": [
      "DOC1:\n",
      "perform successfully , anindividual must able perform essential duty satisfactorily.the requirement listed representative knowledge , skill , and/or ability required.knowledge of : - generally accepted accounting principles ; - local accounting standard legislation ; - state reporting requirement pertaining accounting ; - principle practice financial management budgeting ; - principle practice financial system design analysis ; - principle practice contract management , record management , and risk management ; - principle practice management supervision ; - principle practice information system management.ability to : - apply sound fiscal administrative practice companysactivities ; - plan , organize supervise work subordinate employees , including training them , assigning evaluating work , andproviding performance feedback ; - critically analyze fiscal administrative policies , practices , procedures , systems , recommend implement change needed ; - gather synthesize financial information variety sourcesand present variety audience differing financialmanagement analysis expertise ; - prepare detailed , comprehensive financial reports , includingexplanatory text ; - operate ibm-compatible personal computer , including word processing , spreadsheet , database software applications ; - operate specialized software application support financialmanagement budgeting functions.qualifications : - minimum 5-7 year accounting/ corporate finance/ bankingexperience , including role cfo ; - excellent finance accounting technical skill coupled ademonstrated knowledge key financial function consultingcompany context - accounting , finance , control , treasury , reserving , andreporting ; - strong financial planning analytical skill experience theability work closely support ceo executive instrategic development implementation ; - excellent leadership , management supervisory track record ofattracting , selecting , developing , rewarding retaining high-caliber , accounting finance executive team achieve business goals ; - undergraduate degree finance , business , relateddiscipline required . cpa , cfa , acca financialcertification highly preferred , master degree businessadministration , accounting finance ; - fluency english , russian outstanding writingskills ; - excellent analytical , communication , teamwork , interpersonal skills ; - need well organized detail-oriented well goal/ resultdriven able deal complex issues . \n",
      "\n",
      "DOC2:\n",
      " - degree environmentally related field , 5 year relevantexperience ; - oral written fluency armenian , russian english ; - knowledge/ experience working environmental issue specific toarmenia plus.remuneration : commensurate experience . \n",
      "\n",
      " 0.9005658052761566\n"
     ]
    },
    {
     "name": "stderr",
     "output_type": "stream",
     "text": [
      "E:\\MyPhoto\\Analytics\\lib\\site-packages\\ipykernel_launcher.py:4: UserWarning: [W007] The model you're using has no word vectors loaded, so the result of the Doc.similarity method will be based on the tagger, parser and NER, which may not give useful similarity judgements. This may happen if you're using one of the small models, e.g. `en_core_web_sm`, which don't ship with word vectors and only use context-sensitive tensors. You can always add your own word vectors, or use one of the larger models instead if available.\n",
      "  after removing the cwd from sys.path.\n"
     ]
    }
   ],
   "source": [
    "# removing stopwords and punctuations\n",
    "doc1 = nlp(' '.join(text.iloc[0]['RequiredQual_token']))\n",
    "doc2 = nlp(' '.join(text.iloc[2]['RequiredQual_token']))\n",
    "similarity = doc1.similarity(doc2)\n",
    "print(\"DOC1:\\n\" + doc1.text, \"\\n\\nDOC2:\\n\", doc2.text, \"\\n\\n\", similarity)"
   ]
  },
  {
   "cell_type": "code",
   "execution_count": null,
   "metadata": {},
   "outputs": [],
   "source": []
  }
 ],
 "metadata": {
  "kernelspec": {
   "display_name": "Python 3",
   "language": "python",
   "name": "python3"
  },
  "language_info": {
   "codemirror_mode": {
    "name": "ipython",
    "version": 3
   },
   "file_extension": ".py",
   "mimetype": "text/x-python",
   "name": "python",
   "nbconvert_exporter": "python",
   "pygments_lexer": "ipython3",
   "version": "3.7.6"
  }
 },
 "nbformat": 4,
 "nbformat_minor": 4
}
